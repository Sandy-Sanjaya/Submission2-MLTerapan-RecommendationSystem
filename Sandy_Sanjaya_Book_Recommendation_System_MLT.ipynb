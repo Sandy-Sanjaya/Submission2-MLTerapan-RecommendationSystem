{
  "nbformat": 4,
  "nbformat_minor": 0,
  "metadata": {
    "colab": {
      "provenance": [],
      "gpuType": "T4"
    },
    "kernelspec": {
      "name": "python3",
      "display_name": "Python 3"
    },
    "language_info": {
      "name": "python"
    },
    "accelerator": "GPU"
  },
  "cells": [
    {
      "cell_type": "markdown",
      "source": [
        "# **Proyek Recommendation System: [Book Recomemendation System]**\n",
        "*   Nama: Sandy Sanjaya\n",
        "*   Email: sandyysanjayaa@upi.edu\n",
        "*   ID Dicoding: Sandy Sanjaya"
      ],
      "metadata": {
        "id": "lzZfI081jiPx"
      }
    },
    {
      "cell_type": "markdown",
      "source": [
        "Selama beberapa dekade terakhir, dengan berkembangnya platform seperti YouTube, Amazon, dan Netflix, sistem rekomendasi telah menjadi bagian yang tidak terpisahkan dari kehidupan digital kita. Dalam berbagai layanan digital seperti e-commerce, platform streaming, hingga iklan daring, sistem rekomendasi membantu menyarankan konten yang sesuai dengan preferensi pengguna — mulai dari produk untuk dibeli, film untuk ditonton, hingga buku untuk dibaca.\n",
        "\n",
        "Secara umum, sistem rekomendasi adalah algoritma yang bertujuan menyarankan item relevan kepada pengguna, berdasarkan minat dan pola interaksi mereka. Di banyak industri, sistem ini sangat krusial karena mampu meningkatkan pendapatan secara signifikan dan menjadi keunggulan kompetitif utama. Salah satu bukti pentingnya sistem ini adalah saat Netflix mengadakan tantangan “Netflix Prize” dengan hadiah 1 juta dolar AS, untuk siapa pun yang berhasil menciptakan sistem rekomendasi yang lebih baik dari algoritma internal mereka.\n",
        "\n",
        "Dalam konteks literasi dan industri buku, sistem rekomendasi memiliki potensi besar untuk membantu pembaca menemukan buku baru yang sesuai dengan preferensi mereka, sekaligus membantu penerbit dan toko buku daring untuk meningkatkan keterlibatan dan penjualan.\n",
        "\n",
        "**Pertanyaan Utama:** <br>\n",
        "- Bagaimana mengidentifikasi pola preferensi pengguna terhadap buku berdasarkan data rating yang tersedia?\n",
        "\n",
        "- Bagaimana menyarankan buku yang belum pernah dibaca oleh pengguna, namun memiliki kemungkinan besar untuk disukai, berdasarkan kesamaan preferensi antar pengguna?\n",
        "\n",
        "- Bagaimana menyajikan hasil eksplorasi data dalam bentuk visualisasi untuk mendukung proses analisis dan pemodelan sistem rekomendasi?\n",
        "\n",
        "**Tujuan:**<br>\n",
        "- Mengolah data rating pengguna untuk memahami distribusi preferensi dan interaksi antar pengguna dan buku.\n",
        "\n",
        "- Membangun sistem rekomendasi berbasis collaborative filtering yang mampu menyarankan buku sesuai dengan selera pengguna yang memiliki pola interaksi serupa.\n",
        "\n",
        "- Menyajikan hasil eksplorasi data dalam bentuk visualisasi (seperti bar plot) untuk memberikan wawasan mengenai distribusi rating, usia pengguna, dan buku paling populer.\n"
      ],
      "metadata": {
        "id": "tmkvcScnjAXa"
      }
    },
    {
      "cell_type": "markdown",
      "source": [
        "**Sumber Dataset:** https://www.kaggle.com/datasets/arashnic/book-recommendation-dataset"
      ],
      "metadata": {
        "id": "MKGrQJOe0wmA"
      }
    },
    {
      "cell_type": "markdown",
      "source": [
        "***Deskripsi:***\n",
        "\n",
        "Dataset Book Recommendation Dataset merupakan kumpulan data yang terdiri dari tiga file utama: Users, Ratings, dan Books. File Users menyimpan informasi mengenai pengguna, di mana setiap pengguna diidentifikasi dengan ID unik yang telah dianonimkan menjadi angka. Selain itu, terdapat data demografis seperti lokasi dan usia, meskipun beberapa nilai mungkin kosong atau tidak tersedia. File Ratings menyajikan data penilaian buku oleh pengguna. Penilaian ini bisa berupa eksplisit (rentang 1–10, semakin tinggi menunjukkan apresiasi yang lebih besar) atau implisit (ditandai dengan nilai 0, menunjukkan interaksi tanpa penilaian langsung). Terakhir, file Books berisi informasi tentang buku yang diidentifikasi dengan ISBN. Selain judul buku, nama penulis (hanya yang pertama jika lebih dari satu), tahun terbit, dan penerbit, file ini juga mencantumkan tautan gambar sampul dalam tiga ukuran berbeda (kecil, sedang, besar) yang diambil dari situs Amazon. Dataset ini banyak digunakan untuk membangun dan menguji sistem rekomendasi berbasis buku."
      ],
      "metadata": {
        "id": "KdnJQ9BK1qUW"
      }
    },
    {
      "cell_type": "markdown",
      "source": [
        "# **Import Library**\n",
        "\n",
        "Pada tahap ini, berbagai library Python yang diperlukan untuk analisis data dan machine learning akan diimpor. Library ini akan digunakan dalam seluruh proses eksplorasi, persiapan, pelatihan, dan evaluasi model."
      ],
      "metadata": {
        "id": "51ExpNXb1cLg"
      }
    },
    {
      "cell_type": "code",
      "execution_count": 20,
      "metadata": {
        "id": "7x5VQbMOhLok"
      },
      "outputs": [],
      "source": [
        "# Import library utama untuk analisis data dan visualisasi\n",
        "import pandas as pd               # Digunakan untuk manipulasi dan analisis data dalam bentuk tabel (DataFrame)\n",
        "import numpy as np                # Digunakan untuk operasi numerik, manipulasi array, dan perhitungan matematis lainnya\n",
        "import seaborn as sns             # Digunakan untuk visualisasi data statistik dengan tampilan yang menarik dan mudah dibaca\n",
        "import matplotlib.pyplot as plt   # Digunakan untuk membuat grafik dan plot visualisasi data\n",
        "\n",
        "# Import library untuk membangun model machine learning berbasis deep learning\n",
        "import tensorflow as tf\n",
        "from tensorflow import keras\n",
        "from tensorflow.keras import layers  # Digunakan untuk menyusun lapisan-lapisan neural network\n",
        "\n",
        "# Import library untuk membagi data menjadi data latih dan data uji\n",
        "from sklearn.model_selection import train_test_split  # Berguna untuk mengevaluasi performa model dengan memisahkan data\n",
        "\n",
        "# Menonaktifkan peringatan (warnings) agar output notebook lebih bersih dan tidak terganggu oleh pesan peringatan\n",
        "import warnings\n",
        "warnings.simplefilter('ignore')   # Peringatan yang biasanya muncul saat menjalankan kode akan disembunyikan"
      ]
    },
    {
      "cell_type": "markdown",
      "source": [
        "# **Data Understanding**"
      ],
      "metadata": {
        "id": "00DcNsxdjwoy"
      }
    },
    {
      "cell_type": "markdown",
      "source": [
        "Data Understanding merupakan tahap awal yang krusial dalam pengembangan proyek machine learning maupun data science. Tahap ini bertujuan untuk memahami isi, struktur, serta kualitas data yang akan dianalisis. Dalam proyek ini, proses Data Understanding akan dilakukan melalui tiga tahapan utama, yaitu:\n",
        "- Melakukan load dataset dan mengubah nama kolom\n",
        "- Melakukan univariate exploratory data analysis\n",
        "- Melakukan visualisasi data"
      ],
      "metadata": {
        "id": "GaYm1ZSv1hBg"
      }
    },
    {
      "cell_type": "markdown",
      "source": [
        "## **Melakukan Load dataset dan mengubah nama kolom**"
      ],
      "metadata": {
        "id": "XIB7BD_YndK2"
      }
    },
    {
      "cell_type": "code",
      "source": [
        "# Load dataset utama: Users, Books, dan Ratings\n",
        "user = pd.read_csv(\"Users.csv\")\n",
        "rating = pd.read_csv(\"Ratings.csv\")\n",
        "books = pd.read_csv(\"Books.csv\")\n",
        "\n",
        "\n",
        "# Mengubah nama kolom agar lebih konsisten dan mudah digunakan\n",
        "rating.rename(columns={'Book-Rating': 'Rating', 'User-ID': 'User_id'}, inplace=True)\n",
        "user.rename(columns={'User-ID': 'User_id'}, inplace=True)\n",
        "books.rename(columns={'Book-Title': 'Title', 'Book-Author': 'Author', 'Year-Of-Publication': 'Year'}, inplace=True)"
      ],
      "metadata": {
        "id": "fL1Pp848luh_"
      },
      "execution_count": 21,
      "outputs": []
    },
    {
      "cell_type": "markdown",
      "source": [
        "## **Univariate Exploratory Data Analysis**"
      ],
      "metadata": {
        "id": "42JvZRc2oRsb"
      }
    },
    {
      "cell_type": "markdown",
      "source": [
        "**Variabel-variabel pada Book Recommendation System Dataset adalah sebagai berikut:** <br>\n",
        "1. **user**\n",
        "\n",
        "Dataset ini berisi informasi pengguna (user) yang memberikan rating terhadap buku tertentu.\n",
        "Variabel penting:\n",
        "- User_id: ID unik yang merepresentasikan masing-masing pengguna.\n",
        "- Location: Lokasi geografis pengguna (negara/kota/kode pos).\n",
        "- Age: Usia pengguna (dapat berisi nilai kosong atau tidak valid).\n",
        "\n",
        "2. **rating**\n",
        "\n",
        "Dataset ini merepresentasikan rating atau penilaian yang diberikan pengguna terhadap buku tertentu.\n",
        "Variabel penting:\n",
        "- User_id: ID pengguna yang memberi rating.\n",
        "- ISBN: ID buku yang dinilai.\n",
        "- Rating: Nilai rating yang diberikan (rentang 0–10, di mana 0 bisa berarti tidak ada rating eksplisit).\n",
        "\n",
        "3. **books**\n",
        "\n",
        "Dataset ini mencakup detail informasi buku yang ada di sistem.\n",
        "Variabel penting:\n",
        "- ISBN: Nomor unik identifikasi buku.\n",
        "- Title: Judul buku.\n",
        "- Author: Nama penulis buku.\n",
        "- Year: Tahun publikasi buku.\n",
        "- Publisher: Nama penerbit buku.\n",
        "- Image-URL-S/M/L: Link ke gambar cover buku dengan resolusi kecil, sedang, dan besar.\n",
        "\n"
      ],
      "metadata": {
        "id": "qVX4ZukfpUsj"
      }
    },
    {
      "cell_type": "markdown",
      "source": [
        "**Menampilkan lima baris pertama dari masing-masing dataset**"
      ],
      "metadata": {
        "id": "IBnt0VbSrmfH"
      }
    },
    {
      "cell_type": "code",
      "source": [
        "# Menampilkan 5 data pertama dari dataset user\n",
        "print(\"\\nContoh data dari dataset user:\")\n",
        "print(user.head(5))"
      ],
      "metadata": {
        "colab": {
          "base_uri": "https://localhost:8080/"
        },
        "id": "89Fu1j8IoY05",
        "outputId": "2050ff9a-f68b-406b-b2ce-7847c63c3143"
      },
      "execution_count": 22,
      "outputs": [
        {
          "output_type": "stream",
          "name": "stdout",
          "text": [
            "\n",
            "Contoh data dari dataset user:\n",
            "   User_id                            Location   Age\n",
            "0        1                  nyc, new york, usa   NaN\n",
            "1        2           stockton, california, usa  18.0\n",
            "2        3     moscow, yukon territory, russia   NaN\n",
            "3        4           porto, v.n.gaia, portugal  17.0\n",
            "4        5  farnborough, hants, united kingdom   NaN\n"
          ]
        }
      ]
    },
    {
      "cell_type": "code",
      "source": [
        "# Menampilkan 5 data pertama dari dataset rating\n",
        "print(\"\\nContoh data dari dataset rating:\")\n",
        "print(rating.head(5))"
      ],
      "metadata": {
        "colab": {
          "base_uri": "https://localhost:8080/"
        },
        "id": "zkRR0zMaoxiK",
        "outputId": "040430d4-50b5-406b-c773-8d42dbecf7e4"
      },
      "execution_count": 23,
      "outputs": [
        {
          "output_type": "stream",
          "name": "stdout",
          "text": [
            "\n",
            "Contoh data dari dataset rating:\n",
            "   User_id        ISBN  Rating\n",
            "0   276725  034545104X       0\n",
            "1   276726  0155061224       5\n",
            "2   276727  0446520802       0\n",
            "3   276729  052165615X       3\n",
            "4   276729  0521795028       6\n"
          ]
        }
      ]
    },
    {
      "cell_type": "code",
      "source": [
        "# Menampilkan 5 data pertama dari dataset books\n",
        "print(\"\\nContoh data dari dataset books:\")\n",
        "print(books.head(5))"
      ],
      "metadata": {
        "colab": {
          "base_uri": "https://localhost:8080/"
        },
        "id": "BpCG9_WRo7xU",
        "outputId": "6ebe8c1c-e4c9-4e44-dcdf-7934733083f1"
      },
      "execution_count": 24,
      "outputs": [
        {
          "output_type": "stream",
          "name": "stdout",
          "text": [
            "\n",
            "Contoh data dari dataset books:\n",
            "         ISBN                                              Title  \\\n",
            "0  0195153448                                Classical Mythology   \n",
            "1  0002005018                                       Clara Callan   \n",
            "2  0060973129                               Decision in Normandy   \n",
            "3  0374157065  Flu: The Story of the Great Influenza Pandemic...   \n",
            "4  0393045218                             The Mummies of Urumchi   \n",
            "\n",
            "                 Author  Year                   Publisher  \\\n",
            "0    Mark P. O. Morford  2002     Oxford University Press   \n",
            "1  Richard Bruce Wright  2001       HarperFlamingo Canada   \n",
            "2          Carlo D'Este  1991             HarperPerennial   \n",
            "3      Gina Bari Kolata  1999        Farrar Straus Giroux   \n",
            "4       E. J. W. Barber  1999  W. W. Norton &amp; Company   \n",
            "\n",
            "                                         Image-URL-S  \\\n",
            "0  http://images.amazon.com/images/P/0195153448.0...   \n",
            "1  http://images.amazon.com/images/P/0002005018.0...   \n",
            "2  http://images.amazon.com/images/P/0060973129.0...   \n",
            "3  http://images.amazon.com/images/P/0374157065.0...   \n",
            "4  http://images.amazon.com/images/P/0393045218.0...   \n",
            "\n",
            "                                         Image-URL-M  \\\n",
            "0  http://images.amazon.com/images/P/0195153448.0...   \n",
            "1  http://images.amazon.com/images/P/0002005018.0...   \n",
            "2  http://images.amazon.com/images/P/0060973129.0...   \n",
            "3  http://images.amazon.com/images/P/0374157065.0...   \n",
            "4  http://images.amazon.com/images/P/0393045218.0...   \n",
            "\n",
            "                                         Image-URL-L  \n",
            "0  http://images.amazon.com/images/P/0195153448.0...  \n",
            "1  http://images.amazon.com/images/P/0002005018.0...  \n",
            "2  http://images.amazon.com/images/P/0060973129.0...  \n",
            "3  http://images.amazon.com/images/P/0374157065.0...  \n",
            "4  http://images.amazon.com/images/P/0393045218.0...  \n"
          ]
        }
      ]
    },
    {
      "cell_type": "markdown",
      "source": [
        "**Menampilkan informasi dari masing-masing dataset**"
      ],
      "metadata": {
        "id": "q6zT2ZcJrq3U"
      }
    },
    {
      "cell_type": "code",
      "source": [
        "# Menampilkan ringkasan informasi dari dataset user, termasuk jumlah entri, tipe data, dan jumlah nilai non-null\n",
        "user.info()"
      ],
      "metadata": {
        "id": "kB_1foTtrI_S",
        "colab": {
          "base_uri": "https://localhost:8080/"
        },
        "outputId": "5531359b-eb50-42d1-c6bb-22ddf11b86c6"
      },
      "execution_count": 28,
      "outputs": [
        {
          "output_type": "stream",
          "name": "stdout",
          "text": [
            "<class 'pandas.core.frame.DataFrame'>\n",
            "RangeIndex: 278858 entries, 0 to 278857\n",
            "Data columns (total 3 columns):\n",
            " #   Column    Non-Null Count   Dtype  \n",
            "---  ------    --------------   -----  \n",
            " 0   User_id   278858 non-null  int64  \n",
            " 1   Location  278858 non-null  object \n",
            " 2   Age       168096 non-null  float64\n",
            "dtypes: float64(1), int64(1), object(1)\n",
            "memory usage: 6.4+ MB\n"
          ]
        }
      ]
    },
    {
      "cell_type": "code",
      "source": [
        "# Menampilkan ringkasan informasi dari dataset rating, termasuk jumlah entri, tipe data, dan jumlah nilai non-null\n",
        "rating.info()"
      ],
      "metadata": {
        "colab": {
          "base_uri": "https://localhost:8080/"
        },
        "id": "8XZlpZfErXG_",
        "outputId": "80a432f5-542b-44d8-beb7-3ffd9635f3b0"
      },
      "execution_count": 29,
      "outputs": [
        {
          "output_type": "stream",
          "name": "stdout",
          "text": [
            "<class 'pandas.core.frame.DataFrame'>\n",
            "RangeIndex: 1149780 entries, 0 to 1149779\n",
            "Data columns (total 3 columns):\n",
            " #   Column   Non-Null Count    Dtype \n",
            "---  ------   --------------    ----- \n",
            " 0   User_id  1149780 non-null  int64 \n",
            " 1   ISBN     1149780 non-null  object\n",
            " 2   Rating   1149780 non-null  int64 \n",
            "dtypes: int64(2), object(1)\n",
            "memory usage: 26.3+ MB\n"
          ]
        }
      ]
    },
    {
      "cell_type": "code",
      "source": [
        "# Menampilkan ringkasan informasi dari dataset books, termasuk jumlah entri, tipe data, dan jumlah nilai non-null\n",
        "books.info()"
      ],
      "metadata": {
        "colab": {
          "base_uri": "https://localhost:8080/"
        },
        "id": "2GoagvMmrbl7",
        "outputId": "109984c0-da5f-4cd3-d7e0-3ba7a6f0a5bb"
      },
      "execution_count": 30,
      "outputs": [
        {
          "output_type": "stream",
          "name": "stdout",
          "text": [
            "<class 'pandas.core.frame.DataFrame'>\n",
            "RangeIndex: 271360 entries, 0 to 271359\n",
            "Data columns (total 8 columns):\n",
            " #   Column       Non-Null Count   Dtype \n",
            "---  ------       --------------   ----- \n",
            " 0   ISBN         271360 non-null  object\n",
            " 1   Title        271360 non-null  object\n",
            " 2   Author       271358 non-null  object\n",
            " 3   Year         271360 non-null  object\n",
            " 4   Publisher    271358 non-null  object\n",
            " 5   Image-URL-S  271360 non-null  object\n",
            " 6   Image-URL-M  271360 non-null  object\n",
            " 7   Image-URL-L  271357 non-null  object\n",
            "dtypes: object(8)\n",
            "memory usage: 16.6+ MB\n"
          ]
        }
      ]
    },
    {
      "cell_type": "markdown",
      "source": [
        "***Insight:***\n",
        "\n",
        "Pada dataset `Users`, terdapat banyak nilai yang hilang (missing values) pada kolom `Age`, yang menunjukkan bahwa informasi usia tidak selalu tersedia untuk setiap pengguna. Sementara itu, dataset `Ratings` tidak mengandung missing values, sehingga data penilaian dapat digunakan secara utuh tanpa perlu penanganan khusus. Di sisi lain, pada dataset `Books` ditemukan 2 missing values pada kolom `Author` dan `Publisher`. Selain itu, 3 missing values pada kolom `Image-URL-L`, yang mungkin perlu dibersihkan atau diisi ulang sebelum digunakan dalam pemodelan atau analisis lanjutan."
      ],
      "metadata": {
        "id": "SfHm1R1bRYgW"
      }
    },
    {
      "cell_type": "markdown",
      "source": [
        "**Menampilkan jumlah baris dan kolom**"
      ],
      "metadata": {
        "id": "lGpojrDdruw0"
      }
    },
    {
      "cell_type": "code",
      "source": [
        "# Menampilkan jumlah baris dan kolom pada dataset user, rating, dan books\n",
        "print(f\"User dataset total rows: {user.shape[0]}, and total columns: {user.shape[1]}\")\n",
        "print(f\"Rating dataset total rows: {rating.shape[0]}, and total columns: {rating.shape[1]}\")\n",
        "print(f\"Books dataset total rows: {books.shape[0]}, and total columns: {books.shape[1]}\")"
      ],
      "metadata": {
        "colab": {
          "base_uri": "https://localhost:8080/"
        },
        "id": "iFJC2svKqL69",
        "outputId": "b571246b-2a27-49f3-c4c2-8a07c8ab0b87"
      },
      "execution_count": 31,
      "outputs": [
        {
          "output_type": "stream",
          "name": "stdout",
          "text": [
            "User dataset total rows: 278858, and total columns: 3\n",
            "Rating dataset total rows: 1149780, and total columns: 3\n",
            "Books dataset total rows: 271360, and total columns: 8\n"
          ]
        }
      ]
    },
    {
      "cell_type": "markdown",
      "source": [
        "***Insight:***\n",
        "\n",
        " Dataset Users memiliki 278.858 baris dan 3 kolom, yang mencerminkan jumlah pengguna unik beserta informasi demografis yang tersedia. Dataset Ratings terdiri dari 1.149.780 baris dan 3 kolom, menunjukkan bahwa terdapat lebih dari satu juta interaksi pengguna dengan buku dalam bentuk penilaian. Sementara itu, dataset Books mencakup 271.360 baris dan 5 kolom, yang berisi informasi detail mengenai berbagai buku seperti judul, penulis, tahun terbit, penerbit, dan URL gambar. Jumlah data yang besar ini memberikan dasar yang kuat untuk membangun sistem rekomendasi yang akurat dan komprehensif."
      ],
      "metadata": {
        "id": "mEQMX5sd4_Rl"
      }
    },
    {
      "cell_type": "markdown",
      "source": [
        "**Melakukan Visualisasi sebelum masuk ke tahap data preparation**"
      ],
      "metadata": {
        "id": "MxeFZztXwVWl"
      }
    },
    {
      "cell_type": "code",
      "source": [
        "# Menghitung 20 entri teratas berdasarkan jumlah kemunculan untuk Year, Publisher, dan Author\n",
        "books_qty = books['Year'].value_counts().reset_index(name='Count').rename(columns={'index': 'Year'}).sort_values('Count', ascending=False).head(20)\n",
        "publisher_qty = books['Publisher'].value_counts().reset_index(name='Count').rename(columns={'index': 'Publisher'}).sort_values('Count', ascending=False).head(20)\n",
        "author_qty = books['Author'].value_counts().reset_index(name='Count').rename(columns={'index': 'Author'}).sort_values('Count', ascending=False).head(20)\n",
        "\n",
        "# Setup visualisasi\n",
        "plt.figure(figsize=(20, 6))\n",
        "plt.suptitle(\"Top Contributors in Book Dataset\", fontsize=18, fontweight='bold')\n",
        "\n",
        "# Plot untuk Tahun Terbit\n",
        "plt.subplot(1, 3, 1)\n",
        "sns.barplot(data=books_qty, x='Year', y='Count', palette='viridis')\n",
        "plt.title('Tahun Terbit Terbanyak', fontsize=14)\n",
        "plt.xlabel('Tahun', fontsize=10)\n",
        "plt.ylabel('Jumlah Buku', fontsize=10)\n",
        "plt.xticks(rotation=90, fontsize=8)\n",
        "\n",
        "# Plot untuk Penerbit Terbanyak\n",
        "plt.subplot(1, 3, 2)\n",
        "sns.barplot(data=publisher_qty, x='Publisher', y='Count', palette='rocket')\n",
        "plt.title('Penerbit Terbanyak', fontsize=14)\n",
        "plt.xlabel('Penerbit', fontsize=10)\n",
        "plt.ylabel('Jumlah Buku', fontsize=10)\n",
        "plt.xticks(rotation=90, fontsize=8)\n",
        "\n",
        "# Plot untuk Penulis Terbanyak\n",
        "plt.subplot(1, 3, 3)\n",
        "sns.barplot(data=author_qty, x='Author', y='Count', palette='Set2')\n",
        "plt.title('Penulis Buku Terbanyak', fontsize=14)\n",
        "plt.xlabel('Penulis', fontsize=10)\n",
        "plt.ylabel('Jumlah Buku', fontsize=10)\n",
        "plt.xticks(rotation=90, fontsize=8)\n",
        "\n",
        "plt.tight_layout(rect=[0, 0, 1, 0.95])  # menyesuaikan layout agar tidak terpotong\n",
        "plt.show()"
      ],
      "metadata": {
        "colab": {
          "base_uri": "https://localhost:8080/",
          "height": 552
        },
        "id": "yXbS0S1VvmAD",
        "outputId": "c4431c2b-6532-47ed-8b29-feca0a02a66f"
      },
      "execution_count": 32,
      "outputs": [
        {
          "output_type": "display_data",
          "data": {
            "text/plain": [
              "<Figure size 2000x600 with 3 Axes>"
            ],
            "image/png": "[encoded data removed]"
          },
          "metadata": {}
        }
      ]
    },
    {
      "cell_type": "markdown",
      "source": [
        "***Insight:***\n",
        "\n",
        "Visualisasi menunjukkan bahwa tahun terbit terbanyak berasal dari tahun **2002**, diikuti oleh **2001** dan **2000**, masing-masing dengan jumlah buku yang sangat signifikan. Hal ini mengindikasikan bahwa dataset memiliki dominasi buku-buku yang diterbitkan pada awal 2000-an, yang mungkin dipengaruhi oleh perkembangan digitalisasi data saat itu.\n",
        "\n",
        "Untuk penerbit, **Harlequin** menjadi penyumbang terbanyak dengan lebih dari 7.000 judul buku, disusul oleh **Silhouette**, **Pocket Books**, dan **Ballantine Books**. Ini menunjukkan bahwa penerbit besar dengan fokus pada fiksi populer sangat dominan dalam dataset ini.\n",
        "\n",
        "Sementara itu, pada kategori penulis, **Agatha Christie** menjadi penulis dengan jumlah buku terbanyak, diikuti oleh **William Shakespeare**, **Ann M. Martin**, dan **Stephen King**. Banyaknya buku dari penulis-penulis terkenal ini mencerminkan popularitas dan produktivitas mereka serta bagaimana karya mereka sering dimuat dalam sistem distribusi buku global."
      ],
      "metadata": {
        "id": "bbG2H4S45mrr"
      }
    },
    {
      "cell_type": "code",
      "source": [
        "# Visualisasi distribusi rating buku dari dataset 'rating'\n",
        "plt.figure(figsize=(10, 6))\n",
        "sns.countplot(x='Rating', data=rating, palette='rocket')  # Membuat barplot distribusi rating\n",
        "plt.title(\"Distribution of Book Ratings\")  # Judul grafik\n",
        "plt.xlabel(\"Book Rating\")  # Label sumbu X\n",
        "plt.ylabel(\"Count\")  # Label sumbu Y\n",
        "plt.show()  # Menampilkan grafik"
      ],
      "metadata": {
        "colab": {
          "base_uri": "https://localhost:8080/",
          "height": 564
        },
        "id": "j3Kmzea9wbSh",
        "outputId": "bbf2c59f-9ea0-471d-d284-82c12555b83a"
      },
      "execution_count": 33,
      "outputs": [
        {
          "output_type": "display_data",
          "data": {
            "text/plain": [
              "<Figure size 1000x600 with 1 Axes>"
            ],
            "image/png": "[encoded data removed]"
          },
          "metadata": {}
        }
      ]
    },
    {
      "cell_type": "markdown",
      "source": [
        "***Insight:***\n",
        "\n",
        "Distribusi rating buku menunjukkan bahwa rating 0 mendominasi secara signifikan dengan jumlah lebih dari 700.000 entri. Ini mengindikasikan bahwa sebagian besar interaksi dalam dataset merupakan rating implisit, di mana pengguna hanya membaca atau melihat buku tanpa memberikan penilaian eksplisit.\n",
        "\n",
        "Sementara itu, untuk rating eksplisit (1–10), sebagian besar pengguna cenderung memberikan rating tinggi — terutama pada nilai 8, 10, dan 7, yang jumlahnya jauh lebih besar dibanding rating rendah (1–4). Pola ini mencerminkan kecenderungan pengguna untuk hanya menilai buku yang mereka sukai atau merasa puas terhadapnya, dan mengabaikan atau tidak menilai buku yang tidak disukai."
      ],
      "metadata": {
        "id": "m8a4nQCI6MdS"
      }
    },
    {
      "cell_type": "code",
      "source": [
        "# Mengambil 20 lokasi pengguna terbanyak berdasarkan jumlah kemunculannya\n",
        "user_location = user['Location'].value_counts().reset_index(name='Count').sort_values('Count', ascending=False).head(20)\n",
        "\n",
        "# Visualisasi 20 lokasi pengguna terbanyak\n",
        "plt.figure(figsize=(12,8))  # Mengatur ukuran figure\n",
        "sns.barplot(data=user_location, x='Location', y='Count', palette='viridis')  # Membuat barplot\n",
        "plt.xticks(rotation=90)  # Memutar label lokasi agar tidak saling tumpang tindih\n",
        "plt.title('20 top location of the users', size=20)  # Menambahkan judul grafik\n",
        "plt.show()  # Menampilkan grafik"
      ],
      "metadata": {
        "colab": {
          "base_uri": "https://localhost:8080/",
          "height": 965
        },
        "id": "eTuBpMuP4L-t",
        "outputId": "28839f3b-f6a5-4825-e5e9-bf486380a0f0"
      },
      "execution_count": 34,
      "outputs": [
        {
          "output_type": "display_data",
          "data": {
            "text/plain": [
              "<Figure size 1200x800 with 1 Axes>"
            ],
            "image/png": "[encoded data removed]"
          },
          "metadata": {}
        }
      ]
    },
    {
      "cell_type": "markdown",
      "source": [
        "***Insight:***\n",
        "\n",
        "Visualisasi menunjukkan bahwa mayoritas pengguna berasal dari negara-negara berbahasa Inggris, terutama:\n",
        "\n",
        "- London, England, United Kingdom menjadi lokasi pengguna terbanyak dengan lebih dari 2.500 pengguna.\n",
        "- Disusul oleh kota-kota besar seperti Toronto, Ontario (Canada) dan Sydney, New South Wales (Australia).\n",
        "- Beberapa kota besar di Amerika Serikat seperti Portland, Chicago, Seattle, New York, dan San Francisco juga mendominasi jumlah pengguna.\n",
        "\n",
        "Selain itu, terlihat kontribusi signifikan dari kota-kota di Eropa seperti Madrid (Spanyol), Berlin (Jerman), dan Milano (Italia) serta beberapa kota di Kanada dan Australia.\n",
        "\n",
        "Pola ini mengindikasikan bahwa data pengguna dalam dataset Book Recommendation didominasi oleh kawasan Amerika Utara, Eropa Barat, dan Australia, yang mungkin mencerminkan preferensi dan budaya literasi dari wilayah tersebut. Hal ini penting diperhatikan saat membangun sistem rekomendasi agar dapat mempertimbangkan keberagaman lokasi dan konteks budaya pengguna."
      ],
      "metadata": {
        "id": "C-M6ptOo6kkE"
      }
    },
    {
      "cell_type": "markdown",
      "source": [
        "# **Data Preparation**"
      ],
      "metadata": {
        "id": "5cxFBHLQ3zJw"
      }
    },
    {
      "cell_type": "markdown",
      "source": [
        "Pada proyek ini, tahap data preparation dilakukan untuk memastikan bahwa data yang digunakan dalam model rekomendasi berada dalam kondisi yang optimal. Tujuan utama dari tahap ini adalah untuk membersihkan dan menyesuaikan struktur data mentah agar siap digunakan dalam algoritma collaborative filtering.\n",
        "\n",
        "1. **Pembersihan Data <br>**\n",
        "Proses pembersihan data dilakukan melalui beberapa tahapan berikut:\n",
        "\n",
        "- Mengecek dan Menangani Missing Values pada Dataset User dan Books <br>\n",
        "Data diperiksa untuk mendeteksi nilai yang hilang (missing values) dan dilakukan penanganan seperti penghapusan atau imputasi tergantung pada konteks kolom yang bersangkutan.\n",
        "\n",
        "- Meengecek Duplikasi pada Masing-Masing Dataset <br>\n",
        "Duplikat pada dataset User dan Books diidentifikasi dan dihapus agar tidak mempengaruhi distribusi data maupun hasil analisis.\n",
        "\n",
        "- Menggabungkan Dataset Rating dan Books <br>\n",
        "Dataset Rating digabung dengan Books menggunakan kolom ISBN untuk memperoleh informasi buku secara lengkap dalam satu tabel.\n",
        "\n",
        "- Seleksi Pengguna dan Buku Berdasarkan Aktivitas Rating <br>\n",
        "  - Mengelompokkan data berdasarkan user_id, lalu memilih 20 pengguna dengan jumlah rating terbanyak.\n",
        "  - Mengelompokkan data berdasarkan judul buku dan mengurutkannya berdasarkan jumlah rating terbanyak untuk mendapatkan buku-buku yang paling sering dirating.\n",
        "\n",
        "- Menangani Duplikasi dan Missing Values pada Dataset Gabungan <br>\n",
        "Setelah penggabungan, dilakukan pemeriksaan ulang untuk mendeteksi duplikasi dan nilai kosong pada dataset gabungan, serta dilakukan penanganan agar data tetap bersih dan valid.\n",
        "\n",
        "- Melakukan Sampling Dataset <br>\n",
        "Karena ukuran data yang besar, dilakukan teknik sampling untuk mengambil subset data yang representatif. Hal ini dilakukan guna mempercepat proses pelatihan model tanpa mengorbankan kualitas hasil.\n",
        "\n",
        "2. **Pra-pemrosesan Data untuk Collaborative Filtering**<br>\n",
        "Setelah tahap pembersihan awal selesai, proses dilanjutkan dengan pra-pemrosesan data khusus untuk model collaborative filtering, sebagai berikut:\n",
        "\n",
        "- Menyalin Dataset <br>\n",
        "Dataset dibagi dengan membuat salinan khusus untuk kebutuhan pemodelan agar data asli tetap utuh dan tidak terpengaruh oleh proses selanjutnya.\n",
        "\n",
        "- Encoding <br>\n",
        "Kolom user_id dan ISBN dikonversi ke dalam format numerik agar dapat diproses oleh algoritma collaborative filtering.\n",
        "\n",
        "- Pembagian Data <br>\n",
        "Dataset yang telah diproses kemudian dibagi menjadi dua bagian: 80% untuk training dan 20% untuk testing. Data training digunakan untuk membangun model, sedangkan data testing digunakan untuk mengukur performa model pada data yang belum pernah dilihat sebelumnya.\n",
        "\n"
      ],
      "metadata": {
        "id": "a7A9Yt8i-f6m"
      }
    },
    {
      "cell_type": "markdown",
      "source": [
        "## **Mengecek dan Menangani Missing Values pada Dataset User**"
      ],
      "metadata": {
        "id": "ieyWP4RQC-44"
      }
    },
    {
      "cell_type": "code",
      "source": [
        "# Menampilkan ringkasan informasi dari dataset user, termasuk jumlah entri, tipe data, dan jumlah nilai non-null\n",
        "user.info()"
      ],
      "metadata": {
        "colab": {
          "base_uri": "https://localhost:8080/"
        },
        "id": "r2TkEekqC7wP",
        "outputId": "b28e4d3c-2236-480c-f2f5-5b7b8c568758"
      },
      "execution_count": 37,
      "outputs": [
        {
          "output_type": "stream",
          "name": "stdout",
          "text": [
            "<class 'pandas.core.frame.DataFrame'>\n",
            "RangeIndex: 278858 entries, 0 to 278857\n",
            "Data columns (total 3 columns):\n",
            " #   Column    Non-Null Count   Dtype  \n",
            "---  ------    --------------   -----  \n",
            " 0   User_id   278858 non-null  int64  \n",
            " 1   Location  278858 non-null  object \n",
            " 2   Age       168096 non-null  float64\n",
            "dtypes: float64(1), int64(1), object(1)\n",
            "memory usage: 6.4+ MB\n"
          ]
        }
      ]
    },
    {
      "cell_type": "code",
      "source": [
        "# Mengisi missing values pada kolom 'Age' dengan nilai yang paling sering muncul (modus)\n",
        "most_frequent_age = user['Age'].mode()[0]  # Ambil nilai modus\n",
        "user['Age'].fillna(most_frequent_age, inplace=True)  # Isi nilai NaN dengan modus"
      ],
      "metadata": {
        "id": "ZL8X-P7RRtC8"
      },
      "execution_count": 38,
      "outputs": []
    },
    {
      "cell_type": "code",
      "source": [
        "# Mengecek kembali apakah masih terdapat missing values atau tidak\n",
        "user.info()"
      ],
      "metadata": {
        "colab": {
          "base_uri": "https://localhost:8080/"
        },
        "id": "xljPmSckSs9d",
        "outputId": "6a36e0e3-2b05-4ebc-f758-e96778455e8a"
      },
      "execution_count": 39,
      "outputs": [
        {
          "output_type": "stream",
          "name": "stdout",
          "text": [
            "<class 'pandas.core.frame.DataFrame'>\n",
            "RangeIndex: 278858 entries, 0 to 278857\n",
            "Data columns (total 3 columns):\n",
            " #   Column    Non-Null Count   Dtype  \n",
            "---  ------    --------------   -----  \n",
            " 0   User_id   278858 non-null  int64  \n",
            " 1   Location  278858 non-null  object \n",
            " 2   Age       278858 non-null  float64\n",
            "dtypes: float64(1), int64(1), object(1)\n",
            "memory usage: 6.4+ MB\n"
          ]
        }
      ]
    },
    {
      "cell_type": "markdown",
      "source": [
        "***Insight:***\n",
        "\n",
        "Untuk menangani missing values pada kolom Age di dataset Users, dilakukan pengisian menggunakan nilai yang paling sering muncul (modus). Pendekatan ini dipilih karena nilai modus dianggap mewakili mayoritas usia pengguna dalam data yang tersedia, serta dapat meminimalkan distorsi terhadap distribusi data asli. Dengan mengisi nilai kosong menggunakan modus, proses ini membantu menjaga konsistensi data tanpa menghapus baris yang mungkin masih mengandung informasi penting lainnya.\n"
      ],
      "metadata": {
        "id": "MoFgECJg3ngF"
      }
    },
    {
      "cell_type": "markdown",
      "source": [
        "## **Mengecek dan Menangani Missing Values pada dataset Books**"
      ],
      "metadata": {
        "id": "niks5aONDM5Z"
      }
    },
    {
      "cell_type": "code",
      "source": [
        "# Menampilkan ringkasan informasi dari dataset books, termasuk jumlah entri, tipe data, dan jumlah nilai non-null\n",
        "books.info()"
      ],
      "metadata": {
        "colab": {
          "base_uri": "https://localhost:8080/"
        },
        "id": "vG6Xbi_KDTK6",
        "outputId": "6b201801-cb02-4c61-c418-a97d0ae2c70c"
      },
      "execution_count": 40,
      "outputs": [
        {
          "output_type": "stream",
          "name": "stdout",
          "text": [
            "<class 'pandas.core.frame.DataFrame'>\n",
            "RangeIndex: 271360 entries, 0 to 271359\n",
            "Data columns (total 8 columns):\n",
            " #   Column       Non-Null Count   Dtype \n",
            "---  ------       --------------   ----- \n",
            " 0   ISBN         271360 non-null  object\n",
            " 1   Title        271360 non-null  object\n",
            " 2   Author       271358 non-null  object\n",
            " 3   Year         271360 non-null  object\n",
            " 4   Publisher    271358 non-null  object\n",
            " 5   Image-URL-S  271360 non-null  object\n",
            " 6   Image-URL-M  271360 non-null  object\n",
            " 7   Image-URL-L  271357 non-null  object\n",
            "dtypes: object(8)\n",
            "memory usage: 16.6+ MB\n"
          ]
        }
      ]
    },
    {
      "cell_type": "code",
      "source": [
        "# Menghapus baris yang memiliki missing values di kolom 'Author'\n",
        "books.dropna(subset=['Author'], inplace=True)\n",
        "\n",
        "# Cek kembali apakah masih ada missing values di kolom 'Autho'\n",
        "print(\"Jumlah nilai kosong pada kolom Author setelah dihapus:\", books['Author'].isnull().sum())"
      ],
      "metadata": {
        "colab": {
          "base_uri": "https://localhost:8080/"
        },
        "id": "R_aC1NBvDirp",
        "outputId": "cbceea62-77a1-4282-87e2-1af017d99c0e"
      },
      "execution_count": 41,
      "outputs": [
        {
          "output_type": "stream",
          "name": "stdout",
          "text": [
            "Jumlah nilai kosong pada kolom Author setelah dihapus: 0\n"
          ]
        }
      ]
    },
    {
      "cell_type": "code",
      "source": [
        "# Menghapus baris yang memiliki missing values di kolom 'Publisher'\n",
        "books.dropna(subset=['Publisher'], inplace=True)\n",
        "\n",
        "# Cek kembali apakah masih ada missing values di kolom 'Publisher'\n",
        "print(\"Jumlah nilai kosong pada kolom Publisher setelah dihapus:\", books['Publisher'].isnull().sum())"
      ],
      "metadata": {
        "colab": {
          "base_uri": "https://localhost:8080/"
        },
        "id": "kFUjOg44S1Gi",
        "outputId": "9b822230-b24d-46af-9003-4402c041a4d7"
      },
      "execution_count": 42,
      "outputs": [
        {
          "output_type": "stream",
          "name": "stdout",
          "text": [
            "Jumlah nilai kosong pada kolom Publisher setelah dihapus: 0\n"
          ]
        }
      ]
    },
    {
      "cell_type": "code",
      "source": [
        "# Menghapus kolom dari image URL S, image URL M, dan image URL L\n",
        "books.drop(['Image-URL-S', 'Image-URL-M', 'Image-URL-L'], axis=1, inplace=True, errors='ignore')"
      ],
      "metadata": {
        "id": "GbodNb4XTjKi"
      },
      "execution_count": 43,
      "outputs": []
    },
    {
      "cell_type": "code",
      "source": [
        "# Mengecek kembali pada kolom books\n",
        "books.info()"
      ],
      "metadata": {
        "colab": {
          "base_uri": "https://localhost:8080/"
        },
        "id": "JXqos8G9Tq5N",
        "outputId": "d484bb51-5c69-488e-9400-ea851730c9f9"
      },
      "execution_count": 44,
      "outputs": [
        {
          "output_type": "stream",
          "name": "stdout",
          "text": [
            "<class 'pandas.core.frame.DataFrame'>\n",
            "Index: 271356 entries, 0 to 271359\n",
            "Data columns (total 5 columns):\n",
            " #   Column     Non-Null Count   Dtype \n",
            "---  ------     --------------   ----- \n",
            " 0   ISBN       271356 non-null  object\n",
            " 1   Title      271356 non-null  object\n",
            " 2   Author     271356 non-null  object\n",
            " 3   Year       271356 non-null  object\n",
            " 4   Publisher  271356 non-null  object\n",
            "dtypes: object(5)\n",
            "memory usage: 12.4+ MB\n"
          ]
        }
      ]
    },
    {
      "cell_type": "markdown",
      "source": [
        "***Insight:***\n",
        "\n",
        "Untuk menangani missing values pada dataset Books, dilakukan dua pendekatan yang berbeda. Pada kolom `Author` dan `Publisher`, karena jumlah missing values sangat sedikit, maka baris yang mengandung nilai kosong dihapus agar tidak memengaruhi integritas data secara keseluruhan. Sementara itu, kolom `Image-URL-S`, `Image-URL-M`, dan `Image-URL-L` dihapus dari dataset karena informasi gambar tidak digunakan dalam sistem rekomendasi ini. Penghapusan kolom tersebut juga membantu menyederhanakan struktur data dan mempercepat proses pemrosesan."
      ],
      "metadata": {
        "id": "o2DeYQlc4KKL"
      }
    },
    {
      "cell_type": "markdown",
      "source": [
        "## **Mengecek apakah ada data duplikat dari masing-masing dataset**"
      ],
      "metadata": {
        "id": "7HfYRzn8UeHQ"
      }
    },
    {
      "cell_type": "code",
      "source": [
        "# Mengecek apakah ada baris duplikat pada dataset user\n",
        "user.duplicated().sum()"
      ],
      "metadata": {
        "colab": {
          "base_uri": "https://localhost:8080/"
        },
        "id": "yut7dZfIsFQ5",
        "outputId": "c69bbde5-9005-42e7-847e-2194d5c4cf84"
      },
      "execution_count": 45,
      "outputs": [
        {
          "output_type": "execute_result",
          "data": {
            "text/plain": [
              "np.int64(0)"
            ]
          },
          "metadata": {},
          "execution_count": 45
        }
      ]
    },
    {
      "cell_type": "code",
      "source": [
        "# Mengecek apakah ada baris duplikat pada dataset rating\n",
        "rating.duplicated().sum()"
      ],
      "metadata": {
        "colab": {
          "base_uri": "https://localhost:8080/"
        },
        "id": "3hvILPPtUjAn",
        "outputId": "f6f6ce7f-46f6-4369-f913-ac4b13b84937"
      },
      "execution_count": 46,
      "outputs": [
        {
          "output_type": "execute_result",
          "data": {
            "text/plain": [
              "np.int64(0)"
            ]
          },
          "metadata": {},
          "execution_count": 46
        }
      ]
    },
    {
      "cell_type": "code",
      "source": [
        "# Mengecek apakah ada baris duplikat pada dataset books\n",
        "books.duplicated().sum()"
      ],
      "metadata": {
        "colab": {
          "base_uri": "https://localhost:8080/"
        },
        "id": "tYVvLCU0UnHL",
        "outputId": "46e07a38-bf67-42a9-f309-3a0b17e1dad3"
      },
      "execution_count": 47,
      "outputs": [
        {
          "output_type": "execute_result",
          "data": {
            "text/plain": [
              "np.int64(0)"
            ]
          },
          "metadata": {},
          "execution_count": 47
        }
      ]
    },
    {
      "cell_type": "markdown",
      "source": [
        "***Insight:***\n",
        "\n",
        "Setelah dilakukan pengecekan terhadap ketiga dataset — Users, Ratings, dan Books — tidak ditemukan adanya baris duplikat. Hal ini menunjukkan bahwa setiap entri pada data bersifat unik dan tidak ada pengulangan informasi, sehingga tidak diperlukan proses penghapusan duplikat. Kondisi ini sangat mendukung kualitas data dan memperkuat keandalan analisis serta pemodelan sistem rekomendasi yang akan dibangun."
      ],
      "metadata": {
        "id": "WPtVmEea4ZPZ"
      }
    },
    {
      "cell_type": "markdown",
      "source": [
        "## **Menggabungkan dataset rating dan books berdasarkan kolom ISBN**"
      ],
      "metadata": {
        "id": "pv52YIQXVAvC"
      }
    },
    {
      "cell_type": "code",
      "source": [
        "# Menggabungkan data rating dengan data buku berdasarkan ISBN\n",
        "data_merged = rating.merge(books, on='ISBN')\n",
        "\n",
        "# Menampilkan dimensi dari DataFrame hasil gabungan\n",
        "data_merged.shape"
      ],
      "metadata": {
        "colab": {
          "base_uri": "https://localhost:8080/"
        },
        "id": "MjuDArIm4sj8",
        "outputId": "fc3ca6fb-22d4-4cb4-edf7-e758e66e5df2"
      },
      "execution_count": 48,
      "outputs": [
        {
          "output_type": "execute_result",
          "data": {
            "text/plain": [
              "(1031132, 7)"
            ]
          },
          "metadata": {},
          "execution_count": 48
        }
      ]
    },
    {
      "cell_type": "code",
      "source": [
        "# Menampilkan 2 baris pertama dari DataFrame 'data_merged'\n",
        "# Ini berguna untuk melihat seperti apa struktur dan isi data setelah proses merge.\n",
        "data_merged.head(2)"
      ],
      "metadata": {
        "colab": {
          "base_uri": "https://localhost:8080/",
          "height": 112
        },
        "id": "HUTDjAGq5VcW",
        "outputId": "ec7dd8f7-ef25-4844-8240-8830a6c853a2"
      },
      "execution_count": 49,
      "outputs": [
        {
          "output_type": "execute_result",
          "data": {
            "text/plain": [
              "   User_id        ISBN  Rating                 Title      Author  Year  \\\n",
              "0   276725  034545104X       0  Flesh Tones: A Novel  M. J. Rose  2002   \n",
              "1   276726  0155061224       5      Rites of Passage  Judith Rae  2001   \n",
              "\n",
              "          Publisher  \n",
              "0  Ballantine Books  \n",
              "1            Heinle  "
            ],
            "text/html": [
              "\n",
              "  <div id=\"df-d4df93f6-3052-44ee-afd4-511d31c85928\" class=\"colab-df-container\">\n",
              "    <div>\n",
              "<style scoped>\n",
              "    .dataframe tbody tr th:only-of-type {\n",
              "        vertical-align: middle;\n",
              "    }\n",
              "\n",
              "    .dataframe tbody tr th {\n",
              "        vertical-align: top;\n",
              "    }\n",
              "\n",
              "    .dataframe thead th {\n",
              "        text-align: right;\n",
              "    }\n",
              "</style>\n",
              "<table border=\"1\" class=\"dataframe\">\n",
              "  <thead>\n",
              "    <tr style=\"text-align: right;\">\n",
              "      <th></th>\n",
              "      <th>User_id</th>\n",
              "      <th>ISBN</th>\n",
              "      <th>Rating</th>\n",
              "      <th>Title</th>\n",
              "      <th>Author</th>\n",
              "      <th>Year</th>\n",
              "      <th>Publisher</th>\n",
              "    </tr>\n",
              "  </thead>\n",
              "  <tbody>\n",
              "    <tr>\n",
              "      <th>0</th>\n",
              "      <td>276725</td>\n",
              "      <td>034545104X</td>\n",
              "      <td>0</td>\n",
              "      <td>Flesh Tones: A Novel</td>\n",
              "      <td>M. J. Rose</td>\n",
              "      <td>2002</td>\n",
              "      <td>Ballantine Books</td>\n",
              "    </tr>\n",
              "    <tr>\n",
              "      <th>1</th>\n",
              "      <td>276726</td>\n",
              "      <td>0155061224</td>\n",
              "      <td>5</td>\n",
              "      <td>Rites of Passage</td>\n",
              "      <td>Judith Rae</td>\n",
              "      <td>2001</td>\n",
              "      <td>Heinle</td>\n",
              "    </tr>\n",
              "  </tbody>\n",
              "</table>\n",
              "</div>\n",
              "    <div class=\"colab-df-buttons\">\n",
              "\n",
              "  <div class=\"colab-df-container\">\n",
              "    <button class=\"colab-df-convert\" onclick=\"convertToInteractive('df-d4df93f6-3052-44ee-afd4-511d31c85928')\"\n",
              "            title=\"Convert this dataframe to an interactive table.\"\n",
              "            style=\"display:none;\">\n",
              "\n",
              "  <svg xmlns=\"http://www.w3.org/2000/svg\" height=\"24px\" viewBox=\"0 -960 960 960\">\n",
              "    <path d=\"M120-120v-720h720v720H120Zm60-500h600v-160H180v160Zm220 220h160v-160H400v160Zm0 220h160v-160H400v160ZM180-400h160v-160H180v160Zm440 0h160v-160H620v160ZM180-180h160v-160H180v160Zm440 0h160v-160H620v160Z\"/>\n",
              "  </svg>\n",
              "    </button>\n",
              "\n",
              "  <style>\n",
              "    .colab-df-container {\n",
              "      display:flex;\n",
              "      gap: 12px;\n",
              "    }\n",
              "\n",
              "    .colab-df-convert {\n",
              "      background-color: #E8F0FE;\n",
              "      border: none;\n",
              "      border-radius: 50%;\n",
              "      cursor: pointer;\n",
              "      display: none;\n",
              "      fill: #1967D2;\n",
              "      height: 32px;\n",
              "      padding: 0 0 0 0;\n",
              "      width: 32px;\n",
              "    }\n",
              "\n",
              "    .colab-df-convert:hover {\n",
              "      background-color: #E2EBFA;\n",
              "      box-shadow: 0px 1px 2px rgba(60, 64, 67, 0.3), 0px 1px 3px 1px rgba(60, 64, 67, 0.15);\n",
              "      fill: #174EA6;\n",
              "    }\n",
              "\n",
              "    .colab-df-buttons div {\n",
              "      margin-bottom: 4px;\n",
              "    }\n",
              "\n",
              "    [theme=dark] .colab-df-convert {\n",
              "      background-color: #3B4455;\n",
              "      fill: #D2E3FC;\n",
              "    }\n",
              "\n",
              "    [theme=dark] .colab-df-convert:hover {\n",
              "      background-color: #434B5C;\n",
              "      box-shadow: 0px 1px 3px 1px rgba(0, 0, 0, 0.15);\n",
              "      filter: drop-shadow(0px 1px 2px rgba(0, 0, 0, 0.3));\n",
              "      fill: #FFFFFF;\n",
              "    }\n",
              "  </style>\n",
              "\n",
              "    <script>\n",
              "      const buttonEl =\n",
              "        document.querySelector('#df-d4df93f6-3052-44ee-afd4-511d31c85928 button.colab-df-convert');\n",
              "      buttonEl.style.display =\n",
              "        google.colab.kernel.accessAllowed ? 'block' : 'none';\n",
              "\n",
              "      async function convertToInteractive(key) {\n",
              "        const element = document.querySelector('#df-d4df93f6-3052-44ee-afd4-511d31c85928');\n",
              "        const dataTable =\n",
              "          await google.colab.kernel.invokeFunction('convertToInteractive',\n",
              "                                                    [key], {});\n",
              "        if (!dataTable) return;\n",
              "\n",
              "        const docLinkHtml = 'Like what you see? Visit the ' +\n",
              "          '<a target=\"_blank\" href=https://colab.research.google.com/notebooks/data_table.ipynb>data table notebook</a>'\n",
              "          + ' to learn more about interactive tables.';\n",
              "        element.innerHTML = '';\n",
              "        dataTable['output_type'] = 'display_data';\n",
              "        await google.colab.output.renderOutput(dataTable, element);\n",
              "        const docLink = document.createElement('div');\n",
              "        docLink.innerHTML = docLinkHtml;\n",
              "        element.appendChild(docLink);\n",
              "      }\n",
              "    </script>\n",
              "  </div>\n",
              "\n",
              "\n",
              "    <div id=\"df-2db09713-eae8-4479-a19b-a9d4fd67cbb8\">\n",
              "      <button class=\"colab-df-quickchart\" onclick=\"quickchart('df-2db09713-eae8-4479-a19b-a9d4fd67cbb8')\"\n",
              "                title=\"Suggest charts\"\n",
              "                style=\"display:none;\">\n",
              "\n",
              "<svg xmlns=\"http://www.w3.org/2000/svg\" height=\"24px\"viewBox=\"0 0 24 24\"\n",
              "     width=\"24px\">\n",
              "    <g>\n",
              "        <path d=\"M19 3H5c-1.1 0-2 .9-2 2v14c0 1.1.9 2 2 2h14c1.1 0 2-.9 2-2V5c0-1.1-.9-2-2-2zM9 17H7v-7h2v7zm4 0h-2V7h2v10zm4 0h-2v-4h2v4z\"/>\n",
              "    </g>\n",
              "</svg>\n",
              "      </button>\n",
              "\n",
              "<style>\n",
              "  .colab-df-quickchart {\n",
              "      --bg-color: #E8F0FE;\n",
              "      --fill-color: #1967D2;\n",
              "      --hover-bg-color: #E2EBFA;\n",
              "      --hover-fill-color: #174EA6;\n",
              "      --disabled-fill-color: #AAA;\n",
              "      --disabled-bg-color: #DDD;\n",
              "  }\n",
              "\n",
              "  [theme=dark] .colab-df-quickchart {\n",
              "      --bg-color: #3B4455;\n",
              "      --fill-color: #D2E3FC;\n",
              "      --hover-bg-color: #434B5C;\n",
              "      --hover-fill-color: #FFFFFF;\n",
              "      --disabled-bg-color: #3B4455;\n",
              "      --disabled-fill-color: #666;\n",
              "  }\n",
              "\n",
              "  .colab-df-quickchart {\n",
              "    background-color: var(--bg-color);\n",
              "    border: none;\n",
              "    border-radius: 50%;\n",
              "    cursor: pointer;\n",
              "    display: none;\n",
              "    fill: var(--fill-color);\n",
              "    height: 32px;\n",
              "    padding: 0;\n",
              "    width: 32px;\n",
              "  }\n",
              "\n",
              "  .colab-df-quickchart:hover {\n",
              "    background-color: var(--hover-bg-color);\n",
              "    box-shadow: 0 1px 2px rgba(60, 64, 67, 0.3), 0 1px 3px 1px rgba(60, 64, 67, 0.15);\n",
              "    fill: var(--button-hover-fill-color);\n",
              "  }\n",
              "\n",
              "  .colab-df-quickchart-complete:disabled,\n",
              "  .colab-df-quickchart-complete:disabled:hover {\n",
              "    background-color: var(--disabled-bg-color);\n",
              "    fill: var(--disabled-fill-color);\n",
              "    box-shadow: none;\n",
              "  }\n",
              "\n",
              "  .colab-df-spinner {\n",
              "    border: 2px solid var(--fill-color);\n",
              "    border-color: transparent;\n",
              "    border-bottom-color: var(--fill-color);\n",
              "    animation:\n",
              "      spin 1s steps(1) infinite;\n",
              "  }\n",
              "\n",
              "  @keyframes spin {\n",
              "    0% {\n",
              "      border-color: transparent;\n",
              "      border-bottom-color: var(--fill-color);\n",
              "      border-left-color: var(--fill-color);\n",
              "    }\n",
              "    20% {\n",
              "      border-color: transparent;\n",
              "      border-left-color: var(--fill-color);\n",
              "      border-top-color: var(--fill-color);\n",
              "    }\n",
              "    30% {\n",
              "      border-color: transparent;\n",
              "      border-left-color: var(--fill-color);\n",
              "      border-top-color: var(--fill-color);\n",
              "      border-right-color: var(--fill-color);\n",
              "    }\n",
              "    40% {\n",
              "      border-color: transparent;\n",
              "      border-right-color: var(--fill-color);\n",
              "      border-top-color: var(--fill-color);\n",
              "    }\n",
              "    60% {\n",
              "      border-color: transparent;\n",
              "      border-right-color: var(--fill-color);\n",
              "    }\n",
              "    80% {\n",
              "      border-color: transparent;\n",
              "      border-right-color: var(--fill-color);\n",
              "      border-bottom-color: var(--fill-color);\n",
              "    }\n",
              "    90% {\n",
              "      border-color: transparent;\n",
              "      border-bottom-color: var(--fill-color);\n",
              "    }\n",
              "  }\n",
              "</style>\n",
              "\n",
              "      <script>\n",
              "        async function quickchart(key) {\n",
              "          const quickchartButtonEl =\n",
              "            document.querySelector('#' + key + ' button');\n",
              "          quickchartButtonEl.disabled = true;  // To prevent multiple clicks.\n",
              "          quickchartButtonEl.classList.add('colab-df-spinner');\n",
              "          try {\n",
              "            const charts = await google.colab.kernel.invokeFunction(\n",
              "                'suggestCharts', [key], {});\n",
              "          } catch (error) {\n",
              "            console.error('Error during call to suggestCharts:', error);\n",
              "          }\n",
              "          quickchartButtonEl.classList.remove('colab-df-spinner');\n",
              "          quickchartButtonEl.classList.add('colab-df-quickchart-complete');\n",
              "        }\n",
              "        (() => {\n",
              "          let quickchartButtonEl =\n",
              "            document.querySelector('#df-2db09713-eae8-4479-a19b-a9d4fd67cbb8 button');\n",
              "          quickchartButtonEl.style.display =\n",
              "            google.colab.kernel.accessAllowed ? 'block' : 'none';\n",
              "        })();\n",
              "      </script>\n",
              "    </div>\n",
              "\n",
              "    </div>\n",
              "  </div>\n"
            ],
            "application/vnd.google.colaboratory.intrinsic+json": {
              "type": "dataframe",
              "variable_name": "data_merged"
            }
          },
          "metadata": {},
          "execution_count": 49
        }
      ]
    },
    {
      "cell_type": "markdown",
      "source": [
        "***Insight:***\n",
        "\n",
        "Data rating dan buku berhasil digabungkan berdasarkan ISBN, menghasilkan lebih dari 1 juta baris data. Setiap interaksi pengguna kini dilengkapi informasi user_id, ISBN, rating, judul, penulis, tahun terbit, dan penerbit buku. Gabungan ini menjadi dasar penting untuk membangun sistem rekomendasi yang lebih akurat dan kontekstual."
      ],
      "metadata": {
        "id": "I9syU52t8hl3"
      }
    },
    {
      "cell_type": "markdown",
      "source": [
        "## **Mengelompokkan data rating berdasarkan user_id dan menggambil 20 pengguna dengan jumlah rating terbanyak**"
      ],
      "metadata": {
        "id": "13qvqXeAUwuy"
      }
    },
    {
      "cell_type": "code",
      "source": [
        "# Mengelompokkan data rating berdasarkan User_id, lalu menghitung jumlah dan rata-rata rating yang diberikan oleh masing-masing pengguna\n",
        "User_rating = rating.groupby(['User_id'])['Rating'].agg(['count', 'mean']).reset_index()\n",
        "\n",
        "# Mengganti nama kolom 'count' menjadi 'Count' agar lebih deskriptif\n",
        "User_rating.rename(columns={'count': 'Count'}, inplace=True)\n",
        "\n",
        "# Mengurutkan pengguna berdasarkan jumlah rating terbanyak, ambil 20 teratas\n",
        "User_rating = User_rating.sort_values('Count', ascending=False).head(20)\n",
        "\n",
        "# Menampilkan hasil akhir\n",
        "User_rating"
      ],
      "metadata": {
        "colab": {
          "base_uri": "https://localhost:8080/",
          "height": 677
        },
        "id": "8AzvmjuQ4eno",
        "outputId": "a873aa3a-8877-49e9-951d-791bb4ec8122"
      },
      "execution_count": 50,
      "outputs": [
        {
          "output_type": "execute_result",
          "data": {
            "text/plain": [
              "        User_id  Count      mean\n",
              "4213      11676  13602  4.564917\n",
              "74815    198711   7550  0.016291\n",
              "58113    153662   6109  2.786872\n",
              "37356     98391   5891  8.728230\n",
              "13576     35859   5850  1.075897\n",
              "80185    212898   4785  0.003135\n",
              "105111   278418   4533  0.159276\n",
              "28884     76352   3367  0.145233\n",
              "42037    110973   3100  0.787742\n",
              "88584    235105   3067  2.671992\n",
              "86808    230522   2991  0.911735\n",
              "6111      16795   2948  2.334803\n",
              "88400    234623   2674  0.132760\n",
              "13950     36836   2529  0.480427\n",
              "19872     52584   2512  0.477309\n",
              "92807    245963   2507  0.140806\n",
              "77063    204864   2504  1.780751\n",
              "21044     55492   2459  0.372102\n",
              "69817    185233   2448  1.524918\n",
              "64531    171118   2421  3.147047"
            ],
            "text/html": [
              "\n",
              "  <div id=\"df-7673ef62-c28a-4037-87e4-b02f85ea8925\" class=\"colab-df-container\">\n",
              "    <div>\n",
              "<style scoped>\n",
              "    .dataframe tbody tr th:only-of-type {\n",
              "        vertical-align: middle;\n",
              "    }\n",
              "\n",
              "    .dataframe tbody tr th {\n",
              "        vertical-align: top;\n",
              "    }\n",
              "\n",
              "    .dataframe thead th {\n",
              "        text-align: right;\n",
              "    }\n",
              "</style>\n",
              "<table border=\"1\" class=\"dataframe\">\n",
              "  <thead>\n",
              "    <tr style=\"text-align: right;\">\n",
              "      <th></th>\n",
              "      <th>User_id</th>\n",
              "      <th>Count</th>\n",
              "      <th>mean</th>\n",
              "    </tr>\n",
              "  </thead>\n",
              "  <tbody>\n",
              "    <tr>\n",
              "      <th>4213</th>\n",
              "      <td>11676</td>\n",
              "      <td>13602</td>\n",
              "      <td>4.564917</td>\n",
              "    </tr>\n",
              "    <tr>\n",
              "      <th>74815</th>\n",
              "      <td>198711</td>\n",
              "      <td>7550</td>\n",
              "      <td>0.016291</td>\n",
              "    </tr>\n",
              "    <tr>\n",
              "      <th>58113</th>\n",
              "      <td>153662</td>\n",
              "      <td>6109</td>\n",
              "      <td>2.786872</td>\n",
              "    </tr>\n",
              "    <tr>\n",
              "      <th>37356</th>\n",
              "      <td>98391</td>\n",
              "      <td>5891</td>\n",
              "      <td>8.728230</td>\n",
              "    </tr>\n",
              "    <tr>\n",
              "      <th>13576</th>\n",
              "      <td>35859</td>\n",
              "      <td>5850</td>\n",
              "      <td>1.075897</td>\n",
              "    </tr>\n",
              "    <tr>\n",
              "      <th>80185</th>\n",
              "      <td>212898</td>\n",
              "      <td>4785</td>\n",
              "      <td>0.003135</td>\n",
              "    </tr>\n",
              "    <tr>\n",
              "      <th>105111</th>\n",
              "      <td>278418</td>\n",
              "      <td>4533</td>\n",
              "      <td>0.159276</td>\n",
              "    </tr>\n",
              "    <tr>\n",
              "      <th>28884</th>\n",
              "      <td>76352</td>\n",
              "      <td>3367</td>\n",
              "      <td>0.145233</td>\n",
              "    </tr>\n",
              "    <tr>\n",
              "      <th>42037</th>\n",
              "      <td>110973</td>\n",
              "      <td>3100</td>\n",
              "      <td>0.787742</td>\n",
              "    </tr>\n",
              "    <tr>\n",
              "      <th>88584</th>\n",
              "      <td>235105</td>\n",
              "      <td>3067</td>\n",
              "      <td>2.671992</td>\n",
              "    </tr>\n",
              "    <tr>\n",
              "      <th>86808</th>\n",
              "      <td>230522</td>\n",
              "      <td>2991</td>\n",
              "      <td>0.911735</td>\n",
              "    </tr>\n",
              "    <tr>\n",
              "      <th>6111</th>\n",
              "      <td>16795</td>\n",
              "      <td>2948</td>\n",
              "      <td>2.334803</td>\n",
              "    </tr>\n",
              "    <tr>\n",
              "      <th>88400</th>\n",
              "      <td>234623</td>\n",
              "      <td>2674</td>\n",
              "      <td>0.132760</td>\n",
              "    </tr>\n",
              "    <tr>\n",
              "      <th>13950</th>\n",
              "      <td>36836</td>\n",
              "      <td>2529</td>\n",
              "      <td>0.480427</td>\n",
              "    </tr>\n",
              "    <tr>\n",
              "      <th>19872</th>\n",
              "      <td>52584</td>\n",
              "      <td>2512</td>\n",
              "      <td>0.477309</td>\n",
              "    </tr>\n",
              "    <tr>\n",
              "      <th>92807</th>\n",
              "      <td>245963</td>\n",
              "      <td>2507</td>\n",
              "      <td>0.140806</td>\n",
              "    </tr>\n",
              "    <tr>\n",
              "      <th>77063</th>\n",
              "      <td>204864</td>\n",
              "      <td>2504</td>\n",
              "      <td>1.780751</td>\n",
              "    </tr>\n",
              "    <tr>\n",
              "      <th>21044</th>\n",
              "      <td>55492</td>\n",
              "      <td>2459</td>\n",
              "      <td>0.372102</td>\n",
              "    </tr>\n",
              "    <tr>\n",
              "      <th>69817</th>\n",
              "      <td>185233</td>\n",
              "      <td>2448</td>\n",
              "      <td>1.524918</td>\n",
              "    </tr>\n",
              "    <tr>\n",
              "      <th>64531</th>\n",
              "      <td>171118</td>\n",
              "      <td>2421</td>\n",
              "      <td>3.147047</td>\n",
              "    </tr>\n",
              "  </tbody>\n",
              "</table>\n",
              "</div>\n",
              "    <div class=\"colab-df-buttons\">\n",
              "\n",
              "  <div class=\"colab-df-container\">\n",
              "    <button class=\"colab-df-convert\" onclick=\"convertToInteractive('df-7673ef62-c28a-4037-87e4-b02f85ea8925')\"\n",
              "            title=\"Convert this dataframe to an interactive table.\"\n",
              "            style=\"display:none;\">\n",
              "\n",
              "  <svg xmlns=\"http://www.w3.org/2000/svg\" height=\"24px\" viewBox=\"0 -960 960 960\">\n",
              "    <path d=\"M120-120v-720h720v720H120Zm60-500h600v-160H180v160Zm220 220h160v-160H400v160Zm0 220h160v-160H400v160ZM180-400h160v-160H180v160Zm440 0h160v-160H620v160ZM180-180h160v-160H180v160Zm440 0h160v-160H620v160Z\"/>\n",
              "  </svg>\n",
              "    </button>\n",
              "\n",
              "  <style>\n",
              "    .colab-df-container {\n",
              "      display:flex;\n",
              "      gap: 12px;\n",
              "    }\n",
              "\n",
              "    .colab-df-convert {\n",
              "      background-color: #E8F0FE;\n",
              "      border: none;\n",
              "      border-radius: 50%;\n",
              "      cursor: pointer;\n",
              "      display: none;\n",
              "      fill: #1967D2;\n",
              "      height: 32px;\n",
              "      padding: 0 0 0 0;\n",
              "      width: 32px;\n",
              "    }\n",
              "\n",
              "    .colab-df-convert:hover {\n",
              "      background-color: #E2EBFA;\n",
              "      box-shadow: 0px 1px 2px rgba(60, 64, 67, 0.3), 0px 1px 3px 1px rgba(60, 64, 67, 0.15);\n",
              "      fill: #174EA6;\n",
              "    }\n",
              "\n",
              "    .colab-df-buttons div {\n",
              "      margin-bottom: 4px;\n",
              "    }\n",
              "\n",
              "    [theme=dark] .colab-df-convert {\n",
              "      background-color: #3B4455;\n",
              "      fill: #D2E3FC;\n",
              "    }\n",
              "\n",
              "    [theme=dark] .colab-df-convert:hover {\n",
              "      background-color: #434B5C;\n",
              "      box-shadow: 0px 1px 3px 1px rgba(0, 0, 0, 0.15);\n",
              "      filter: drop-shadow(0px 1px 2px rgba(0, 0, 0, 0.3));\n",
              "      fill: #FFFFFF;\n",
              "    }\n",
              "  </style>\n",
              "\n",
              "    <script>\n",
              "      const buttonEl =\n",
              "        document.querySelector('#df-7673ef62-c28a-4037-87e4-b02f85ea8925 button.colab-df-convert');\n",
              "      buttonEl.style.display =\n",
              "        google.colab.kernel.accessAllowed ? 'block' : 'none';\n",
              "\n",
              "      async function convertToInteractive(key) {\n",
              "        const element = document.querySelector('#df-7673ef62-c28a-4037-87e4-b02f85ea8925');\n",
              "        const dataTable =\n",
              "          await google.colab.kernel.invokeFunction('convertToInteractive',\n",
              "                                                    [key], {});\n",
              "        if (!dataTable) return;\n",
              "\n",
              "        const docLinkHtml = 'Like what you see? Visit the ' +\n",
              "          '<a target=\"_blank\" href=https://colab.research.google.com/notebooks/data_table.ipynb>data table notebook</a>'\n",
              "          + ' to learn more about interactive tables.';\n",
              "        element.innerHTML = '';\n",
              "        dataTable['output_type'] = 'display_data';\n",
              "        await google.colab.output.renderOutput(dataTable, element);\n",
              "        const docLink = document.createElement('div');\n",
              "        docLink.innerHTML = docLinkHtml;\n",
              "        element.appendChild(docLink);\n",
              "      }\n",
              "    </script>\n",
              "  </div>\n",
              "\n",
              "\n",
              "    <div id=\"df-564780f8-6be0-4343-8aaf-70860d041492\">\n",
              "      <button class=\"colab-df-quickchart\" onclick=\"quickchart('df-564780f8-6be0-4343-8aaf-70860d041492')\"\n",
              "                title=\"Suggest charts\"\n",
              "                style=\"display:none;\">\n",
              "\n",
              "<svg xmlns=\"http://www.w3.org/2000/svg\" height=\"24px\"viewBox=\"0 0 24 24\"\n",
              "     width=\"24px\">\n",
              "    <g>\n",
              "        <path d=\"M19 3H5c-1.1 0-2 .9-2 2v14c0 1.1.9 2 2 2h14c1.1 0 2-.9 2-2V5c0-1.1-.9-2-2-2zM9 17H7v-7h2v7zm4 0h-2V7h2v10zm4 0h-2v-4h2v4z\"/>\n",
              "    </g>\n",
              "</svg>\n",
              "      </button>\n",
              "\n",
              "<style>\n",
              "  .colab-df-quickchart {\n",
              "      --bg-color: #E8F0FE;\n",
              "      --fill-color: #1967D2;\n",
              "      --hover-bg-color: #E2EBFA;\n",
              "      --hover-fill-color: #174EA6;\n",
              "      --disabled-fill-color: #AAA;\n",
              "      --disabled-bg-color: #DDD;\n",
              "  }\n",
              "\n",
              "  [theme=dark] .colab-df-quickchart {\n",
              "      --bg-color: #3B4455;\n",
              "      --fill-color: #D2E3FC;\n",
              "      --hover-bg-color: #434B5C;\n",
              "      --hover-fill-color: #FFFFFF;\n",
              "      --disabled-bg-color: #3B4455;\n",
              "      --disabled-fill-color: #666;\n",
              "  }\n",
              "\n",
              "  .colab-df-quickchart {\n",
              "    background-color: var(--bg-color);\n",
              "    border: none;\n",
              "    border-radius: 50%;\n",
              "    cursor: pointer;\n",
              "    display: none;\n",
              "    fill: var(--fill-color);\n",
              "    height: 32px;\n",
              "    padding: 0;\n",
              "    width: 32px;\n",
              "  }\n",
              "\n",
              "  .colab-df-quickchart:hover {\n",
              "    background-color: var(--hover-bg-color);\n",
              "    box-shadow: 0 1px 2px rgba(60, 64, 67, 0.3), 0 1px 3px 1px rgba(60, 64, 67, 0.15);\n",
              "    fill: var(--button-hover-fill-color);\n",
              "  }\n",
              "\n",
              "  .colab-df-quickchart-complete:disabled,\n",
              "  .colab-df-quickchart-complete:disabled:hover {\n",
              "    background-color: var(--disabled-bg-color);\n",
              "    fill: var(--disabled-fill-color);\n",
              "    box-shadow: none;\n",
              "  }\n",
              "\n",
              "  .colab-df-spinner {\n",
              "    border: 2px solid var(--fill-color);\n",
              "    border-color: transparent;\n",
              "    border-bottom-color: var(--fill-color);\n",
              "    animation:\n",
              "      spin 1s steps(1) infinite;\n",
              "  }\n",
              "\n",
              "  @keyframes spin {\n",
              "    0% {\n",
              "      border-color: transparent;\n",
              "      border-bottom-color: var(--fill-color);\n",
              "      border-left-color: var(--fill-color);\n",
              "    }\n",
              "    20% {\n",
              "      border-color: transparent;\n",
              "      border-left-color: var(--fill-color);\n",
              "      border-top-color: var(--fill-color);\n",
              "    }\n",
              "    30% {\n",
              "      border-color: transparent;\n",
              "      border-left-color: var(--fill-color);\n",
              "      border-top-color: var(--fill-color);\n",
              "      border-right-color: var(--fill-color);\n",
              "    }\n",
              "    40% {\n",
              "      border-color: transparent;\n",
              "      border-right-color: var(--fill-color);\n",
              "      border-top-color: var(--fill-color);\n",
              "    }\n",
              "    60% {\n",
              "      border-color: transparent;\n",
              "      border-right-color: var(--fill-color);\n",
              "    }\n",
              "    80% {\n",
              "      border-color: transparent;\n",
              "      border-right-color: var(--fill-color);\n",
              "      border-bottom-color: var(--fill-color);\n",
              "    }\n",
              "    90% {\n",
              "      border-color: transparent;\n",
              "      border-bottom-color: var(--fill-color);\n",
              "    }\n",
              "  }\n",
              "</style>\n",
              "\n",
              "      <script>\n",
              "        async function quickchart(key) {\n",
              "          const quickchartButtonEl =\n",
              "            document.querySelector('#' + key + ' button');\n",
              "          quickchartButtonEl.disabled = true;  // To prevent multiple clicks.\n",
              "          quickchartButtonEl.classList.add('colab-df-spinner');\n",
              "          try {\n",
              "            const charts = await google.colab.kernel.invokeFunction(\n",
              "                'suggestCharts', [key], {});\n",
              "          } catch (error) {\n",
              "            console.error('Error during call to suggestCharts:', error);\n",
              "          }\n",
              "          quickchartButtonEl.classList.remove('colab-df-spinner');\n",
              "          quickchartButtonEl.classList.add('colab-df-quickchart-complete');\n",
              "        }\n",
              "        (() => {\n",
              "          let quickchartButtonEl =\n",
              "            document.querySelector('#df-564780f8-6be0-4343-8aaf-70860d041492 button');\n",
              "          quickchartButtonEl.style.display =\n",
              "            google.colab.kernel.accessAllowed ? 'block' : 'none';\n",
              "        })();\n",
              "      </script>\n",
              "    </div>\n",
              "\n",
              "  <div id=\"id_58f00a2e-7566-4cc2-80f8-b17343faa625\">\n",
              "    <style>\n",
              "      .colab-df-generate {\n",
              "        background-color: #E8F0FE;\n",
              "        border: none;\n",
              "        border-radius: 50%;\n",
              "        cursor: pointer;\n",
              "        display: none;\n",
              "        fill: #1967D2;\n",
              "        height: 32px;\n",
              "        padding: 0 0 0 0;\n",
              "        width: 32px;\n",
              "      }\n",
              "\n",
              "      .colab-df-generate:hover {\n",
              "        background-color: #E2EBFA;\n",
              "        box-shadow: 0px 1px 2px rgba(60, 64, 67, 0.3), 0px 1px 3px 1px rgba(60, 64, 67, 0.15);\n",
              "        fill: #174EA6;\n",
              "      }\n",
              "\n",
              "      [theme=dark] .colab-df-generate {\n",
              "        background-color: #3B4455;\n",
              "        fill: #D2E3FC;\n",
              "      }\n",
              "\n",
              "      [theme=dark] .colab-df-generate:hover {\n",
              "        background-color: #434B5C;\n",
              "        box-shadow: 0px 1px 3px 1px rgba(0, 0, 0, 0.15);\n",
              "        filter: drop-shadow(0px 1px 2px rgba(0, 0, 0, 0.3));\n",
              "        fill: #FFFFFF;\n",
              "      }\n",
              "    </style>\n",
              "    <button class=\"colab-df-generate\" onclick=\"generateWithVariable('User_rating')\"\n",
              "            title=\"Generate code using this dataframe.\"\n",
              "            style=\"display:none;\">\n",
              "\n",
              "  <svg xmlns=\"http://www.w3.org/2000/svg\" height=\"24px\"viewBox=\"0 0 24 24\"\n",
              "       width=\"24px\">\n",
              "    <path d=\"M7,19H8.4L18.45,9,17,7.55,7,17.6ZM5,21V16.75L18.45,3.32a2,2,0,0,1,2.83,0l1.4,1.43a1.91,1.91,0,0,1,.58,1.4,1.91,1.91,0,0,1-.58,1.4L9.25,21ZM18.45,9,17,7.55Zm-12,3A5.31,5.31,0,0,0,4.9,8.1,5.31,5.31,0,0,0,1,6.5,5.31,5.31,0,0,0,4.9,4.9,5.31,5.31,0,0,0,6.5,1,5.31,5.31,0,0,0,8.1,4.9,5.31,5.31,0,0,0,12,6.5,5.46,5.46,0,0,0,6.5,12Z\"/>\n",
              "  </svg>\n",
              "    </button>\n",
              "    <script>\n",
              "      (() => {\n",
              "      const buttonEl =\n",
              "        document.querySelector('#id_58f00a2e-7566-4cc2-80f8-b17343faa625 button.colab-df-generate');\n",
              "      buttonEl.style.display =\n",
              "        google.colab.kernel.accessAllowed ? 'block' : 'none';\n",
              "\n",
              "      buttonEl.onclick = () => {\n",
              "        google.colab.notebook.generateWithVariable('User_rating');\n",
              "      }\n",
              "      })();\n",
              "    </script>\n",
              "  </div>\n",
              "\n",
              "    </div>\n",
              "  </div>\n"
            ],
            "application/vnd.google.colaboratory.intrinsic+json": {
              "type": "dataframe",
              "variable_name": "User_rating",
              "summary": "{\n  \"name\": \"User_rating\",\n  \"rows\": 20,\n  \"fields\": [\n    {\n      \"column\": \"User_id\",\n      \"properties\": {\n        \"dtype\": \"number\",\n        \"std\": 88015,\n        \"min\": 11676,\n        \"max\": 278418,\n        \"num_unique_values\": 20,\n        \"samples\": [\n          11676,\n          55492,\n          245963\n        ],\n        \"semantic_type\": \"\",\n        \"description\": \"\"\n      }\n    },\n    {\n      \"column\": \"Count\",\n      \"properties\": {\n        \"dtype\": \"number\",\n        \"std\": 2699,\n        \"min\": 2421,\n        \"max\": 13602,\n        \"num_unique_values\": 20,\n        \"samples\": [\n          13602,\n          2459,\n          2507\n        ],\n        \"semantic_type\": \"\",\n        \"description\": \"\"\n      }\n    },\n    {\n      \"column\": \"mean\",\n      \"properties\": {\n        \"dtype\": \"number\",\n        \"std\": 2.103766466023403,\n        \"min\": 0.003134796238244514,\n        \"max\": 8.728229502631132,\n        \"num_unique_values\": 20,\n        \"samples\": [\n          4.564916923981768,\n          0.37210248068320456,\n          0.14080574391703232\n        ],\n        \"semantic_type\": \"\",\n        \"description\": \"\"\n      }\n    }\n  ]\n}"
            }
          },
          "metadata": {},
          "execution_count": 50
        }
      ]
    },
    {
      "cell_type": "markdown",
      "source": [
        "***Insight:***\n",
        "\n",
        "Dari analisis data rating, ditemukan 20 pengguna paling aktif dengan jumlah rating terbanyak. Informasi ini penting karena pengguna aktif berkontribusi besar dalam membentuk pola rekomendasi sistem. Rata-rata rating yang mereka berikan juga membantu memahami kecenderungan penilaian masing-masing pengguna, yang berguna untuk meningkatkan akurasi rekomendasi."
      ],
      "metadata": {
        "id": "MURfuZp77smq"
      }
    },
    {
      "cell_type": "markdown",
      "source": [
        "## **Mengelompokkan data berdasarkan judul buku dan mengurutkan dari jumlah rating terbanyak**"
      ],
      "metadata": {
        "id": "iSyCKoRi89ro"
      }
    },
    {
      "cell_type": "code",
      "source": [
        "# Mengelompokkan data berdasarkan judul buku ('Title') dan menghitung:\n",
        "# - jumlah rating (count)\n",
        "# - rata-rata rating (mean)\n",
        "title_rating = (\n",
        "    data_merged\n",
        "    .groupby(['Title'])['Rating']\n",
        "    .agg(['count', 'mean'])               # Hitung jumlah dan rata-rata rating per judul buku\n",
        "    .reset_index()                        # Reset index agar 'Title' jadi kolom biasa lagi\n",
        "    .rename(columns={'count': 'Count'})   # Ubah nama kolom 'count' menjadi 'Count' (kapital)\n",
        "    .sort_values('Count', ascending=False) # Urutkan berdasarkan jumlah rating, dari yang terbanyak\n",
        "    .head(20)                             # Ambil 20 buku teratas dengan jumlah rating terbanyak\n",
        ")\n",
        "\n",
        "# Menampilkan hasil akhir: 20 buku paling banyak dirating beserta jumlah dan rata-rata rating-nya\n",
        "title_rating"
      ],
      "metadata": {
        "colab": {
          "base_uri": "https://localhost:8080/",
          "height": 677
        },
        "id": "l7eaxaWe5s-k",
        "outputId": "2f2dfbed-63bb-4898-eb0c-643999c68917"
      },
      "execution_count": 51,
      "outputs": [
        {
          "output_type": "execute_result",
          "data": {
            "text/plain": [
              "                                                    Title  Count      mean\n",
              "234948                                        Wild Animus   2502  1.019584\n",
              "196324                          The Lovely Bones: A Novel   1295  4.468726\n",
              "183571                                  The Da Vinci Code    898  4.642539\n",
              "5303                                      A Painted House    838  3.231504\n",
              "199235                         The Nanny Diaries: A Novel    828  3.530193\n",
              "27921                               Bridget Jones's Diary    815  3.527607\n",
              "206500                            The Secret Life of Bees    774  4.447028\n",
              "52982     Divine Secrets of the Ya-Ya Sisterhood: A Novel    740  3.437838\n",
              "204385                The Red Tent (Bestselling Backlist)    723  4.334716\n",
              "14391                                 Angels &amp; Demons    670  3.708955\n",
              "107961                                         Life of Pi    664  4.088855\n",
              "162650                             Snow Falling on Cedars    662  3.252266\n",
              "209296                                        The Summons    655  3.432061\n",
              "200251                                       The Notebook    650  3.560000\n",
              "210062                                      The Testament    617  3.179903\n",
              "85956                               House of Sand and Fog    588  3.030612\n",
              "233367  Where the Heart Is (Oprah's Book Club (Paperba...    585  4.105983\n",
              "201690                                  The Pelican Brief    581  2.611015\n",
              "80444   Harry Potter and the Sorcerer's Stone (Harry P...    575  4.895652\n",
              "189264            The Girls' Guide to Hunting and Fishing    573  3.139616"
            ],
            "text/html": [
              "\n",
              "  <div id=\"df-7bff2d34-50cb-49b2-910b-f53e19473d05\" class=\"colab-df-container\">\n",
              "    <div>\n",
              "<style scoped>\n",
              "    .dataframe tbody tr th:only-of-type {\n",
              "        vertical-align: middle;\n",
              "    }\n",
              "\n",
              "    .dataframe tbody tr th {\n",
              "        vertical-align: top;\n",
              "    }\n",
              "\n",
              "    .dataframe thead th {\n",
              "        text-align: right;\n",
              "    }\n",
              "</style>\n",
              "<table border=\"1\" class=\"dataframe\">\n",
              "  <thead>\n",
              "    <tr style=\"text-align: right;\">\n",
              "      <th></th>\n",
              "      <th>Title</th>\n",
              "      <th>Count</th>\n",
              "      <th>mean</th>\n",
              "    </tr>\n",
              "  </thead>\n",
              "  <tbody>\n",
              "    <tr>\n",
              "      <th>234948</th>\n",
              "      <td>Wild Animus</td>\n",
              "      <td>2502</td>\n",
              "      <td>1.019584</td>\n",
              "    </tr>\n",
              "    <tr>\n",
              "      <th>196324</th>\n",
              "      <td>The Lovely Bones: A Novel</td>\n",
              "      <td>1295</td>\n",
              "      <td>4.468726</td>\n",
              "    </tr>\n",
              "    <tr>\n",
              "      <th>183571</th>\n",
              "      <td>The Da Vinci Code</td>\n",
              "      <td>898</td>\n",
              "      <td>4.642539</td>\n",
              "    </tr>\n",
              "    <tr>\n",
              "      <th>5303</th>\n",
              "      <td>A Painted House</td>\n",
              "      <td>838</td>\n",
              "      <td>3.231504</td>\n",
              "    </tr>\n",
              "    <tr>\n",
              "      <th>199235</th>\n",
              "      <td>The Nanny Diaries: A Novel</td>\n",
              "      <td>828</td>\n",
              "      <td>3.530193</td>\n",
              "    </tr>\n",
              "    <tr>\n",
              "      <th>27921</th>\n",
              "      <td>Bridget Jones's Diary</td>\n",
              "      <td>815</td>\n",
              "      <td>3.527607</td>\n",
              "    </tr>\n",
              "    <tr>\n",
              "      <th>206500</th>\n",
              "      <td>The Secret Life of Bees</td>\n",
              "      <td>774</td>\n",
              "      <td>4.447028</td>\n",
              "    </tr>\n",
              "    <tr>\n",
              "      <th>52982</th>\n",
              "      <td>Divine Secrets of the Ya-Ya Sisterhood: A Novel</td>\n",
              "      <td>740</td>\n",
              "      <td>3.437838</td>\n",
              "    </tr>\n",
              "    <tr>\n",
              "      <th>204385</th>\n",
              "      <td>The Red Tent (Bestselling Backlist)</td>\n",
              "      <td>723</td>\n",
              "      <td>4.334716</td>\n",
              "    </tr>\n",
              "    <tr>\n",
              "      <th>14391</th>\n",
              "      <td>Angels &amp;amp; Demons</td>\n",
              "      <td>670</td>\n",
              "      <td>3.708955</td>\n",
              "    </tr>\n",
              "    <tr>\n",
              "      <th>107961</th>\n",
              "      <td>Life of Pi</td>\n",
              "      <td>664</td>\n",
              "      <td>4.088855</td>\n",
              "    </tr>\n",
              "    <tr>\n",
              "      <th>162650</th>\n",
              "      <td>Snow Falling on Cedars</td>\n",
              "      <td>662</td>\n",
              "      <td>3.252266</td>\n",
              "    </tr>\n",
              "    <tr>\n",
              "      <th>209296</th>\n",
              "      <td>The Summons</td>\n",
              "      <td>655</td>\n",
              "      <td>3.432061</td>\n",
              "    </tr>\n",
              "    <tr>\n",
              "      <th>200251</th>\n",
              "      <td>The Notebook</td>\n",
              "      <td>650</td>\n",
              "      <td>3.560000</td>\n",
              "    </tr>\n",
              "    <tr>\n",
              "      <th>210062</th>\n",
              "      <td>The Testament</td>\n",
              "      <td>617</td>\n",
              "      <td>3.179903</td>\n",
              "    </tr>\n",
              "    <tr>\n",
              "      <th>85956</th>\n",
              "      <td>House of Sand and Fog</td>\n",
              "      <td>588</td>\n",
              "      <td>3.030612</td>\n",
              "    </tr>\n",
              "    <tr>\n",
              "      <th>233367</th>\n",
              "      <td>Where the Heart Is (Oprah's Book Club (Paperba...</td>\n",
              "      <td>585</td>\n",
              "      <td>4.105983</td>\n",
              "    </tr>\n",
              "    <tr>\n",
              "      <th>201690</th>\n",
              "      <td>The Pelican Brief</td>\n",
              "      <td>581</td>\n",
              "      <td>2.611015</td>\n",
              "    </tr>\n",
              "    <tr>\n",
              "      <th>80444</th>\n",
              "      <td>Harry Potter and the Sorcerer's Stone (Harry P...</td>\n",
              "      <td>575</td>\n",
              "      <td>4.895652</td>\n",
              "    </tr>\n",
              "    <tr>\n",
              "      <th>189264</th>\n",
              "      <td>The Girls' Guide to Hunting and Fishing</td>\n",
              "      <td>573</td>\n",
              "      <td>3.139616</td>\n",
              "    </tr>\n",
              "  </tbody>\n",
              "</table>\n",
              "</div>\n",
              "    <div class=\"colab-df-buttons\">\n",
              "\n",
              "  <div class=\"colab-df-container\">\n",
              "    <button class=\"colab-df-convert\" onclick=\"convertToInteractive('df-7bff2d34-50cb-49b2-910b-f53e19473d05')\"\n",
              "            title=\"Convert this dataframe to an interactive table.\"\n",
              "            style=\"display:none;\">\n",
              "\n",
              "  <svg xmlns=\"http://www.w3.org/2000/svg\" height=\"24px\" viewBox=\"0 -960 960 960\">\n",
              "    <path d=\"M120-120v-720h720v720H120Zm60-500h600v-160H180v160Zm220 220h160v-160H400v160Zm0 220h160v-160H400v160ZM180-400h160v-160H180v160Zm440 0h160v-160H620v160ZM180-180h160v-160H180v160Zm440 0h160v-160H620v160Z\"/>\n",
              "  </svg>\n",
              "    </button>\n",
              "\n",
              "  <style>\n",
              "    .colab-df-container {\n",
              "      display:flex;\n",
              "      gap: 12px;\n",
              "    }\n",
              "\n",
              "    .colab-df-convert {\n",
              "      background-color: #E8F0FE;\n",
              "      border: none;\n",
              "      border-radius: 50%;\n",
              "      cursor: pointer;\n",
              "      display: none;\n",
              "      fill: #1967D2;\n",
              "      height: 32px;\n",
              "      padding: 0 0 0 0;\n",
              "      width: 32px;\n",
              "    }\n",
              "\n",
              "    .colab-df-convert:hover {\n",
              "      background-color: #E2EBFA;\n",
              "      box-shadow: 0px 1px 2px rgba(60, 64, 67, 0.3), 0px 1px 3px 1px rgba(60, 64, 67, 0.15);\n",
              "      fill: #174EA6;\n",
              "    }\n",
              "\n",
              "    .colab-df-buttons div {\n",
              "      margin-bottom: 4px;\n",
              "    }\n",
              "\n",
              "    [theme=dark] .colab-df-convert {\n",
              "      background-color: #3B4455;\n",
              "      fill: #D2E3FC;\n",
              "    }\n",
              "\n",
              "    [theme=dark] .colab-df-convert:hover {\n",
              "      background-color: #434B5C;\n",
              "      box-shadow: 0px 1px 3px 1px rgba(0, 0, 0, 0.15);\n",
              "      filter: drop-shadow(0px 1px 2px rgba(0, 0, 0, 0.3));\n",
              "      fill: #FFFFFF;\n",
              "    }\n",
              "  </style>\n",
              "\n",
              "    <script>\n",
              "      const buttonEl =\n",
              "        document.querySelector('#df-7bff2d34-50cb-49b2-910b-f53e19473d05 button.colab-df-convert');\n",
              "      buttonEl.style.display =\n",
              "        google.colab.kernel.accessAllowed ? 'block' : 'none';\n",
              "\n",
              "      async function convertToInteractive(key) {\n",
              "        const element = document.querySelector('#df-7bff2d34-50cb-49b2-910b-f53e19473d05');\n",
              "        const dataTable =\n",
              "          await google.colab.kernel.invokeFunction('convertToInteractive',\n",
              "                                                    [key], {});\n",
              "        if (!dataTable) return;\n",
              "\n",
              "        const docLinkHtml = 'Like what you see? Visit the ' +\n",
              "          '<a target=\"_blank\" href=https://colab.research.google.com/notebooks/data_table.ipynb>data table notebook</a>'\n",
              "          + ' to learn more about interactive tables.';\n",
              "        element.innerHTML = '';\n",
              "        dataTable['output_type'] = 'display_data';\n",
              "        await google.colab.output.renderOutput(dataTable, element);\n",
              "        const docLink = document.createElement('div');\n",
              "        docLink.innerHTML = docLinkHtml;\n",
              "        element.appendChild(docLink);\n",
              "      }\n",
              "    </script>\n",
              "  </div>\n",
              "\n",
              "\n",
              "    <div id=\"df-dda1a387-4873-4449-9719-a1994cfe2d37\">\n",
              "      <button class=\"colab-df-quickchart\" onclick=\"quickchart('df-dda1a387-4873-4449-9719-a1994cfe2d37')\"\n",
              "                title=\"Suggest charts\"\n",
              "                style=\"display:none;\">\n",
              "\n",
              "<svg xmlns=\"http://www.w3.org/2000/svg\" height=\"24px\"viewBox=\"0 0 24 24\"\n",
              "     width=\"24px\">\n",
              "    <g>\n",
              "        <path d=\"M19 3H5c-1.1 0-2 .9-2 2v14c0 1.1.9 2 2 2h14c1.1 0 2-.9 2-2V5c0-1.1-.9-2-2-2zM9 17H7v-7h2v7zm4 0h-2V7h2v10zm4 0h-2v-4h2v4z\"/>\n",
              "    </g>\n",
              "</svg>\n",
              "      </button>\n",
              "\n",
              "<style>\n",
              "  .colab-df-quickchart {\n",
              "      --bg-color: #E8F0FE;\n",
              "      --fill-color: #1967D2;\n",
              "      --hover-bg-color: #E2EBFA;\n",
              "      --hover-fill-color: #174EA6;\n",
              "      --disabled-fill-color: #AAA;\n",
              "      --disabled-bg-color: #DDD;\n",
              "  }\n",
              "\n",
              "  [theme=dark] .colab-df-quickchart {\n",
              "      --bg-color: #3B4455;\n",
              "      --fill-color: #D2E3FC;\n",
              "      --hover-bg-color: #434B5C;\n",
              "      --hover-fill-color: #FFFFFF;\n",
              "      --disabled-bg-color: #3B4455;\n",
              "      --disabled-fill-color: #666;\n",
              "  }\n",
              "\n",
              "  .colab-df-quickchart {\n",
              "    background-color: var(--bg-color);\n",
              "    border: none;\n",
              "    border-radius: 50%;\n",
              "    cursor: pointer;\n",
              "    display: none;\n",
              "    fill: var(--fill-color);\n",
              "    height: 32px;\n",
              "    padding: 0;\n",
              "    width: 32px;\n",
              "  }\n",
              "\n",
              "  .colab-df-quickchart:hover {\n",
              "    background-color: var(--hover-bg-color);\n",
              "    box-shadow: 0 1px 2px rgba(60, 64, 67, 0.3), 0 1px 3px 1px rgba(60, 64, 67, 0.15);\n",
              "    fill: var(--button-hover-fill-color);\n",
              "  }\n",
              "\n",
              "  .colab-df-quickchart-complete:disabled,\n",
              "  .colab-df-quickchart-complete:disabled:hover {\n",
              "    background-color: var(--disabled-bg-color);\n",
              "    fill: var(--disabled-fill-color);\n",
              "    box-shadow: none;\n",
              "  }\n",
              "\n",
              "  .colab-df-spinner {\n",
              "    border: 2px solid var(--fill-color);\n",
              "    border-color: transparent;\n",
              "    border-bottom-color: var(--fill-color);\n",
              "    animation:\n",
              "      spin 1s steps(1) infinite;\n",
              "  }\n",
              "\n",
              "  @keyframes spin {\n",
              "    0% {\n",
              "      border-color: transparent;\n",
              "      border-bottom-color: var(--fill-color);\n",
              "      border-left-color: var(--fill-color);\n",
              "    }\n",
              "    20% {\n",
              "      border-color: transparent;\n",
              "      border-left-color: var(--fill-color);\n",
              "      border-top-color: var(--fill-color);\n",
              "    }\n",
              "    30% {\n",
              "      border-color: transparent;\n",
              "      border-left-color: var(--fill-color);\n",
              "      border-top-color: var(--fill-color);\n",
              "      border-right-color: var(--fill-color);\n",
              "    }\n",
              "    40% {\n",
              "      border-color: transparent;\n",
              "      border-right-color: var(--fill-color);\n",
              "      border-top-color: var(--fill-color);\n",
              "    }\n",
              "    60% {\n",
              "      border-color: transparent;\n",
              "      border-right-color: var(--fill-color);\n",
              "    }\n",
              "    80% {\n",
              "      border-color: transparent;\n",
              "      border-right-color: var(--fill-color);\n",
              "      border-bottom-color: var(--fill-color);\n",
              "    }\n",
              "    90% {\n",
              "      border-color: transparent;\n",
              "      border-bottom-color: var(--fill-color);\n",
              "    }\n",
              "  }\n",
              "</style>\n",
              "\n",
              "      <script>\n",
              "        async function quickchart(key) {\n",
              "          const quickchartButtonEl =\n",
              "            document.querySelector('#' + key + ' button');\n",
              "          quickchartButtonEl.disabled = true;  // To prevent multiple clicks.\n",
              "          quickchartButtonEl.classList.add('colab-df-spinner');\n",
              "          try {\n",
              "            const charts = await google.colab.kernel.invokeFunction(\n",
              "                'suggestCharts', [key], {});\n",
              "          } catch (error) {\n",
              "            console.error('Error during call to suggestCharts:', error);\n",
              "          }\n",
              "          quickchartButtonEl.classList.remove('colab-df-spinner');\n",
              "          quickchartButtonEl.classList.add('colab-df-quickchart-complete');\n",
              "        }\n",
              "        (() => {\n",
              "          let quickchartButtonEl =\n",
              "            document.querySelector('#df-dda1a387-4873-4449-9719-a1994cfe2d37 button');\n",
              "          quickchartButtonEl.style.display =\n",
              "            google.colab.kernel.accessAllowed ? 'block' : 'none';\n",
              "        })();\n",
              "      </script>\n",
              "    </div>\n",
              "\n",
              "  <div id=\"id_1d9a36d9-5411-411a-8eea-69ecd68b533c\">\n",
              "    <style>\n",
              "      .colab-df-generate {\n",
              "        background-color: #E8F0FE;\n",
              "        border: none;\n",
              "        border-radius: 50%;\n",
              "        cursor: pointer;\n",
              "        display: none;\n",
              "        fill: #1967D2;\n",
              "        height: 32px;\n",
              "        padding: 0 0 0 0;\n",
              "        width: 32px;\n",
              "      }\n",
              "\n",
              "      .colab-df-generate:hover {\n",
              "        background-color: #E2EBFA;\n",
              "        box-shadow: 0px 1px 2px rgba(60, 64, 67, 0.3), 0px 1px 3px 1px rgba(60, 64, 67, 0.15);\n",
              "        fill: #174EA6;\n",
              "      }\n",
              "\n",
              "      [theme=dark] .colab-df-generate {\n",
              "        background-color: #3B4455;\n",
              "        fill: #D2E3FC;\n",
              "      }\n",
              "\n",
              "      [theme=dark] .colab-df-generate:hover {\n",
              "        background-color: #434B5C;\n",
              "        box-shadow: 0px 1px 3px 1px rgba(0, 0, 0, 0.15);\n",
              "        filter: drop-shadow(0px 1px 2px rgba(0, 0, 0, 0.3));\n",
              "        fill: #FFFFFF;\n",
              "      }\n",
              "    </style>\n",
              "    <button class=\"colab-df-generate\" onclick=\"generateWithVariable('title_rating')\"\n",
              "            title=\"Generate code using this dataframe.\"\n",
              "            style=\"display:none;\">\n",
              "\n",
              "  <svg xmlns=\"http://www.w3.org/2000/svg\" height=\"24px\"viewBox=\"0 0 24 24\"\n",
              "       width=\"24px\">\n",
              "    <path d=\"M7,19H8.4L18.45,9,17,7.55,7,17.6ZM5,21V16.75L18.45,3.32a2,2,0,0,1,2.83,0l1.4,1.43a1.91,1.91,0,0,1,.58,1.4,1.91,1.91,0,0,1-.58,1.4L9.25,21ZM18.45,9,17,7.55Zm-12,3A5.31,5.31,0,0,0,4.9,8.1,5.31,5.31,0,0,0,1,6.5,5.31,5.31,0,0,0,4.9,4.9,5.31,5.31,0,0,0,6.5,1,5.31,5.31,0,0,0,8.1,4.9,5.31,5.31,0,0,0,12,6.5,5.46,5.46,0,0,0,6.5,12Z\"/>\n",
              "  </svg>\n",
              "    </button>\n",
              "    <script>\n",
              "      (() => {\n",
              "      const buttonEl =\n",
              "        document.querySelector('#id_1d9a36d9-5411-411a-8eea-69ecd68b533c button.colab-df-generate');\n",
              "      buttonEl.style.display =\n",
              "        google.colab.kernel.accessAllowed ? 'block' : 'none';\n",
              "\n",
              "      buttonEl.onclick = () => {\n",
              "        google.colab.notebook.generateWithVariable('title_rating');\n",
              "      }\n",
              "      })();\n",
              "    </script>\n",
              "  </div>\n",
              "\n",
              "    </div>\n",
              "  </div>\n"
            ],
            "application/vnd.google.colaboratory.intrinsic+json": {
              "type": "dataframe",
              "variable_name": "title_rating",
              "summary": "{\n  \"name\": \"title_rating\",\n  \"rows\": 20,\n  \"fields\": [\n    {\n      \"column\": \"Title\",\n      \"properties\": {\n        \"dtype\": \"string\",\n        \"num_unique_values\": 20,\n        \"samples\": [\n          \"Wild Animus\",\n          \"The Pelican Brief\",\n          \"House of Sand and Fog\"\n        ],\n        \"semantic_type\": \"\",\n        \"description\": \"\"\n      }\n    },\n    {\n      \"column\": \"Count\",\n      \"properties\": {\n        \"dtype\": \"number\",\n        \"std\": 431,\n        \"min\": 573,\n        \"max\": 2502,\n        \"num_unique_values\": 20,\n        \"samples\": [\n          2502,\n          581,\n          588\n        ],\n        \"semantic_type\": \"\",\n        \"description\": \"\"\n      }\n    },\n    {\n      \"column\": \"mean\",\n      \"properties\": {\n        \"dtype\": \"number\",\n        \"std\": 0.8568701750312434,\n        \"min\": 1.0195843325339728,\n        \"max\": 4.895652173913043,\n        \"num_unique_values\": 20,\n        \"samples\": [\n          1.0195843325339728,\n          2.6110154905335627,\n          3.0306122448979593\n        ],\n        \"semantic_type\": \"\",\n        \"description\": \"\"\n      }\n    }\n  ]\n}"
            }
          },
          "metadata": {},
          "execution_count": 51
        }
      ]
    },
    {
      "cell_type": "markdown",
      "source": [
        "***Insight:***\n",
        "\n",
        "Dari hasil pengelompokan data berdasarkan judul buku, ditemukan 20 buku yang paling banyak mendapatkan rating dari pengguna. Buku-buku ini memiliki tingkat popularitas tinggi karena sering dinilai oleh banyak pengguna. Selain itu, informasi rata-rata rating pada masing-masing buku juga membantu mengukur seberapa baik buku tersebut diterima. Data ini sangat berguna untuk mengidentifikasi buku-buku populer dan berkualitas, yang dapat dijadikan prioritas dalam sistem rekomendasi."
      ],
      "metadata": {
        "id": "AEFUTaQV83pP"
      }
    },
    {
      "cell_type": "markdown",
      "source": [
        "## **Mengecek apakah ada data duplikat dari dataset gabungan**"
      ],
      "metadata": {
        "id": "AmEZxW8xt11w"
      }
    },
    {
      "cell_type": "markdown",
      "source": [
        "Tahap ini menghapus data yang sama persis lebih dari satu kali. Duplikasi bisa membuat model belajar dari informasi berulang, sehingga menurunkan akurasi. Dengan menghilangkan duplikat, data jadi lebih bersih dan hasil analisis lebih akurat."
      ],
      "metadata": {
        "id": "66DnnGHYAuFZ"
      }
    },
    {
      "cell_type": "code",
      "source": [
        "# Mengecek jumlah baris duplikat di DataFrame 'data_merged'\n",
        "data_merged.duplicated().sum()"
      ],
      "metadata": {
        "colab": {
          "base_uri": "https://localhost:8080/"
        },
        "id": "H8v2zMZQ5cOm",
        "outputId": "6f0c2fe5-5d7a-4b6f-e088-3f6ab57b3f3a"
      },
      "execution_count": 52,
      "outputs": [
        {
          "output_type": "execute_result",
          "data": {
            "text/plain": [
              "np.int64(0)"
            ]
          },
          "metadata": {},
          "execution_count": 52
        }
      ]
    },
    {
      "cell_type": "markdown",
      "source": [
        "***Insight:***\n",
        "\n",
        "Hasil pengecekan pada DataFrame `data_merged` menunjukkan bahwa tidak terdapat baris duplikat dalam data. Hal ini menandakan bahwa setiap interaksi pengguna terhadap buku bersifat unik, sehingga tidak diperlukan proses penghapusan duplikasi. Ini menjadi indikator positif karena kualitas data sudah cukup baik untuk langsung digunakan dalam tahap analisis atau pembangunan model rekomendasi."
      ],
      "metadata": {
        "id": "xvPvrdgjvjAl"
      }
    },
    {
      "cell_type": "markdown",
      "source": [
        "## **Mengecek dan Menangani Missing Values Pada Dataset Gabungan**"
      ],
      "metadata": {
        "id": "MrcWUcIvVnTy"
      }
    },
    {
      "cell_type": "markdown",
      "source": [
        "Tahap ini bertujuan memastikan data yang digunakan bebas dari nilai kosong atau hilang yang bisa menimbulkan kesalahan atau bias. Dengan menangani missing values, dataset menjadi lebih lengkap dan hasil analisis maupun model prediksi jadi lebih tepat dan dapat diandalkan."
      ],
      "metadata": {
        "id": "Y__mSu1bAweU"
      }
    },
    {
      "cell_type": "code",
      "source": [
        "# Mengecek missing values\n",
        "data_merged.isna().sum()"
      ],
      "metadata": {
        "colab": {
          "base_uri": "https://localhost:8080/",
          "height": 304
        },
        "id": "ITS5Q8K_V3JW",
        "outputId": "318bac5d-83e6-4a9f-ba30-365212858eaa"
      },
      "execution_count": 53,
      "outputs": [
        {
          "output_type": "execute_result",
          "data": {
            "text/plain": [
              "User_id      0\n",
              "ISBN         0\n",
              "Rating       0\n",
              "Title        0\n",
              "Author       0\n",
              "Year         0\n",
              "Publisher    0\n",
              "dtype: int64"
            ],
            "text/html": [
              "<div>\n",
              "<style scoped>\n",
              "    .dataframe tbody tr th:only-of-type {\n",
              "        vertical-align: middle;\n",
              "    }\n",
              "\n",
              "    .dataframe tbody tr th {\n",
              "        vertical-align: top;\n",
              "    }\n",
              "\n",
              "    .dataframe thead th {\n",
              "        text-align: right;\n",
              "    }\n",
              "</style>\n",
              "<table border=\"1\" class=\"dataframe\">\n",
              "  <thead>\n",
              "    <tr style=\"text-align: right;\">\n",
              "      <th></th>\n",
              "      <th>0</th>\n",
              "    </tr>\n",
              "  </thead>\n",
              "  <tbody>\n",
              "    <tr>\n",
              "      <th>User_id</th>\n",
              "      <td>0</td>\n",
              "    </tr>\n",
              "    <tr>\n",
              "      <th>ISBN</th>\n",
              "      <td>0</td>\n",
              "    </tr>\n",
              "    <tr>\n",
              "      <th>Rating</th>\n",
              "      <td>0</td>\n",
              "    </tr>\n",
              "    <tr>\n",
              "      <th>Title</th>\n",
              "      <td>0</td>\n",
              "    </tr>\n",
              "    <tr>\n",
              "      <th>Author</th>\n",
              "      <td>0</td>\n",
              "    </tr>\n",
              "    <tr>\n",
              "      <th>Year</th>\n",
              "      <td>0</td>\n",
              "    </tr>\n",
              "    <tr>\n",
              "      <th>Publisher</th>\n",
              "      <td>0</td>\n",
              "    </tr>\n",
              "  </tbody>\n",
              "</table>\n",
              "</div><br><label><b>dtype:</b> int64</label>"
            ]
          },
          "metadata": {},
          "execution_count": 53
        }
      ]
    },
    {
      "cell_type": "markdown",
      "source": [
        "***Insight:***\n",
        "\n",
        "Hasil pemeriksaan menunjukkan bahwa dataset gabungan tidak mengandung missing values, sehingga tidak diperlukan proses imputasi atau penghapusan data pada tahap ini."
      ],
      "metadata": {
        "id": "4wF6jW1H_1qJ"
      }
    },
    {
      "cell_type": "markdown",
      "source": [
        "## **Melakukan Sampling Dataset**"
      ],
      "metadata": {
        "id": "apGtdKSA_918"
      }
    },
    {
      "cell_type": "markdown",
      "source": [
        "Tahap ini mengambil sampel acak sebanyak `500.000 baris` dari dataset agar proses eksplorasi, pelatihan, dan evaluasi bisa berjalan lebih cepat dan efisien. Pengaturan `random_state=42` memastikan hasil sampling sama setiap kali dijalankan, sehingga eksperimen menjadi konsisten."
      ],
      "metadata": {
        "id": "8gpFdeJyA6oo"
      }
    },
    {
      "cell_type": "code",
      "source": [
        "data_small = data_merged.sample(500000, random_state=42).copy()"
      ],
      "metadata": {
        "id": "j5gCLdRNf7Nc"
      },
      "execution_count": 54,
      "outputs": []
    },
    {
      "cell_type": "markdown",
      "source": [
        "Dataframe `data_small` berhasil dibuat dengan mengambil 500.000 sampel dari data asli. Dengan ukuran yang lebih kecil ini, proses eksplorasi data dan pemodelan dapat dilakukan lebih cepat dan efisien. Meskipun jumlah data dikurangi, kualitas analisis tetap terjaga karena sampel yang diambil mewakili keseluruhan dataset secara acak dan konsisten.\n",
        "\n",
        "\n",
        "\n",
        "\n",
        "\n",
        "\n",
        "\n"
      ],
      "metadata": {
        "id": "utlVZeBXBEcH"
      }
    },
    {
      "cell_type": "markdown",
      "source": [
        "## **Menyalin Data dan Melakukan Encoding**"
      ],
      "metadata": {
        "id": "FjR9i2xUBihm"
      }
    },
    {
      "cell_type": "markdown",
      "source": [
        "Pada tahap ini dilakukan penyalinan data untuk memastikan proses pemodelan tidak mengubah data asli. Selanjutnya, dilakukan encoding terhadap kolom seperti User_id dan ISBN menjadi format numerik agar dapat dikenali dan diproses dengan baik oleh algoritma collaborative filtering."
      ],
      "metadata": {
        "id": "ZNHs8BL2CvPv"
      }
    },
    {
      "cell_type": "code",
      "source": [
        "# Salin data untuk collaborative filtering\n",
        "cf_df = data_small.copy()\n",
        "\n",
        "# Encode user dan ISBN\n",
        "user_ids = cf_df['User_id'].unique().tolist()\n",
        "user_to_user_encoded = {x: i for i, x in enumerate(user_ids)}\n",
        "user_encoded_to_user = {i: x for i, x in enumerate(user_ids)}\n",
        "\n",
        "book_ids = cf_df['ISBN'].unique().tolist()\n",
        "book_to_book_encoded = {x: i for i, x in enumerate(book_ids)}\n",
        "book_encoded_to_book = {i: x for i, x in enumerate(book_ids)}\n",
        "\n",
        "cf_df['user'] = cf_df['User_id'].map(user_to_user_encoded)\n",
        "cf_df['book'] = cf_df['ISBN'].map(book_to_book_encoded)\n",
        "\n",
        "# Variabel tambahan\n",
        "num_users = len(user_to_user_encoded)\n",
        "num_books = len(book_encoded_to_book)\n",
        "min_rating = cf_df['Rating'].min()\n",
        "max_rating = cf_df['Rating'].max()\n",
        "\n",
        "print(f'Users: {num_users}, Books: {num_books}, Rating range: {min_rating}–{max_rating}')"
      ],
      "metadata": {
        "colab": {
          "base_uri": "https://localhost:8080/"
        },
        "id": "HgcWXXJUZUf0",
        "outputId": "8155fb63-013a-4c7f-e30a-ad9de7a89014"
      },
      "execution_count": 55,
      "outputs": [
        {
          "output_type": "stream",
          "name": "stdout",
          "text": [
            "Users: 61584, Books: 177748, Rating range: 0–10\n"
          ]
        }
      ]
    },
    {
      "cell_type": "markdown",
      "source": [
        "***Insight:***\n",
        "\n",
        "Dari hasil encoding data, diketahui terdapat `61.584` pengguna unik dan `177.748` buku unik dalam dataset. Ini menunjukkan skala data yang cukup besar dan bervariasi, yang menjadi dasar yang baik untuk membangun sistem rekomendasi berbasis collaborative filtering. Rentang rating yang ditemukan adalah dari `0 hingga 10`, yang memberi fleksibilitas model dalam mempelajari preferensi pengguna secara lebih detail. Informasi ini juga penting untuk menentukan strategi normalisasi atau penyesuaian skala rating selama proses pelatihan model."
      ],
      "metadata": {
        "id": "vR2bM_44DOmC"
      }
    },
    {
      "cell_type": "markdown",
      "source": [
        "## **Pembagian Data**"
      ],
      "metadata": {
        "id": "yFiZwQudDV2N"
      }
    },
    {
      "cell_type": "markdown",
      "source": [
        "Pada tahap pembagian data, dataset yang telah diproses dibagi menjadi dua bagian, yaitu data training dan data testing dengan rasio 80:20. Data training berfungsi sebagai bahan pembelajaran bagi model untuk mengenali pola dan hubungan antara pengguna dan buku berdasarkan rating yang diberikan. Sementara itu, data testing digunakan untuk menguji seberapa baik model dapat melakukan prediksi terhadap data yang belum pernah dilihat sebelumnya. Pembagian ini penting untuk menilai kemampuan generalisasi model secara objektif."
      ],
      "metadata": {
        "id": "1rLOHyH0Di6E"
      }
    },
    {
      "cell_type": "code",
      "source": [
        "x = cf_df[['user', 'book']].values\n",
        "y = cf_df['Rating'].apply(lambda x: (x - min_rating) / (max_rating - min_rating)).values\n",
        "\n",
        "x_train, x_val, y_train, y_val = train_test_split(x, y, test_size=0.2, random_state=42)"
      ],
      "metadata": {
        "id": "_CiVGydhdbtb"
      },
      "execution_count": 56,
      "outputs": []
    },
    {
      "cell_type": "markdown",
      "source": [
        "***Insight:***\n",
        "\n",
        "Pembagian data menjadi 80% training dan 20% testing memungkinkan proses pelatihan model berjalan dengan cukup data untuk memahami pola rekomendasi, sekaligus memberikan ruang evaluasi yang cukup untuk mengukur performa model. Dengan pendekatan ini, kita dapat memastikan bahwa model tidak hanya hafal data training, tetapi juga mampu memberikan prediksi yang akurat pada data baru, yang merupakan inti dari sistem rekomendasi yang efektif."
      ],
      "metadata": {
        "id": "pKzrEzg-D3e8"
      }
    },
    {
      "cell_type": "markdown",
      "source": [
        "# **Model Development**"
      ],
      "metadata": {
        "id": "pXwt7P8n75G3"
      }
    },
    {
      "cell_type": "markdown",
      "source": [
        "Pada tahap ini, fokus utama adalah mengembangkan sistem rekomendasi buku dengan menggunakan pendekatan `Collaborative Filtering`. Pendekatan ini bekerja dengan cara menganalisis pola interaksi antara pengguna dan buku — khususnya dari data rating yang diberikan — untuk memahami kesamaan preferensi antar pengguna. Dengan memahami pola tersebut, sistem dapat menyarankan buku-buku yang belum pernah dibaca oleh seorang pengguna, namun dinilai tinggi oleh pengguna lain yang memiliki kesukaan serupa, sehingga menghasilkan rekomendasi yang bersifat lebih personal dan relevan."
      ],
      "metadata": {
        "id": "4YsumfQDEUd3"
      }
    },
    {
      "cell_type": "markdown",
      "source": [
        "## **Collaborative Filtering**"
      ],
      "metadata": {
        "id": "-IzKibVQZQXc"
      }
    },
    {
      "cell_type": "markdown",
      "source": [
        "### **Proses Training**"
      ],
      "metadata": {
        "id": "U9aewt45EGBV"
      }
    },
    {
      "cell_type": "code",
      "source": [
        "class RecommenderNet(tf.keras.Model):\n",
        "    def __init__(self, num_users, num_books, embedding_size, **kwargs):\n",
        "        super(RecommenderNet, self).__init__(**kwargs)\n",
        "        self.user_embedding = layers.Embedding(\n",
        "            num_users, embedding_size,\n",
        "            embeddings_initializer='he_normal',\n",
        "            embeddings_regularizer=keras.regularizers.l2(1e-6)\n",
        "        )\n",
        "        self.user_bias = layers.Embedding(num_users, 1)\n",
        "\n",
        "        self.book_embedding = layers.Embedding(\n",
        "            num_books, embedding_size,\n",
        "            embeddings_initializer='he_normal',\n",
        "            embeddings_regularizer=keras.regularizers.l2(1e-6)\n",
        "        )\n",
        "        self.book_bias = layers.Embedding(num_books, 1)\n",
        "\n",
        "    def call(self, inputs):\n",
        "        user_vector = self.user_embedding(inputs[:, 0])\n",
        "        user_bias = self.user_bias(inputs[:, 0])\n",
        "        book_vector = self.book_embedding(inputs[:, 1])\n",
        "        book_bias = self.book_bias(inputs[:, 1])\n",
        "\n",
        "        dot_user_book = tf.tensordot(user_vector, book_vector, 2)\n",
        "        x = dot_user_book + user_bias + book_bias\n",
        "        return tf.nn.sigmoid(x)"
      ],
      "metadata": {
        "id": "3VJZUXoNdgoU"
      },
      "execution_count": 57,
      "outputs": []
    },
    {
      "cell_type": "code",
      "source": [
        "model = RecommenderNet(num_users, num_books, embedding_size=50)\n",
        "model.compile(\n",
        "    loss=tf.keras.losses.BinaryCrossentropy(),\n",
        "    optimizer=keras.optimizers.Adam(learning_rate=0.001),\n",
        "    metrics=[tf.keras.metrics.RootMeanSquaredError()]\n",
        ")\n",
        "\n",
        "history = model.fit(\n",
        "    x_train, y_train,\n",
        "    batch_size=256,\n",
        "    epochs=8,\n",
        "    validation_data=(x_val, y_val)\n",
        ")"
      ],
      "metadata": {
        "colab": {
          "base_uri": "https://localhost:8080/"
        },
        "id": "aQYLeF2vdhZw",
        "outputId": "ab3824ad-be6c-47c0-dd13-7c7bcaf25d45"
      },
      "execution_count": 58,
      "outputs": [
        {
          "output_type": "stream",
          "name": "stdout",
          "text": [
            "Epoch 1/8\n",
            "\u001b[1m1563/1563\u001b[0m \u001b[32m━━━━━━━━━━━━━━━━━━━━\u001b[0m\u001b[37m\u001b[0m \u001b[1m14s\u001b[0m 6ms/step - loss: 0.6403 - root_mean_squared_error: 0.4114 - val_loss: 0.5675 - val_root_mean_squared_error: 0.3673\n",
            "Epoch 2/8\n",
            "\u001b[1m1563/1563\u001b[0m \u001b[32m━━━━━━━━━━━━━━━━━━━━\u001b[0m\u001b[37m\u001b[0m \u001b[1m8s\u001b[0m 5ms/step - loss: 0.5692 - root_mean_squared_error: 0.3676 - val_loss: 0.5893 - val_root_mean_squared_error: 0.3769\n",
            "Epoch 3/8\n",
            "\u001b[1m1563/1563\u001b[0m \u001b[32m━━━━━━━━━━━━━━━━━━━━\u001b[0m\u001b[37m\u001b[0m \u001b[1m12s\u001b[0m 6ms/step - loss: 0.5783 - root_mean_squared_error: 0.3699 - val_loss: 0.5894 - val_root_mean_squared_error: 0.3744\n",
            "Epoch 4/8\n",
            "\u001b[1m1563/1563\u001b[0m \u001b[32m━━━━━━━━━━━━━━━━━━━━\u001b[0m\u001b[37m\u001b[0m \u001b[1m9s\u001b[0m 5ms/step - loss: 0.6473 - root_mean_squared_error: 0.3965 - val_loss: 0.5895 - val_root_mean_squared_error: 0.3717\n",
            "Epoch 5/8\n",
            "\u001b[1m1563/1563\u001b[0m \u001b[32m━━━━━━━━━━━━━━━━━━━━\u001b[0m\u001b[37m\u001b[0m \u001b[1m8s\u001b[0m 5ms/step - loss: 0.7164 - root_mean_squared_error: 0.4191 - val_loss: 0.5819 - val_root_mean_squared_error: 0.3640\n",
            "Epoch 6/8\n",
            "\u001b[1m1563/1563\u001b[0m \u001b[32m━━━━━━━━━━━━━━━━━━━━\u001b[0m\u001b[37m\u001b[0m \u001b[1m8s\u001b[0m 5ms/step - loss: 0.7797 - root_mean_squared_error: 0.4153 - val_loss: 0.6152 - val_root_mean_squared_error: 0.3806\n",
            "Epoch 7/8\n",
            "\u001b[1m1563/1563\u001b[0m \u001b[32m━━━━━━━━━━━━━━━━━━━━\u001b[0m\u001b[37m\u001b[0m \u001b[1m11s\u001b[0m 6ms/step - loss: 1.7120 - root_mean_squared_error: 0.6201 - val_loss: 1.0273 - val_root_mean_squared_error: 0.4447\n",
            "Epoch 8/8\n",
            "\u001b[1m1563/1563\u001b[0m \u001b[32m━━━━━━━━━━━━━━━━━━━━\u001b[0m\u001b[37m\u001b[0m \u001b[1m9s\u001b[0m 5ms/step - loss: 2.3151 - root_mean_squared_error: 0.4726 - val_loss: 0.7713 - val_root_mean_squared_error: 0.4509\n"
          ]
        }
      ]
    },
    {
      "cell_type": "markdown",
      "source": [
        "***Insight:***\n",
        "\n",
        "Hasil pelatihan selama 8 epoch menunjukkan bahwa model mencapai performa validasi terbaik pada epoch kelima dengan RMSE validasi sebesar 0.3640. Setelah itu, performa mulai menurun secara bertahap, yang mengindikasikan adanya overfitting. Hal ini terlihat jelas pada epoch 7 dan 8, di mana nilai loss dan RMSE meningkat tajam, menunjukkan bahwa model tidak lagi belajar dengan optimal dari data. Di akhir pelatihan (epoch 8), performa validasi tetap menurun. Namun, tidak mampu melebihi performa terbaik sebelumnya."
      ],
      "metadata": {
        "id": "6kvpZUWfGjwa"
      }
    },
    {
      "cell_type": "markdown",
      "source": [
        "# **Evaluasi Model**"
      ],
      "metadata": {
        "id": "_4q-DkX2ifi_"
      }
    },
    {
      "cell_type": "markdown",
      "source": [
        "Pada tahap ini, proses evaluasi dilakukan untuk menilai sejauh mana model Collaborative Filtering mampu memberikan rekomendasi buku yang sesuai dengan preferensi pengguna. Evaluasi ini menjadi langkah penting untuk mengetahui akurasi dan efektivitas model dalam memprediksi rating atau ketertarikan pengguna terhadap buku-buku yang belum pernah mereka baca."
      ],
      "metadata": {
        "id": "J-f8Sp41Jc_i"
      }
    },
    {
      "cell_type": "markdown",
      "source": [
        "# **Metrik Visualisasi**"
      ],
      "metadata": {
        "id": "uTaqViAVH76Z"
      }
    },
    {
      "cell_type": "code",
      "source": [
        "plt.plot(history.history['root_mean_squared_error'])\n",
        "plt.plot(history.history['val_root_mean_squared_error'])\n",
        "plt.title('Model Performance')\n",
        "plt.ylabel('Root Mean Squared Error')\n",
        "plt.xlabel('Epoch')\n",
        "plt.legend(['Train', 'Validation'], loc='upper right')\n",
        "plt.grid(True)\n",
        "plt.show()"
      ],
      "metadata": {
        "colab": {
          "base_uri": "https://localhost:8080/",
          "height": 472
        },
        "id": "i1RzyNSqiBZf",
        "outputId": "47caaf58-6bae-4d70-8c9c-d3683e58bca6"
      },
      "execution_count": 62,
      "outputs": [
        {
          "output_type": "display_data",
          "data": {
            "text/plain": [
              "<Figure size 640x480 with 1 Axes>"
            ],
            "image/png": "[encoded data removed]"
          },
          "metadata": {}
        }
      ]
    },
    {
      "cell_type": "markdown",
      "source": [
        "***Insight:***\n",
        "\n",
        "Hasil pelatihan selama 8 epoch menunjukkan bahwa model mencapai performa validasi terbaik pada epoch kelima dengan RMSE validasi sebesar 0.3640. Setelah itu, performa mulai menurun secara bertahap, yang mengindikasikan adanya overfitting. Hal ini terlihat jelas pada epoch 6 dan 7, di mana nilai loss dan RMSE meningkat tajam, menunjukkan bahwa model tidak lagi belajar dengan optimal dari data. Di akhir pelatihan (epoch 8), performa validasi sedikit membaik, namun tetap belum melebihi performa terbaik pada epoch kelima."
      ],
      "metadata": {
        "id": "j-1nD9AnI1Vd"
      }
    },
    {
      "cell_type": "markdown",
      "source": [
        "## **Mendapatkan Rekomendasi Buku**"
      ],
      "metadata": {
        "id": "DPtCDW7VJkm7"
      }
    },
    {
      "cell_type": "code",
      "source": [
        "def recommend_books_for_user(user_id, model, cf_df, user_to_user_encoded, user_encoded_to_user,\n",
        "                             book_to_book_encoded, book_encoded_to_book, top_k=10):\n",
        "\n",
        "    if user_id not in user_to_user_encoded:\n",
        "        print(f\"User {user_id} tidak ditemukan di data training.\")\n",
        "        return []\n",
        "\n",
        "    user_encoded = user_to_user_encoded[user_id]\n",
        "\n",
        "    # Buku yang sudah dibaca user\n",
        "    books_read = cf_df[cf_df['User_id'] == user_id]['ISBN'].unique()\n",
        "    books_not_read = [isbn for isbn in book_to_book_encoded.keys() if isbn not in books_read]\n",
        "    books_not_read_encoded = [book_to_book_encoded[isbn] for isbn in books_not_read]\n",
        "\n",
        "    user_array = np.array([user_encoded] * len(books_not_read_encoded))\n",
        "    book_array = np.array(books_not_read_encoded)\n",
        "    input_array = np.vstack((user_array, book_array)).T\n",
        "\n",
        "    # Prediksi rating\n",
        "    pred_ratings = model.predict(input_array, verbose=0).flatten()\n",
        "\n",
        "    top_indices = pred_ratings.argsort()[-top_k:][::-1]\n",
        "    top_book_encoded = [books_not_read_encoded[i] for i in top_indices]\n",
        "    top_book_isbn = [book_encoded_to_book[i] for i in top_book_encoded]\n",
        "\n",
        "    print(f\"\\nRekomendasi {top_k} buku untuk user {user_id}:\\n\")\n",
        "\n",
        "    for isbn in top_book_isbn:\n",
        "        title_row = cf_df[cf_df['ISBN'] == isbn]['Title']\n",
        "        title = title_row.values[0] if not title_row.empty else \"Judul tidak ditemukan\"\n",
        "        print(f\"- {title}\")\n",
        "\n",
        "    return top_book_isbn"
      ],
      "metadata": {
        "id": "9XSaMLeIjIJ8"
      },
      "execution_count": 60,
      "outputs": []
    },
    {
      "cell_type": "code",
      "source": [
        "user_sample = cf_df['User_id'].sample(1).iloc[0]\n",
        "\n",
        "recommend_books_for_user(\n",
        "    user_sample,\n",
        "    model,\n",
        "    cf_df,\n",
        "    user_to_user_encoded,\n",
        "    user_encoded_to_user,\n",
        "    book_to_book_encoded,\n",
        "    book_encoded_to_book,\n",
        "    top_k=10\n",
        ")"
      ],
      "metadata": {
        "colab": {
          "base_uri": "https://localhost:8080/"
        },
        "id": "QFp-HWT0jPvu",
        "outputId": "bddc81a6-8db8-4a27-8b80-4d1aaf7111df"
      },
      "execution_count": 61,
      "outputs": [
        {
          "output_type": "stream",
          "name": "stdout",
          "text": [
            "\n",
            "Rekomendasi 10 buku untuk user 174791:\n",
            "\n",
            "- Harry Potter and the Chamber of Secrets (Book 2)\n",
            "- Harry Potter and the Goblet of Fire (Book 4)\n",
            "- Harry Potter and the Sorcerer's Stone (Book 1)\n",
            "- The Lovely Bones: A Novel\n",
            "- Free\n",
            "- The Hobbit : The Enchanting Prelude to The Lord of the Rings\n",
            "- Harry Potter and the Prisoner of Azkaban (Book 3)\n",
            "- Coraline\n",
            "- The Da Vinci Code\n",
            "- Sam's Letters to Jennifer\n"
          ]
        },
        {
          "output_type": "execute_result",
          "data": {
            "text/plain": [
              "['0439064864',\n",
              " '0439139597',\n",
              " '0590353403',\n",
              " '0316666343',\n",
              " '1844262553',\n",
              " '0345339681',\n",
              " '0439136350',\n",
              " '0380977788',\n",
              " '0385504209',\n",
              " '0316710571']"
            ]
          },
          "metadata": {},
          "execution_count": 61
        }
      ]
    },
    {
      "cell_type": "markdown",
      "source": [
        "***Insight:***\n",
        "\n",
        "Model berhasil memberikan rekomendasi buku yang menunjukkan relevansi tinggi dengan preferensi pengguna. Hal ini tercermin dari dominasi seri Harry Potter, yang muncul sebanyak empat judul berbeda, yaitu The Chamber of Secrets, The Goblet of Fire, The Sorcerer's Stone, dan The Prisoner of Azkaban. Ini mengindikasikan bahwa pengguna kemungkinan besar memiliki ketertarikan kuat terhadap genre fantasi remaja dan fiksi populer.\n",
        "\n",
        "Selain itu, rekomendasi lain seperti The Hobbit, Coraline, dan The Da Vinci Code juga memperkuat indikasi minat terhadap cerita yang memuat unsur petualangan, misteri, dan dunia imajinatif. Kehadiran buku seperti The Lovely Bones dan Sam's Letters to Jennifer menambahkan dimensi emosional dan drama, menunjukkan bahwa pengguna juga mungkin menyukai bacaan dengan nuansa psikologis atau sentimental.\n",
        "\n",
        "Secara keseluruhan, hasil rekomendasi ini menunjukkan bahwa model Collaborative Filtering bekerja cukup baik dalam mengenali pola preferensi pengguna berdasarkan kemiripan perilaku dengan pengguna lain, serta mampu menghasilkan saran buku yang relevan dan beragam secara genre.\n",
        "\n"
      ],
      "metadata": {
        "id": "6Ih1gv0JKIWB"
      }
    }
  ]
}