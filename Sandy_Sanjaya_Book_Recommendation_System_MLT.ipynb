{
  "nbformat": 4,
  "nbformat_minor": 0,
  "metadata": {
    "colab": {
      "provenance": [],
      "gpuType": "T4"
    },
    "kernelspec": {
      "name": "python3",
      "display_name": "Python 3"
    },
    "language_info": {
      "name": "python"
    },
    "accelerator": "GPU"
  },
  "cells": [
    {
      "cell_type": "markdown",
      "source": [
        "# **Proyek Recommendation System: [Book Recomemendation System]**\n",
        "*   Nama: Sandy Sanjaya\n",
        "*   Email: sandyysanjayaa@upi.edu\n",
        "*   ID Dicoding: Sandy Sanjaya"
      ],
      "metadata": {
        "id": "lzZfI081jiPx"
      }
    },
    {
      "cell_type": "markdown",
      "source": [
        "Selama beberapa dekade terakhir, dengan berkembangnya platform seperti YouTube, Amazon, dan Netflix, sistem rekomendasi telah menjadi bagian yang tidak terpisahkan dari kehidupan digital kita. Dalam berbagai layanan digital seperti e-commerce, platform streaming, hingga iklan daring, sistem rekomendasi membantu menyarankan konten yang sesuai dengan preferensi pengguna — mulai dari produk untuk dibeli, film untuk ditonton, hingga buku untuk dibaca.\n",
        "\n",
        "Secara umum, sistem rekomendasi adalah algoritma yang bertujuan menyarankan item relevan kepada pengguna, berdasarkan minat dan pola interaksi mereka. Di banyak industri, sistem ini sangat krusial karena mampu meningkatkan pendapatan secara signifikan dan menjadi keunggulan kompetitif utama. Salah satu bukti pentingnya sistem ini adalah saat Netflix mengadakan tantangan “Netflix Prize” dengan hadiah 1 juta dolar AS, untuk siapa pun yang berhasil menciptakan sistem rekomendasi yang lebih baik dari algoritma internal mereka.\n",
        "\n",
        "Dalam konteks literasi dan industri buku, sistem rekomendasi memiliki potensi besar untuk membantu pembaca menemukan buku baru yang sesuai dengan preferensi mereka, sekaligus membantu penerbit dan toko buku daring untuk meningkatkan keterlibatan dan penjualan.\n",
        "\n",
        "**Pertanyaan Utama:** <br>\n",
        "- Bagaimana mengidentifikasi pola preferensi pengguna terhadap buku berdasarkan data rating yang tersedia?\n",
        "\n",
        "- Bagaimana menyarankan buku yang belum pernah dibaca oleh pengguna, namun memiliki kemungkinan besar untuk disukai, berdasarkan kesamaan preferensi antar pengguna?\n",
        "\n",
        "- Bagaimana menyajikan hasil eksplorasi data dalam bentuk visualisasi untuk mendukung proses analisis dan pemodelan sistem rekomendasi?\n",
        "\n",
        "**Tujuan:**<br>\n",
        "- Mengolah data rating pengguna untuk memahami distribusi preferensi dan interaksi antar pengguna dan buku.\n",
        "\n",
        "- Membangun sistem rekomendasi berbasis collaborative filtering yang mampu menyarankan buku sesuai dengan selera pengguna yang memiliki pola interaksi serupa.\n",
        "\n",
        "- Menyajikan hasil eksplorasi data dalam bentuk visualisasi (seperti bar plot) untuk memberikan wawasan mengenai distribusi rating, usia pengguna, dan buku paling populer.\n"
      ],
      "metadata": {
        "id": "tmkvcScnjAXa"
      }
    },
    {
      "cell_type": "markdown",
      "source": [
        "**Sumber Dataset:** https://www.kaggle.com/datasets/arashnic/book-recommendation-dataset"
      ],
      "metadata": {
        "id": "MKGrQJOe0wmA"
      }
    },
    {
      "cell_type": "markdown",
      "source": [
        "***Deskripsi:***\n",
        "\n",
        "Dataset Book Recommendation Dataset merupakan kumpulan data yang terdiri dari tiga file utama: Users, Ratings, dan Books. File Users menyimpan informasi mengenai pengguna, di mana setiap pengguna diidentifikasi dengan ID unik yang telah dianonimkan menjadi angka. Selain itu, terdapat data demografis seperti lokasi dan usia, meskipun beberapa nilai mungkin kosong atau tidak tersedia. File Ratings menyajikan data penilaian buku oleh pengguna. Penilaian ini bisa berupa eksplisit (rentang 1–10, semakin tinggi menunjukkan apresiasi yang lebih besar) atau implisit (ditandai dengan nilai 0, menunjukkan interaksi tanpa penilaian langsung). Terakhir, file Books berisi informasi tentang buku yang diidentifikasi dengan ISBN. Selain judul buku, nama penulis (hanya yang pertama jika lebih dari satu), tahun terbit, dan penerbit, file ini juga mencantumkan tautan gambar sampul dalam tiga ukuran berbeda (kecil, sedang, besar) yang diambil dari situs Amazon. Dataset ini banyak digunakan untuk membangun dan menguji sistem rekomendasi berbasis buku."
      ],
      "metadata": {
        "id": "KdnJQ9BK1qUW"
      }
    },
    {
      "cell_type": "markdown",
      "source": [
        "# **Import Library**\n",
        "\n",
        "Pada tahap ini, berbagai library Python yang diperlukan untuk analisis data dan machine learning akan diimpor. Library ini akan digunakan dalam seluruh proses eksplorasi, persiapan, pelatihan, dan evaluasi model."
      ],
      "metadata": {
        "id": "51ExpNXb1cLg"
      }
    },
    {
      "cell_type": "code",
      "execution_count": 1,
      "metadata": {
        "id": "7x5VQbMOhLok"
      },
      "outputs": [],
      "source": [
        "# Import library utama untuk analisis data dan visualisasi\n",
        "import pandas as pd               # Digunakan untuk manipulasi dan analisis data dalam bentuk tabel (DataFrame)\n",
        "import numpy as np                # Digunakan untuk operasi numerik, manipulasi array, dan perhitungan matematis lainnya\n",
        "import seaborn as sns             # Digunakan untuk visualisasi data statistik dengan tampilan yang menarik dan mudah dibaca\n",
        "import matplotlib.pyplot as plt   # Digunakan untuk membuat grafik dan plot visualisasi data\n",
        "\n",
        "# Import library untuk membangun model machine learning berbasis deep learning\n",
        "import tensorflow as tf\n",
        "from tensorflow import keras\n",
        "from tensorflow.keras import layers  # Digunakan untuk menyusun lapisan-lapisan neural network\n",
        "\n",
        "# Import library untuk membagi data menjadi data latih dan data uji\n",
        "from sklearn.model_selection import train_test_split  # Berguna untuk mengevaluasi performa model dengan memisahkan data\n",
        "\n",
        "# Menonaktifkan peringatan (warnings) agar output notebook lebih bersih dan tidak terganggu oleh pesan peringatan\n",
        "import warnings\n",
        "warnings.simplefilter('ignore')   # Peringatan yang biasanya muncul saat menjalankan kode akan disembunyikan"
      ]
    },
    {
      "cell_type": "markdown",
      "source": [
        "# **Data Understanding**"
      ],
      "metadata": {
        "id": "00DcNsxdjwoy"
      }
    },
    {
      "cell_type": "markdown",
      "source": [
        "Data Understanding merupakan tahap awal yang krusial dalam pengembangan proyek machine learning maupun data science. Tahap ini bertujuan untuk memahami isi, struktur, serta kualitas data yang akan dianalisis. Dalam proyek ini, proses Data Understanding akan dilakukan melalui tiga tahapan utama, yaitu:\n",
        "- Melakukan load dataset dan mengubah nama kolom\n",
        "- Melakukan univariate exploratory data analysis\n",
        "- Melakukan visualisasi data\n",
        "- Mengelompokan data user yang melakukan rating terbanyak\n",
        "- Menggabungkan dataset\n",
        "- Mengelompokan data judul dengan jumlah rating terbanyak"
      ],
      "metadata": {
        "id": "GaYm1ZSv1hBg"
      }
    },
    {
      "cell_type": "markdown",
      "source": [
        "**Melakukan Load dataset dan mengubah nama kolom**"
      ],
      "metadata": {
        "id": "XIB7BD_YndK2"
      }
    },
    {
      "cell_type": "code",
      "source": [
        "# Load dataset utama: Users, Books, dan Ratings\n",
        "user = pd.read_csv(\"Users.csv\")\n",
        "rating = pd.read_csv(\"Ratings.csv\")\n",
        "books = pd.read_csv(\"Books.csv\")\n",
        "\n",
        "\n",
        "# Mengubah nama kolom agar lebih konsisten dan mudah digunakan\n",
        "rating.rename(columns={'Book-Rating': 'Rating', 'User-ID': 'User_id'}, inplace=True)\n",
        "user.rename(columns={'User-ID': 'User_id'}, inplace=True)\n",
        "books.rename(columns={'Book-Title': 'Title', 'Book-Author': 'Author', 'Year-Of-Publication': 'Year'}, inplace=True)"
      ],
      "metadata": {
        "id": "fL1Pp848luh_"
      },
      "execution_count": 42,
      "outputs": []
    },
    {
      "cell_type": "markdown",
      "source": [
        "## **Univariate Exploratory Data Analysis**"
      ],
      "metadata": {
        "id": "42JvZRc2oRsb"
      }
    },
    {
      "cell_type": "markdown",
      "source": [
        "**Variabel-variabel pada Book Recommendation System Dataset adalah sebagai berikut:** <br>\n",
        "1. **user**\n",
        "\n",
        "Dataset ini berisi informasi pengguna (user) yang memberikan rating terhadap buku tertentu.\n",
        "Variabel penting:\n",
        "- User_id: ID unik yang merepresentasikan masing-masing pengguna.\n",
        "- Location: Lokasi geografis pengguna (negara/kota/kode pos).\n",
        "- Age: Usia pengguna (dapat berisi nilai kosong atau tidak valid).\n",
        "\n",
        "2. **rating**\n",
        "\n",
        "Dataset ini merepresentasikan rating atau penilaian yang diberikan pengguna terhadap buku tertentu.\n",
        "Variabel penting:\n",
        "- User_id: ID pengguna yang memberi rating.\n",
        "- ISBN: ID buku yang dinilai.\n",
        "- Rating: Nilai rating yang diberikan (rentang 0–10, di mana 0 bisa berarti tidak ada rating eksplisit).\n",
        "\n",
        "3. **books**\n",
        "\n",
        "Dataset ini mencakup detail informasi buku yang ada di sistem.\n",
        "Variabel penting:\n",
        "- ISBN: Nomor unik identifikasi buku.\n",
        "- Title: Judul buku.\n",
        "- Author: Nama penulis buku.\n",
        "- Year: Tahun publikasi buku.\n",
        "- Publisher: Nama penerbit buku.\n",
        "- Image-URL-S/M/L: Link ke gambar cover buku dengan resolusi kecil, sedang, dan besar.\n",
        "\n"
      ],
      "metadata": {
        "id": "qVX4ZukfpUsj"
      }
    },
    {
      "cell_type": "markdown",
      "source": [
        "**Menampilkan lima baris pertama dari masing-masing dataset**"
      ],
      "metadata": {
        "id": "IBnt0VbSrmfH"
      }
    },
    {
      "cell_type": "code",
      "source": [
        "# Menampilkan 5 data pertama dari dataset user\n",
        "print(\"\\nContoh data dari dataset user:\")\n",
        "print(user.head(5))"
      ],
      "metadata": {
        "colab": {
          "base_uri": "https://localhost:8080/"
        },
        "id": "89Fu1j8IoY05",
        "outputId": "33a7d306-786c-4fe1-e41e-0e6b2104d6eb"
      },
      "execution_count": 3,
      "outputs": [
        {
          "output_type": "stream",
          "name": "stdout",
          "text": [
            "\n",
            "Contoh data dari dataset user:\n",
            "   User_id                            Location   Age\n",
            "0        1                  nyc, new york, usa   NaN\n",
            "1        2           stockton, california, usa  18.0\n",
            "2        3     moscow, yukon territory, russia   NaN\n",
            "3        4           porto, v.n.gaia, portugal  17.0\n",
            "4        5  farnborough, hants, united kingdom   NaN\n"
          ]
        }
      ]
    },
    {
      "cell_type": "code",
      "source": [
        "# Menampilkan 5 data pertama dari dataset rating\n",
        "print(\"\\nContoh data dari dataset rating:\")\n",
        "print(rating.head(5))"
      ],
      "metadata": {
        "colab": {
          "base_uri": "https://localhost:8080/"
        },
        "id": "zkRR0zMaoxiK",
        "outputId": "d5bbac4b-2f72-4952-b445-6217101c900a"
      },
      "execution_count": 4,
      "outputs": [
        {
          "output_type": "stream",
          "name": "stdout",
          "text": [
            "\n",
            "Contoh data dari dataset rating:\n",
            "   User_id        ISBN  Rating\n",
            "0   276725  034545104X       0\n",
            "1   276726  0155061224       5\n",
            "2   276727  0446520802       0\n",
            "3   276729  052165615X       3\n",
            "4   276729  0521795028       6\n"
          ]
        }
      ]
    },
    {
      "cell_type": "code",
      "source": [
        "# Menampilkan 5 data pertama dari dataset books\n",
        "print(\"\\nContoh data dari dataset books:\")\n",
        "print(books.head(5))"
      ],
      "metadata": {
        "colab": {
          "base_uri": "https://localhost:8080/"
        },
        "id": "BpCG9_WRo7xU",
        "outputId": "fb898f38-c249-430e-9d87-7bd67b2f567c"
      },
      "execution_count": 5,
      "outputs": [
        {
          "output_type": "stream",
          "name": "stdout",
          "text": [
            "\n",
            "Contoh data dari dataset books:\n",
            "         ISBN                                              Title  \\\n",
            "0  0195153448                                Classical Mythology   \n",
            "1  0002005018                                       Clara Callan   \n",
            "2  0060973129                               Decision in Normandy   \n",
            "3  0374157065  Flu: The Story of the Great Influenza Pandemic...   \n",
            "4  0393045218                             The Mummies of Urumchi   \n",
            "\n",
            "                 Author  Year                   Publisher  \\\n",
            "0    Mark P. O. Morford  2002     Oxford University Press   \n",
            "1  Richard Bruce Wright  2001       HarperFlamingo Canada   \n",
            "2          Carlo D'Este  1991             HarperPerennial   \n",
            "3      Gina Bari Kolata  1999        Farrar Straus Giroux   \n",
            "4       E. J. W. Barber  1999  W. W. Norton &amp; Company   \n",
            "\n",
            "                                         Image-URL-S  \\\n",
            "0  http://images.amazon.com/images/P/0195153448.0...   \n",
            "1  http://images.amazon.com/images/P/0002005018.0...   \n",
            "2  http://images.amazon.com/images/P/0060973129.0...   \n",
            "3  http://images.amazon.com/images/P/0374157065.0...   \n",
            "4  http://images.amazon.com/images/P/0393045218.0...   \n",
            "\n",
            "                                         Image-URL-M  \\\n",
            "0  http://images.amazon.com/images/P/0195153448.0...   \n",
            "1  http://images.amazon.com/images/P/0002005018.0...   \n",
            "2  http://images.amazon.com/images/P/0060973129.0...   \n",
            "3  http://images.amazon.com/images/P/0374157065.0...   \n",
            "4  http://images.amazon.com/images/P/0393045218.0...   \n",
            "\n",
            "                                         Image-URL-L  \n",
            "0  http://images.amazon.com/images/P/0195153448.0...  \n",
            "1  http://images.amazon.com/images/P/0002005018.0...  \n",
            "2  http://images.amazon.com/images/P/0060973129.0...  \n",
            "3  http://images.amazon.com/images/P/0374157065.0...  \n",
            "4  http://images.amazon.com/images/P/0393045218.0...  \n"
          ]
        }
      ]
    },
    {
      "cell_type": "markdown",
      "source": [
        "**Menampilkan informasi dari masing-masing dataset**"
      ],
      "metadata": {
        "id": "q6zT2ZcJrq3U"
      }
    },
    {
      "cell_type": "code",
      "source": [
        "# Menampilkan ringkasan informasi dari dataset user, termasuk jumlah entri, tipe data, dan jumlah nilai non-null\n",
        "user.info()"
      ],
      "metadata": {
        "id": "kB_1foTtrI_S",
        "colab": {
          "base_uri": "https://localhost:8080/"
        },
        "outputId": "df2d7c42-d0c3-4d7b-e794-c48ebc8d4bce"
      },
      "execution_count": 6,
      "outputs": [
        {
          "output_type": "stream",
          "name": "stdout",
          "text": [
            "<class 'pandas.core.frame.DataFrame'>\n",
            "RangeIndex: 278858 entries, 0 to 278857\n",
            "Data columns (total 3 columns):\n",
            " #   Column    Non-Null Count   Dtype  \n",
            "---  ------    --------------   -----  \n",
            " 0   User_id   278858 non-null  int64  \n",
            " 1   Location  278858 non-null  object \n",
            " 2   Age       168096 non-null  float64\n",
            "dtypes: float64(1), int64(1), object(1)\n",
            "memory usage: 6.4+ MB\n"
          ]
        }
      ]
    },
    {
      "cell_type": "code",
      "source": [
        "# Menampilkan ringkasan informasi dari dataset rating, termasuk jumlah entri, tipe data, dan jumlah nilai non-null\n",
        "rating.info()"
      ],
      "metadata": {
        "colab": {
          "base_uri": "https://localhost:8080/"
        },
        "id": "8XZlpZfErXG_",
        "outputId": "6cd968c1-4574-45b9-87d6-9965ada9774b"
      },
      "execution_count": 7,
      "outputs": [
        {
          "output_type": "stream",
          "name": "stdout",
          "text": [
            "<class 'pandas.core.frame.DataFrame'>\n",
            "RangeIndex: 1149780 entries, 0 to 1149779\n",
            "Data columns (total 3 columns):\n",
            " #   Column   Non-Null Count    Dtype \n",
            "---  ------   --------------    ----- \n",
            " 0   User_id  1149780 non-null  int64 \n",
            " 1   ISBN     1149780 non-null  object\n",
            " 2   Rating   1149780 non-null  int64 \n",
            "dtypes: int64(2), object(1)\n",
            "memory usage: 26.3+ MB\n"
          ]
        }
      ]
    },
    {
      "cell_type": "code",
      "source": [
        "# Menampilkan ringkasan informasi dari dataset books, termasuk jumlah entri, tipe data, dan jumlah nilai non-null\n",
        "books.info()"
      ],
      "metadata": {
        "colab": {
          "base_uri": "https://localhost:8080/"
        },
        "id": "2GoagvMmrbl7",
        "outputId": "a568ddbd-c4f7-4104-8eaf-fa8bc76d7ccf"
      },
      "execution_count": 8,
      "outputs": [
        {
          "output_type": "stream",
          "name": "stdout",
          "text": [
            "<class 'pandas.core.frame.DataFrame'>\n",
            "RangeIndex: 271360 entries, 0 to 271359\n",
            "Data columns (total 8 columns):\n",
            " #   Column       Non-Null Count   Dtype \n",
            "---  ------       --------------   ----- \n",
            " 0   ISBN         271360 non-null  object\n",
            " 1   Title        271360 non-null  object\n",
            " 2   Author       271358 non-null  object\n",
            " 3   Year         271360 non-null  object\n",
            " 4   Publisher    271358 non-null  object\n",
            " 5   Image-URL-S  271360 non-null  object\n",
            " 6   Image-URL-M  271360 non-null  object\n",
            " 7   Image-URL-L  271357 non-null  object\n",
            "dtypes: object(8)\n",
            "memory usage: 16.6+ MB\n"
          ]
        }
      ]
    },
    {
      "cell_type": "markdown",
      "source": [
        "***Insight:***\n",
        "\n",
        "Pada dataset `Users`, terdapat banyak nilai yang hilang (missing values) pada kolom `Age`, yang menunjukkan bahwa informasi usia tidak selalu tersedia untuk setiap pengguna. Sementara itu, dataset `Ratings` tidak mengandung missing values, sehingga data penilaian dapat digunakan secara utuh tanpa perlu penanganan khusus. Di sisi lain, pada dataset `Books` ditemukan 2 missing values pada kolom `Year` dan 3 missing values pada kolom `Image-URL-L`, yang mungkin perlu dibersihkan atau diisi ulang sebelum digunakan dalam pemodelan atau analisis lanjutan."
      ],
      "metadata": {
        "id": "SfHm1R1bRYgW"
      }
    },
    {
      "cell_type": "markdown",
      "source": [
        "**Menangani missing values pada kolom Age dengan nilai yang paling banyak muncul**"
      ],
      "metadata": {
        "id": "8A0JF4FhRnAQ"
      }
    },
    {
      "cell_type": "code",
      "source": [
        "# Mengisi missing values pada kolom 'Age' dengan nilai yang paling sering muncul (modus)\n",
        "most_frequent_age = user['Age'].mode()[0]  # Ambil nilai modus\n",
        "user['Age'].fillna(most_frequent_age, inplace=True)  # Isi nilai NaN dengan modus"
      ],
      "metadata": {
        "id": "ZL8X-P7RRtC8"
      },
      "execution_count": 9,
      "outputs": []
    },
    {
      "cell_type": "code",
      "source": [
        "# Mengecek kembali apakah masih terdapat missing values atau tidak\n",
        "user.info()"
      ],
      "metadata": {
        "colab": {
          "base_uri": "https://localhost:8080/"
        },
        "id": "xljPmSckSs9d",
        "outputId": "e9fe8f1d-04fb-4456-9693-d0b6ab44f96f"
      },
      "execution_count": 10,
      "outputs": [
        {
          "output_type": "stream",
          "name": "stdout",
          "text": [
            "<class 'pandas.core.frame.DataFrame'>\n",
            "RangeIndex: 278858 entries, 0 to 278857\n",
            "Data columns (total 3 columns):\n",
            " #   Column    Non-Null Count   Dtype  \n",
            "---  ------    --------------   -----  \n",
            " 0   User_id   278858 non-null  int64  \n",
            " 1   Location  278858 non-null  object \n",
            " 2   Age       278858 non-null  float64\n",
            "dtypes: float64(1), int64(1), object(1)\n",
            "memory usage: 6.4+ MB\n"
          ]
        }
      ]
    },
    {
      "cell_type": "markdown",
      "source": [
        "***Insight:***\n",
        "\n",
        "Untuk menangani missing values pada kolom Age di dataset Users, dilakukan pengisian menggunakan nilai yang paling sering muncul (modus). Pendekatan ini dipilih karena nilai modus dianggap mewakili mayoritas usia pengguna dalam data yang tersedia, serta dapat meminimalkan distorsi terhadap distribusi data asli. Dengan mengisi nilai kosong menggunakan modus, proses ini membantu menjaga konsistensi data tanpa menghapus baris yang mungkin masih mengandung informasi penting lainnya.\n"
      ],
      "metadata": {
        "id": "MoFgECJg3ngF"
      }
    },
    {
      "cell_type": "markdown",
      "source": [
        "**Menangani missing values pada dataset books**"
      ],
      "metadata": {
        "id": "26Zb_jYdS1ix"
      }
    },
    {
      "cell_type": "code",
      "source": [
        "# Menghapus baris yang memiliki missing values di kolom 'Year'\n",
        "books.dropna(subset=['Year'], inplace=True)\n",
        "\n",
        "# Cek kembali apakah masih ada missing values di kolom 'Year'\n",
        "print(\"Jumlah nilai kosong pada kolom Year setelah dihapus:\", books['Year'].isnull().sum())"
      ],
      "metadata": {
        "colab": {
          "base_uri": "https://localhost:8080/"
        },
        "id": "kFUjOg44S1Gi",
        "outputId": "750d2e2e-1e3b-4ce3-8681-83ced4b5983f"
      },
      "execution_count": 11,
      "outputs": [
        {
          "output_type": "stream",
          "name": "stdout",
          "text": [
            "Jumlah nilai kosong pada kolom Year setelah dihapus: 0\n"
          ]
        }
      ]
    },
    {
      "cell_type": "code",
      "source": [
        "# Menghapus kolom dari image URL S, image URL M, dan image URL L\n",
        "books.drop(['Image-URL-S', 'Image-URL-M', 'Image-URL-L'], axis=1, inplace=True, errors='ignore')"
      ],
      "metadata": {
        "id": "GbodNb4XTjKi"
      },
      "execution_count": 12,
      "outputs": []
    },
    {
      "cell_type": "code",
      "source": [
        "# Mengecek kembali pada kolom books\n",
        "books.info()"
      ],
      "metadata": {
        "colab": {
          "base_uri": "https://localhost:8080/"
        },
        "id": "JXqos8G9Tq5N",
        "outputId": "06a4b59e-b007-434f-8771-33edf88ff002"
      },
      "execution_count": 13,
      "outputs": [
        {
          "output_type": "stream",
          "name": "stdout",
          "text": [
            "<class 'pandas.core.frame.DataFrame'>\n",
            "RangeIndex: 271360 entries, 0 to 271359\n",
            "Data columns (total 5 columns):\n",
            " #   Column     Non-Null Count   Dtype \n",
            "---  ------     --------------   ----- \n",
            " 0   ISBN       271360 non-null  object\n",
            " 1   Title      271360 non-null  object\n",
            " 2   Author     271358 non-null  object\n",
            " 3   Year       271360 non-null  object\n",
            " 4   Publisher  271358 non-null  object\n",
            "dtypes: object(5)\n",
            "memory usage: 10.4+ MB\n"
          ]
        }
      ]
    },
    {
      "cell_type": "markdown",
      "source": [
        "***Insight:***\n",
        "\n",
        "Untuk menangani missing values pada dataset Books, dilakukan dua pendekatan yang berbeda. Pada kolom Year, karena jumlah missing values sangat sedikit, maka baris yang mengandung nilai kosong dihapus agar tidak memengaruhi integritas data secara keseluruhan. Sementara itu, kolom Image-URL-S, Image-URL-M, dan Image-URL-L dihapus dari dataset karena informasi gambar tidak digunakan dalam sistem rekomendasi ini. Penghapusan kolom tersebut juga membantu menyederhanakan struktur data dan mempercepat proses pemrosesan."
      ],
      "metadata": {
        "id": "o2DeYQlc4KKL"
      }
    },
    {
      "cell_type": "markdown",
      "source": [
        "**Mengecek apakah ada data duplikat dari masing-masing dataset**"
      ],
      "metadata": {
        "id": "7HfYRzn8UeHQ"
      }
    },
    {
      "cell_type": "code",
      "source": [
        "# Mengecek apakah ada baris duplikat pada dataset user\n",
        "user.duplicated().sum()"
      ],
      "metadata": {
        "colab": {
          "base_uri": "https://localhost:8080/"
        },
        "id": "yut7dZfIsFQ5",
        "outputId": "f8ef1059-9804-4cb2-946c-3e2f916820f9"
      },
      "execution_count": 14,
      "outputs": [
        {
          "output_type": "execute_result",
          "data": {
            "text/plain": [
              "np.int64(0)"
            ]
          },
          "metadata": {},
          "execution_count": 14
        }
      ]
    },
    {
      "cell_type": "code",
      "source": [
        "# Mengecek apakah ada baris duplikat pada dataset rating\n",
        "rating.duplicated().sum()"
      ],
      "metadata": {
        "colab": {
          "base_uri": "https://localhost:8080/"
        },
        "id": "3hvILPPtUjAn",
        "outputId": "e7c1e233-1b97-453e-fc61-59be0aa4e14a"
      },
      "execution_count": 15,
      "outputs": [
        {
          "output_type": "execute_result",
          "data": {
            "text/plain": [
              "np.int64(0)"
            ]
          },
          "metadata": {},
          "execution_count": 15
        }
      ]
    },
    {
      "cell_type": "code",
      "source": [
        "# Mengecek apakah ada baris duplikat pada dataset books\n",
        "books.duplicated().sum()"
      ],
      "metadata": {
        "colab": {
          "base_uri": "https://localhost:8080/"
        },
        "id": "tYVvLCU0UnHL",
        "outputId": "180e33fc-683a-4ba9-be5f-c62ac359ead0"
      },
      "execution_count": 16,
      "outputs": [
        {
          "output_type": "execute_result",
          "data": {
            "text/plain": [
              "np.int64(0)"
            ]
          },
          "metadata": {},
          "execution_count": 16
        }
      ]
    },
    {
      "cell_type": "markdown",
      "source": [
        "***Insight:***\n",
        "\n",
        "Setelah dilakukan pengecekan terhadap ketiga dataset — Users, Books, dan Ratings — tidak ditemukan adanya baris duplikat. Hal ini menunjukkan bahwa setiap entri pada data bersifat unik dan tidak ada pengulangan informasi, sehingga tidak diperlukan proses penghapusan duplikat. Kondisi ini sangat mendukung kualitas data dan memperkuat keandalan analisis serta pemodelan sistem rekomendasi yang akan dibangun."
      ],
      "metadata": {
        "id": "WPtVmEea4ZPZ"
      }
    },
    {
      "cell_type": "markdown",
      "source": [
        "**Menampilkan jumlah baris dan kolom**"
      ],
      "metadata": {
        "id": "lGpojrDdruw0"
      }
    },
    {
      "cell_type": "code",
      "source": [
        "# Menampilkan jumlah baris dan kolom pada dataset rating, user, dan books\n",
        "print(f\"Rating dataset total rows: {rating.shape[0]}, and total columns: {rating.shape[1]}\")\n",
        "print(f\"User dataset total rows: {user.shape[0]}, and total columns: {user.shape[1]}\")\n",
        "print(f\"Books dataset total rows: {books.shape[0]}, and total columns: {books.shape[1]}\")"
      ],
      "metadata": {
        "colab": {
          "base_uri": "https://localhost:8080/"
        },
        "id": "iFJC2svKqL69",
        "outputId": "e33d23d9-c32b-4bba-b9f2-5e70462732b6"
      },
      "execution_count": 17,
      "outputs": [
        {
          "output_type": "stream",
          "name": "stdout",
          "text": [
            "Rating dataset total rows: 1149780, and total columns: 3\n",
            "User dataset total rows: 278858, and total columns: 3\n",
            "Books dataset total rows: 271360, and total columns: 5\n"
          ]
        }
      ]
    },
    {
      "cell_type": "markdown",
      "source": [
        "***Insight:***\n",
        "\n",
        "Dataset Ratings terdiri dari 1.149.780 baris dan 3 kolom, menunjukkan bahwa terdapat lebih dari satu juta interaksi pengguna dengan buku dalam bentuk penilaian. Dataset Users memiliki 278.858 baris dan 3 kolom, yang mencerminkan jumlah pengguna unik beserta informasi demografis yang tersedia. Sementara itu, dataset Books mencakup 271.360 baris dan 5 kolom, yang berisi informasi detail mengenai berbagai buku seperti judul, penulis, tahun terbit, penerbit, dan URL gambar. Jumlah data yang besar ini memberikan dasar yang kuat untuk membangun sistem rekomendasi yang akurat dan komprehensif."
      ],
      "metadata": {
        "id": "mEQMX5sd4_Rl"
      }
    },
    {
      "cell_type": "markdown",
      "source": [
        "**Melakukan Visualisasi sebelum masuk ke tahap data preparation**"
      ],
      "metadata": {
        "id": "MxeFZztXwVWl"
      }
    },
    {
      "cell_type": "code",
      "source": [
        "# Menghitung 20 entri teratas berdasarkan jumlah kemunculan untuk Year, Publisher, dan Author\n",
        "books_qty = books['Year'].value_counts().reset_index(name='Count').rename(columns={'index': 'Year'}).sort_values('Count', ascending=False).head(20)\n",
        "publisher_qty = books['Publisher'].value_counts().reset_index(name='Count').rename(columns={'index': 'Publisher'}).sort_values('Count', ascending=False).head(20)\n",
        "author_qty = books['Author'].value_counts().reset_index(name='Count').rename(columns={'index': 'Author'}).sort_values('Count', ascending=False).head(20)\n",
        "\n",
        "# Setup visualisasi\n",
        "plt.figure(figsize=(20, 6))\n",
        "plt.suptitle(\"Top Contributors in Book Dataset\", fontsize=18, fontweight='bold')\n",
        "\n",
        "# Plot untuk Tahun Terbit\n",
        "plt.subplot(1, 3, 1)\n",
        "sns.barplot(data=books_qty, x='Year', y='Count', palette='viridis')\n",
        "plt.title('Tahun Terbit Terbanyak', fontsize=14)\n",
        "plt.xlabel('Tahun', fontsize=10)\n",
        "plt.ylabel('Jumlah Buku', fontsize=10)\n",
        "plt.xticks(rotation=90, fontsize=8)\n",
        "\n",
        "# Plot untuk Penerbit Terbanyak\n",
        "plt.subplot(1, 3, 2)\n",
        "sns.barplot(data=publisher_qty, x='Publisher', y='Count', palette='rocket')\n",
        "plt.title('Penerbit Terbanyak', fontsize=14)\n",
        "plt.xlabel('Penerbit', fontsize=10)\n",
        "plt.ylabel('Jumlah Buku', fontsize=10)\n",
        "plt.xticks(rotation=90, fontsize=8)\n",
        "\n",
        "# Plot untuk Penulis Terbanyak\n",
        "plt.subplot(1, 3, 3)\n",
        "sns.barplot(data=author_qty, x='Author', y='Count', palette='Set2')\n",
        "plt.title('Penulis Buku Terbanyak', fontsize=14)\n",
        "plt.xlabel('Penulis', fontsize=10)\n",
        "plt.ylabel('Jumlah Buku', fontsize=10)\n",
        "plt.xticks(rotation=90, fontsize=8)\n",
        "\n",
        "plt.tight_layout(rect=[0, 0, 1, 0.95])  # menyesuaikan layout agar tidak terpotong\n",
        "plt.show()"
      ],
      "metadata": {
        "colab": {
          "base_uri": "https://localhost:8080/",
          "height": 552
        },
        "id": "yXbS0S1VvmAD",
        "outputId": "0441a7d9-dc78-4171-96ea-222ccad0c65b"
      },
      "execution_count": 18,
      "outputs": [
        {
          "output_type": "display_data",
          "data": {
            "text/plain": [
              "<Figure size 2000x600 with 3 Axes>"
            ],
            "image/png": "[encoded data removed]"
          },
          "metadata": {}
        }
      ]
    },
    {
      "cell_type": "markdown",
      "source": [
        "***Insight:***\n",
        "\n",
        "Visualisasi menunjukkan bahwa tahun terbit terbanyak berasal dari tahun **2002**, diikuti oleh **2001** dan **2000**, masing-masing dengan jumlah buku yang sangat signifikan. Hal ini mengindikasikan bahwa dataset memiliki dominasi buku-buku yang diterbitkan pada awal 2000-an, yang mungkin dipengaruhi oleh perkembangan digitalisasi data saat itu.\n",
        "\n",
        "Untuk penerbit, **Harlequin** menjadi penyumbang terbanyak dengan lebih dari 7.000 judul buku, disusul oleh **Silhouette**, **Pocket Books**, dan **Ballantine Books**. Ini menunjukkan bahwa penerbit besar dengan fokus pada fiksi populer sangat dominan dalam dataset ini.\n",
        "\n",
        "Sementara itu, pada kategori penulis, **Agatha Christie** menjadi penulis dengan jumlah buku terbanyak, diikuti oleh **William Shakespeare**, **Ann M. Martin**, dan **Stephen King**. Banyaknya buku dari penulis-penulis terkenal ini mencerminkan popularitas dan produktivitas mereka serta bagaimana karya mereka sering dimuat dalam sistem distribusi buku global."
      ],
      "metadata": {
        "id": "bbG2H4S45mrr"
      }
    },
    {
      "cell_type": "code",
      "source": [
        "# Visualisasi distribusi rating buku dari dataset 'rating'\n",
        "plt.figure(figsize=(10, 6))\n",
        "sns.countplot(x='Rating', data=rating, palette='rocket')  # Membuat barplot distribusi rating\n",
        "plt.title(\"Distribution of Book Ratings\")  # Judul grafik\n",
        "plt.xlabel(\"Book Rating\")  # Label sumbu X\n",
        "plt.ylabel(\"Count\")  # Label sumbu Y\n",
        "plt.show()  # Menampilkan grafik"
      ],
      "metadata": {
        "colab": {
          "base_uri": "https://localhost:8080/",
          "height": 564
        },
        "id": "j3Kmzea9wbSh",
        "outputId": "d6968311-be9c-4df9-833a-a947edd297b6"
      },
      "execution_count": 19,
      "outputs": [
        {
          "output_type": "display_data",
          "data": {
            "text/plain": [
              "<Figure size 1000x600 with 1 Axes>"
            ],
            "image/png": "[encoded data removed]"
          },
          "metadata": {}
        }
      ]
    },
    {
      "cell_type": "markdown",
      "source": [
        "***Insight:***\n",
        "\n",
        "Distribusi rating buku menunjukkan bahwa rating 0 mendominasi secara signifikan dengan jumlah lebih dari 700.000 entri. Ini mengindikasikan bahwa sebagian besar interaksi dalam dataset merupakan rating implisit, di mana pengguna hanya membaca atau melihat buku tanpa memberikan penilaian eksplisit.\n",
        "\n",
        "Sementara itu, untuk rating eksplisit (1–10), sebagian besar pengguna cenderung memberikan rating tinggi — terutama pada nilai 8, 10, dan 7, yang jumlahnya jauh lebih besar dibanding rating rendah (1–4). Pola ini mencerminkan kecenderungan pengguna untuk hanya menilai buku yang mereka sukai atau merasa puas terhadapnya, dan mengabaikan atau tidak menilai buku yang tidak disukai."
      ],
      "metadata": {
        "id": "m8a4nQCI6MdS"
      }
    },
    {
      "cell_type": "code",
      "source": [
        "# Mengambil 20 lokasi pengguna terbanyak berdasarkan jumlah kemunculannya\n",
        "user_location = user['Location'].value_counts().reset_index(name='Count').sort_values('Count', ascending=False).head(20)\n",
        "\n",
        "# Visualisasi 20 lokasi pengguna terbanyak\n",
        "plt.figure(figsize=(12,8))  # Mengatur ukuran figure\n",
        "sns.barplot(data=user_location, x='Location', y='Count', palette='viridis')  # Membuat barplot\n",
        "plt.xticks(rotation=90)  # Memutar label lokasi agar tidak saling tumpang tindih\n",
        "plt.title('20 top location of the users', size=20)  # Menambahkan judul grafik\n",
        "plt.show()  # Menampilkan grafik"
      ],
      "metadata": {
        "colab": {
          "base_uri": "https://localhost:8080/",
          "height": 965
        },
        "id": "eTuBpMuP4L-t",
        "outputId": "e6fcfe92-242b-45dc-e932-7e62cbac0505"
      },
      "execution_count": 20,
      "outputs": [
        {
          "output_type": "display_data",
          "data": {
            "text/plain": [
              "<Figure size 1200x800 with 1 Axes>"
            ],
            "image/png": "[encoded data removed]"
          },
          "metadata": {}
        }
      ]
    },
    {
      "cell_type": "markdown",
      "source": [
        "***Insight:***\n",
        "\n",
        "Visualisasi menunjukkan bahwa mayoritas pengguna berasal dari negara-negara berbahasa Inggris, terutama:\n",
        "\n",
        "- London, England, United Kingdom menjadi lokasi pengguna terbanyak dengan lebih dari 2.500 pengguna.\n",
        "- Disusul oleh kota-kota besar seperti Toronto, Ontario (Canada) dan Sydney, New South Wales (Australia).\n",
        "- Beberapa kota besar di Amerika Serikat seperti Portland, Chicago, Seattle, New York, dan San Francisco juga mendominasi jumlah pengguna.\n",
        "\n",
        "Selain itu, terlihat kontribusi signifikan dari kota-kota di Eropa seperti Madrid (Spanyol), Berlin (Jerman), dan Milano (Italia) serta beberapa kota di Kanada dan Australia.\n",
        "\n",
        "Pola ini mengindikasikan bahwa data pengguna dalam dataset Book Recommendation didominasi oleh kawasan Amerika Utara, Eropa Barat, dan Australia, yang mungkin mencerminkan preferensi dan budaya literasi dari wilayah tersebut. Hal ini penting diperhatikan saat membangun sistem rekomendasi agar dapat mempertimbangkan keberagaman lokasi dan konteks budaya pengguna."
      ],
      "metadata": {
        "id": "C-M6ptOo6kkE"
      }
    },
    {
      "cell_type": "markdown",
      "source": [
        "**Mengelompokkan data rating berdasarkan user_id dan menggambil 20 pengguna dengan jumlah rating terbanyak**"
      ],
      "metadata": {
        "id": "13qvqXeAUwuy"
      }
    },
    {
      "cell_type": "code",
      "source": [
        "# Mengelompokkan data rating berdasarkan User_id, lalu menghitung jumlah dan rata-rata rating yang diberikan oleh masing-masing pengguna\n",
        "User_rating = rating.groupby(['User_id'])['Rating'].agg(['count', 'mean']).reset_index()\n",
        "\n",
        "# Mengganti nama kolom 'count' menjadi 'Count' agar lebih deskriptif\n",
        "User_rating.rename(columns={'count': 'Count'}, inplace=True)\n",
        "\n",
        "# Mengurutkan pengguna berdasarkan jumlah rating terbanyak, ambil 20 teratas\n",
        "User_rating = User_rating.sort_values('Count', ascending=False).head(20)\n",
        "\n",
        "# Menampilkan hasil akhir\n",
        "User_rating"
      ],
      "metadata": {
        "colab": {
          "base_uri": "https://localhost:8080/",
          "height": 677
        },
        "id": "8AzvmjuQ4eno",
        "outputId": "a92c63ff-0a8f-405b-8137-57d889b98023"
      },
      "execution_count": 21,
      "outputs": [
        {
          "output_type": "execute_result",
          "data": {
            "text/plain": [
              "        User_id  Count      mean\n",
              "4213      11676  13602  4.564917\n",
              "74815    198711   7550  0.016291\n",
              "58113    153662   6109  2.786872\n",
              "37356     98391   5891  8.728230\n",
              "13576     35859   5850  1.075897\n",
              "80185    212898   4785  0.003135\n",
              "105111   278418   4533  0.159276\n",
              "28884     76352   3367  0.145233\n",
              "42037    110973   3100  0.787742\n",
              "88584    235105   3067  2.671992\n",
              "86808    230522   2991  0.911735\n",
              "6111      16795   2948  2.334803\n",
              "88400    234623   2674  0.132760\n",
              "13950     36836   2529  0.480427\n",
              "19872     52584   2512  0.477309\n",
              "92807    245963   2507  0.140806\n",
              "77063    204864   2504  1.780751\n",
              "21044     55492   2459  0.372102\n",
              "69817    185233   2448  1.524918\n",
              "64531    171118   2421  3.147047"
            ],
            "text/html": [
              "\n",
              "  <div id=\"df-b2590891-faa7-4453-9c57-25cfab011d82\" class=\"colab-df-container\">\n",
              "    <div>\n",
              "<style scoped>\n",
              "    .dataframe tbody tr th:only-of-type {\n",
              "        vertical-align: middle;\n",
              "    }\n",
              "\n",
              "    .dataframe tbody tr th {\n",
              "        vertical-align: top;\n",
              "    }\n",
              "\n",
              "    .dataframe thead th {\n",
              "        text-align: right;\n",
              "    }\n",
              "</style>\n",
              "<table border=\"1\" class=\"dataframe\">\n",
              "  <thead>\n",
              "    <tr style=\"text-align: right;\">\n",
              "      <th></th>\n",
              "      <th>User_id</th>\n",
              "      <th>Count</th>\n",
              "      <th>mean</th>\n",
              "    </tr>\n",
              "  </thead>\n",
              "  <tbody>\n",
              "    <tr>\n",
              "      <th>4213</th>\n",
              "      <td>11676</td>\n",
              "      <td>13602</td>\n",
              "      <td>4.564917</td>\n",
              "    </tr>\n",
              "    <tr>\n",
              "      <th>74815</th>\n",
              "      <td>198711</td>\n",
              "      <td>7550</td>\n",
              "      <td>0.016291</td>\n",
              "    </tr>\n",
              "    <tr>\n",
              "      <th>58113</th>\n",
              "      <td>153662</td>\n",
              "      <td>6109</td>\n",
              "      <td>2.786872</td>\n",
              "    </tr>\n",
              "    <tr>\n",
              "      <th>37356</th>\n",
              "      <td>98391</td>\n",
              "      <td>5891</td>\n",
              "      <td>8.728230</td>\n",
              "    </tr>\n",
              "    <tr>\n",
              "      <th>13576</th>\n",
              "      <td>35859</td>\n",
              "      <td>5850</td>\n",
              "      <td>1.075897</td>\n",
              "    </tr>\n",
              "    <tr>\n",
              "      <th>80185</th>\n",
              "      <td>212898</td>\n",
              "      <td>4785</td>\n",
              "      <td>0.003135</td>\n",
              "    </tr>\n",
              "    <tr>\n",
              "      <th>105111</th>\n",
              "      <td>278418</td>\n",
              "      <td>4533</td>\n",
              "      <td>0.159276</td>\n",
              "    </tr>\n",
              "    <tr>\n",
              "      <th>28884</th>\n",
              "      <td>76352</td>\n",
              "      <td>3367</td>\n",
              "      <td>0.145233</td>\n",
              "    </tr>\n",
              "    <tr>\n",
              "      <th>42037</th>\n",
              "      <td>110973</td>\n",
              "      <td>3100</td>\n",
              "      <td>0.787742</td>\n",
              "    </tr>\n",
              "    <tr>\n",
              "      <th>88584</th>\n",
              "      <td>235105</td>\n",
              "      <td>3067</td>\n",
              "      <td>2.671992</td>\n",
              "    </tr>\n",
              "    <tr>\n",
              "      <th>86808</th>\n",
              "      <td>230522</td>\n",
              "      <td>2991</td>\n",
              "      <td>0.911735</td>\n",
              "    </tr>\n",
              "    <tr>\n",
              "      <th>6111</th>\n",
              "      <td>16795</td>\n",
              "      <td>2948</td>\n",
              "      <td>2.334803</td>\n",
              "    </tr>\n",
              "    <tr>\n",
              "      <th>88400</th>\n",
              "      <td>234623</td>\n",
              "      <td>2674</td>\n",
              "      <td>0.132760</td>\n",
              "    </tr>\n",
              "    <tr>\n",
              "      <th>13950</th>\n",
              "      <td>36836</td>\n",
              "      <td>2529</td>\n",
              "      <td>0.480427</td>\n",
              "    </tr>\n",
              "    <tr>\n",
              "      <th>19872</th>\n",
              "      <td>52584</td>\n",
              "      <td>2512</td>\n",
              "      <td>0.477309</td>\n",
              "    </tr>\n",
              "    <tr>\n",
              "      <th>92807</th>\n",
              "      <td>245963</td>\n",
              "      <td>2507</td>\n",
              "      <td>0.140806</td>\n",
              "    </tr>\n",
              "    <tr>\n",
              "      <th>77063</th>\n",
              "      <td>204864</td>\n",
              "      <td>2504</td>\n",
              "      <td>1.780751</td>\n",
              "    </tr>\n",
              "    <tr>\n",
              "      <th>21044</th>\n",
              "      <td>55492</td>\n",
              "      <td>2459</td>\n",
              "      <td>0.372102</td>\n",
              "    </tr>\n",
              "    <tr>\n",
              "      <th>69817</th>\n",
              "      <td>185233</td>\n",
              "      <td>2448</td>\n",
              "      <td>1.524918</td>\n",
              "    </tr>\n",
              "    <tr>\n",
              "      <th>64531</th>\n",
              "      <td>171118</td>\n",
              "      <td>2421</td>\n",
              "      <td>3.147047</td>\n",
              "    </tr>\n",
              "  </tbody>\n",
              "</table>\n",
              "</div>\n",
              "    <div class=\"colab-df-buttons\">\n",
              "\n",
              "  <div class=\"colab-df-container\">\n",
              "    <button class=\"colab-df-convert\" onclick=\"convertToInteractive('df-b2590891-faa7-4453-9c57-25cfab011d82')\"\n",
              "            title=\"Convert this dataframe to an interactive table.\"\n",
              "            style=\"display:none;\">\n",
              "\n",
              "  <svg xmlns=\"http://www.w3.org/2000/svg\" height=\"24px\" viewBox=\"0 -960 960 960\">\n",
              "    <path d=\"M120-120v-720h720v720H120Zm60-500h600v-160H180v160Zm220 220h160v-160H400v160Zm0 220h160v-160H400v160ZM180-400h160v-160H180v160Zm440 0h160v-160H620v160ZM180-180h160v-160H180v160Zm440 0h160v-160H620v160Z\"/>\n",
              "  </svg>\n",
              "    </button>\n",
              "\n",
              "  <style>\n",
              "    .colab-df-container {\n",
              "      display:flex;\n",
              "      gap: 12px;\n",
              "    }\n",
              "\n",
              "    .colab-df-convert {\n",
              "      background-color: #E8F0FE;\n",
              "      border: none;\n",
              "      border-radius: 50%;\n",
              "      cursor: pointer;\n",
              "      display: none;\n",
              "      fill: #1967D2;\n",
              "      height: 32px;\n",
              "      padding: 0 0 0 0;\n",
              "      width: 32px;\n",
              "    }\n",
              "\n",
              "    .colab-df-convert:hover {\n",
              "      background-color: #E2EBFA;\n",
              "      box-shadow: 0px 1px 2px rgba(60, 64, 67, 0.3), 0px 1px 3px 1px rgba(60, 64, 67, 0.15);\n",
              "      fill: #174EA6;\n",
              "    }\n",
              "\n",
              "    .colab-df-buttons div {\n",
              "      margin-bottom: 4px;\n",
              "    }\n",
              "\n",
              "    [theme=dark] .colab-df-convert {\n",
              "      background-color: #3B4455;\n",
              "      fill: #D2E3FC;\n",
              "    }\n",
              "\n",
              "    [theme=dark] .colab-df-convert:hover {\n",
              "      background-color: #434B5C;\n",
              "      box-shadow: 0px 1px 3px 1px rgba(0, 0, 0, 0.15);\n",
              "      filter: drop-shadow(0px 1px 2px rgba(0, 0, 0, 0.3));\n",
              "      fill: #FFFFFF;\n",
              "    }\n",
              "  </style>\n",
              "\n",
              "    <script>\n",
              "      const buttonEl =\n",
              "        document.querySelector('#df-b2590891-faa7-4453-9c57-25cfab011d82 button.colab-df-convert');\n",
              "      buttonEl.style.display =\n",
              "        google.colab.kernel.accessAllowed ? 'block' : 'none';\n",
              "\n",
              "      async function convertToInteractive(key) {\n",
              "        const element = document.querySelector('#df-b2590891-faa7-4453-9c57-25cfab011d82');\n",
              "        const dataTable =\n",
              "          await google.colab.kernel.invokeFunction('convertToInteractive',\n",
              "                                                    [key], {});\n",
              "        if (!dataTable) return;\n",
              "\n",
              "        const docLinkHtml = 'Like what you see? Visit the ' +\n",
              "          '<a target=\"_blank\" href=https://colab.research.google.com/notebooks/data_table.ipynb>data table notebook</a>'\n",
              "          + ' to learn more about interactive tables.';\n",
              "        element.innerHTML = '';\n",
              "        dataTable['output_type'] = 'display_data';\n",
              "        await google.colab.output.renderOutput(dataTable, element);\n",
              "        const docLink = document.createElement('div');\n",
              "        docLink.innerHTML = docLinkHtml;\n",
              "        element.appendChild(docLink);\n",
              "      }\n",
              "    </script>\n",
              "  </div>\n",
              "\n",
              "\n",
              "    <div id=\"df-e1372aab-e2f9-4f64-a092-2b22a16ea03b\">\n",
              "      <button class=\"colab-df-quickchart\" onclick=\"quickchart('df-e1372aab-e2f9-4f64-a092-2b22a16ea03b')\"\n",
              "                title=\"Suggest charts\"\n",
              "                style=\"display:none;\">\n",
              "\n",
              "<svg xmlns=\"http://www.w3.org/2000/svg\" height=\"24px\"viewBox=\"0 0 24 24\"\n",
              "     width=\"24px\">\n",
              "    <g>\n",
              "        <path d=\"M19 3H5c-1.1 0-2 .9-2 2v14c0 1.1.9 2 2 2h14c1.1 0 2-.9 2-2V5c0-1.1-.9-2-2-2zM9 17H7v-7h2v7zm4 0h-2V7h2v10zm4 0h-2v-4h2v4z\"/>\n",
              "    </g>\n",
              "</svg>\n",
              "      </button>\n",
              "\n",
              "<style>\n",
              "  .colab-df-quickchart {\n",
              "      --bg-color: #E8F0FE;\n",
              "      --fill-color: #1967D2;\n",
              "      --hover-bg-color: #E2EBFA;\n",
              "      --hover-fill-color: #174EA6;\n",
              "      --disabled-fill-color: #AAA;\n",
              "      --disabled-bg-color: #DDD;\n",
              "  }\n",
              "\n",
              "  [theme=dark] .colab-df-quickchart {\n",
              "      --bg-color: #3B4455;\n",
              "      --fill-color: #D2E3FC;\n",
              "      --hover-bg-color: #434B5C;\n",
              "      --hover-fill-color: #FFFFFF;\n",
              "      --disabled-bg-color: #3B4455;\n",
              "      --disabled-fill-color: #666;\n",
              "  }\n",
              "\n",
              "  .colab-df-quickchart {\n",
              "    background-color: var(--bg-color);\n",
              "    border: none;\n",
              "    border-radius: 50%;\n",
              "    cursor: pointer;\n",
              "    display: none;\n",
              "    fill: var(--fill-color);\n",
              "    height: 32px;\n",
              "    padding: 0;\n",
              "    width: 32px;\n",
              "  }\n",
              "\n",
              "  .colab-df-quickchart:hover {\n",
              "    background-color: var(--hover-bg-color);\n",
              "    box-shadow: 0 1px 2px rgba(60, 64, 67, 0.3), 0 1px 3px 1px rgba(60, 64, 67, 0.15);\n",
              "    fill: var(--button-hover-fill-color);\n",
              "  }\n",
              "\n",
              "  .colab-df-quickchart-complete:disabled,\n",
              "  .colab-df-quickchart-complete:disabled:hover {\n",
              "    background-color: var(--disabled-bg-color);\n",
              "    fill: var(--disabled-fill-color);\n",
              "    box-shadow: none;\n",
              "  }\n",
              "\n",
              "  .colab-df-spinner {\n",
              "    border: 2px solid var(--fill-color);\n",
              "    border-color: transparent;\n",
              "    border-bottom-color: var(--fill-color);\n",
              "    animation:\n",
              "      spin 1s steps(1) infinite;\n",
              "  }\n",
              "\n",
              "  @keyframes spin {\n",
              "    0% {\n",
              "      border-color: transparent;\n",
              "      border-bottom-color: var(--fill-color);\n",
              "      border-left-color: var(--fill-color);\n",
              "    }\n",
              "    20% {\n",
              "      border-color: transparent;\n",
              "      border-left-color: var(--fill-color);\n",
              "      border-top-color: var(--fill-color);\n",
              "    }\n",
              "    30% {\n",
              "      border-color: transparent;\n",
              "      border-left-color: var(--fill-color);\n",
              "      border-top-color: var(--fill-color);\n",
              "      border-right-color: var(--fill-color);\n",
              "    }\n",
              "    40% {\n",
              "      border-color: transparent;\n",
              "      border-right-color: var(--fill-color);\n",
              "      border-top-color: var(--fill-color);\n",
              "    }\n",
              "    60% {\n",
              "      border-color: transparent;\n",
              "      border-right-color: var(--fill-color);\n",
              "    }\n",
              "    80% {\n",
              "      border-color: transparent;\n",
              "      border-right-color: var(--fill-color);\n",
              "      border-bottom-color: var(--fill-color);\n",
              "    }\n",
              "    90% {\n",
              "      border-color: transparent;\n",
              "      border-bottom-color: var(--fill-color);\n",
              "    }\n",
              "  }\n",
              "</style>\n",
              "\n",
              "      <script>\n",
              "        async function quickchart(key) {\n",
              "          const quickchartButtonEl =\n",
              "            document.querySelector('#' + key + ' button');\n",
              "          quickchartButtonEl.disabled = true;  // To prevent multiple clicks.\n",
              "          quickchartButtonEl.classList.add('colab-df-spinner');\n",
              "          try {\n",
              "            const charts = await google.colab.kernel.invokeFunction(\n",
              "                'suggestCharts', [key], {});\n",
              "          } catch (error) {\n",
              "            console.error('Error during call to suggestCharts:', error);\n",
              "          }\n",
              "          quickchartButtonEl.classList.remove('colab-df-spinner');\n",
              "          quickchartButtonEl.classList.add('colab-df-quickchart-complete');\n",
              "        }\n",
              "        (() => {\n",
              "          let quickchartButtonEl =\n",
              "            document.querySelector('#df-e1372aab-e2f9-4f64-a092-2b22a16ea03b button');\n",
              "          quickchartButtonEl.style.display =\n",
              "            google.colab.kernel.accessAllowed ? 'block' : 'none';\n",
              "        })();\n",
              "      </script>\n",
              "    </div>\n",
              "\n",
              "  <div id=\"id_668373aa-ff22-431c-b031-b030cfd2c2b9\">\n",
              "    <style>\n",
              "      .colab-df-generate {\n",
              "        background-color: #E8F0FE;\n",
              "        border: none;\n",
              "        border-radius: 50%;\n",
              "        cursor: pointer;\n",
              "        display: none;\n",
              "        fill: #1967D2;\n",
              "        height: 32px;\n",
              "        padding: 0 0 0 0;\n",
              "        width: 32px;\n",
              "      }\n",
              "\n",
              "      .colab-df-generate:hover {\n",
              "        background-color: #E2EBFA;\n",
              "        box-shadow: 0px 1px 2px rgba(60, 64, 67, 0.3), 0px 1px 3px 1px rgba(60, 64, 67, 0.15);\n",
              "        fill: #174EA6;\n",
              "      }\n",
              "\n",
              "      [theme=dark] .colab-df-generate {\n",
              "        background-color: #3B4455;\n",
              "        fill: #D2E3FC;\n",
              "      }\n",
              "\n",
              "      [theme=dark] .colab-df-generate:hover {\n",
              "        background-color: #434B5C;\n",
              "        box-shadow: 0px 1px 3px 1px rgba(0, 0, 0, 0.15);\n",
              "        filter: drop-shadow(0px 1px 2px rgba(0, 0, 0, 0.3));\n",
              "        fill: #FFFFFF;\n",
              "      }\n",
              "    </style>\n",
              "    <button class=\"colab-df-generate\" onclick=\"generateWithVariable('User_rating')\"\n",
              "            title=\"Generate code using this dataframe.\"\n",
              "            style=\"display:none;\">\n",
              "\n",
              "  <svg xmlns=\"http://www.w3.org/2000/svg\" height=\"24px\"viewBox=\"0 0 24 24\"\n",
              "       width=\"24px\">\n",
              "    <path d=\"M7,19H8.4L18.45,9,17,7.55,7,17.6ZM5,21V16.75L18.45,3.32a2,2,0,0,1,2.83,0l1.4,1.43a1.91,1.91,0,0,1,.58,1.4,1.91,1.91,0,0,1-.58,1.4L9.25,21ZM18.45,9,17,7.55Zm-12,3A5.31,5.31,0,0,0,4.9,8.1,5.31,5.31,0,0,0,1,6.5,5.31,5.31,0,0,0,4.9,4.9,5.31,5.31,0,0,0,6.5,1,5.31,5.31,0,0,0,8.1,4.9,5.31,5.31,0,0,0,12,6.5,5.46,5.46,0,0,0,6.5,12Z\"/>\n",
              "  </svg>\n",
              "    </button>\n",
              "    <script>\n",
              "      (() => {\n",
              "      const buttonEl =\n",
              "        document.querySelector('#id_668373aa-ff22-431c-b031-b030cfd2c2b9 button.colab-df-generate');\n",
              "      buttonEl.style.display =\n",
              "        google.colab.kernel.accessAllowed ? 'block' : 'none';\n",
              "\n",
              "      buttonEl.onclick = () => {\n",
              "        google.colab.notebook.generateWithVariable('User_rating');\n",
              "      }\n",
              "      })();\n",
              "    </script>\n",
              "  </div>\n",
              "\n",
              "    </div>\n",
              "  </div>\n"
            ],
            "application/vnd.google.colaboratory.intrinsic+json": {
              "type": "dataframe",
              "variable_name": "User_rating",
              "summary": "{\n  \"name\": \"User_rating\",\n  \"rows\": 20,\n  \"fields\": [\n    {\n      \"column\": \"User_id\",\n      \"properties\": {\n        \"dtype\": \"number\",\n        \"std\": 88015,\n        \"min\": 11676,\n        \"max\": 278418,\n        \"num_unique_values\": 20,\n        \"samples\": [\n          11676,\n          55492,\n          245963\n        ],\n        \"semantic_type\": \"\",\n        \"description\": \"\"\n      }\n    },\n    {\n      \"column\": \"Count\",\n      \"properties\": {\n        \"dtype\": \"number\",\n        \"std\": 2699,\n        \"min\": 2421,\n        \"max\": 13602,\n        \"num_unique_values\": 20,\n        \"samples\": [\n          13602,\n          2459,\n          2507\n        ],\n        \"semantic_type\": \"\",\n        \"description\": \"\"\n      }\n    },\n    {\n      \"column\": \"mean\",\n      \"properties\": {\n        \"dtype\": \"number\",\n        \"std\": 2.103766466023403,\n        \"min\": 0.003134796238244514,\n        \"max\": 8.728229502631132,\n        \"num_unique_values\": 20,\n        \"samples\": [\n          4.564916923981768,\n          0.37210248068320456,\n          0.14080574391703232\n        ],\n        \"semantic_type\": \"\",\n        \"description\": \"\"\n      }\n    }\n  ]\n}"
            }
          },
          "metadata": {},
          "execution_count": 21
        }
      ]
    },
    {
      "cell_type": "markdown",
      "source": [
        "***Insight:***\n",
        "\n",
        "Dari analisis data rating, ditemukan 20 pengguna paling aktif dengan jumlah rating terbanyak. Informasi ini penting karena pengguna aktif berkontribusi besar dalam membentuk pola rekomendasi sistem. Rata-rata rating yang mereka berikan juga membantu memahami kecenderungan penilaian masing-masing pengguna, yang berguna untuk meningkatkan akurasi rekomendasi."
      ],
      "metadata": {
        "id": "MURfuZp77smq"
      }
    },
    {
      "cell_type": "markdown",
      "source": [
        "**Menggabungkan dataset rating dan books berdasarkan kolom ISBN**"
      ],
      "metadata": {
        "id": "pv52YIQXVAvC"
      }
    },
    {
      "cell_type": "code",
      "source": [
        "# Menggabungkan data rating dengan data buku berdasarkan ISBN\n",
        "data_merged = rating.merge(books, on='ISBN')\n",
        "\n",
        "# Menampilkan dimensi dari DataFrame hasil gabungan\n",
        "data_merged.shape"
      ],
      "metadata": {
        "colab": {
          "base_uri": "https://localhost:8080/"
        },
        "id": "MjuDArIm4sj8",
        "outputId": "8ce706bc-ee9b-47eb-bc71-24fbfb7ed316"
      },
      "execution_count": 22,
      "outputs": [
        {
          "output_type": "execute_result",
          "data": {
            "text/plain": [
              "(1031136, 7)"
            ]
          },
          "metadata": {},
          "execution_count": 22
        }
      ]
    },
    {
      "cell_type": "code",
      "source": [
        "# Menampilkan 2 baris pertama dari DataFrame 'data_merged'\n",
        "# Ini berguna untuk melihat seperti apa struktur dan isi data setelah proses merge.\n",
        "data_merged.head(2)"
      ],
      "metadata": {
        "colab": {
          "base_uri": "https://localhost:8080/",
          "height": 112
        },
        "id": "HUTDjAGq5VcW",
        "outputId": "71bc8244-f471-407e-ea70-760742bbeffb"
      },
      "execution_count": 23,
      "outputs": [
        {
          "output_type": "execute_result",
          "data": {
            "text/plain": [
              "   User_id        ISBN  Rating                 Title      Author  Year  \\\n",
              "0   276725  034545104X       0  Flesh Tones: A Novel  M. J. Rose  2002   \n",
              "1   276726  0155061224       5      Rites of Passage  Judith Rae  2001   \n",
              "\n",
              "          Publisher  \n",
              "0  Ballantine Books  \n",
              "1            Heinle  "
            ],
            "text/html": [
              "\n",
              "  <div id=\"df-9c220858-a053-4003-ac72-15368038a521\" class=\"colab-df-container\">\n",
              "    <div>\n",
              "<style scoped>\n",
              "    .dataframe tbody tr th:only-of-type {\n",
              "        vertical-align: middle;\n",
              "    }\n",
              "\n",
              "    .dataframe tbody tr th {\n",
              "        vertical-align: top;\n",
              "    }\n",
              "\n",
              "    .dataframe thead th {\n",
              "        text-align: right;\n",
              "    }\n",
              "</style>\n",
              "<table border=\"1\" class=\"dataframe\">\n",
              "  <thead>\n",
              "    <tr style=\"text-align: right;\">\n",
              "      <th></th>\n",
              "      <th>User_id</th>\n",
              "      <th>ISBN</th>\n",
              "      <th>Rating</th>\n",
              "      <th>Title</th>\n",
              "      <th>Author</th>\n",
              "      <th>Year</th>\n",
              "      <th>Publisher</th>\n",
              "    </tr>\n",
              "  </thead>\n",
              "  <tbody>\n",
              "    <tr>\n",
              "      <th>0</th>\n",
              "      <td>276725</td>\n",
              "      <td>034545104X</td>\n",
              "      <td>0</td>\n",
              "      <td>Flesh Tones: A Novel</td>\n",
              "      <td>M. J. Rose</td>\n",
              "      <td>2002</td>\n",
              "      <td>Ballantine Books</td>\n",
              "    </tr>\n",
              "    <tr>\n",
              "      <th>1</th>\n",
              "      <td>276726</td>\n",
              "      <td>0155061224</td>\n",
              "      <td>5</td>\n",
              "      <td>Rites of Passage</td>\n",
              "      <td>Judith Rae</td>\n",
              "      <td>2001</td>\n",
              "      <td>Heinle</td>\n",
              "    </tr>\n",
              "  </tbody>\n",
              "</table>\n",
              "</div>\n",
              "    <div class=\"colab-df-buttons\">\n",
              "\n",
              "  <div class=\"colab-df-container\">\n",
              "    <button class=\"colab-df-convert\" onclick=\"convertToInteractive('df-9c220858-a053-4003-ac72-15368038a521')\"\n",
              "            title=\"Convert this dataframe to an interactive table.\"\n",
              "            style=\"display:none;\">\n",
              "\n",
              "  <svg xmlns=\"http://www.w3.org/2000/svg\" height=\"24px\" viewBox=\"0 -960 960 960\">\n",
              "    <path d=\"M120-120v-720h720v720H120Zm60-500h600v-160H180v160Zm220 220h160v-160H400v160Zm0 220h160v-160H400v160ZM180-400h160v-160H180v160Zm440 0h160v-160H620v160ZM180-180h160v-160H180v160Zm440 0h160v-160H620v160Z\"/>\n",
              "  </svg>\n",
              "    </button>\n",
              "\n",
              "  <style>\n",
              "    .colab-df-container {\n",
              "      display:flex;\n",
              "      gap: 12px;\n",
              "    }\n",
              "\n",
              "    .colab-df-convert {\n",
              "      background-color: #E8F0FE;\n",
              "      border: none;\n",
              "      border-radius: 50%;\n",
              "      cursor: pointer;\n",
              "      display: none;\n",
              "      fill: #1967D2;\n",
              "      height: 32px;\n",
              "      padding: 0 0 0 0;\n",
              "      width: 32px;\n",
              "    }\n",
              "\n",
              "    .colab-df-convert:hover {\n",
              "      background-color: #E2EBFA;\n",
              "      box-shadow: 0px 1px 2px rgba(60, 64, 67, 0.3), 0px 1px 3px 1px rgba(60, 64, 67, 0.15);\n",
              "      fill: #174EA6;\n",
              "    }\n",
              "\n",
              "    .colab-df-buttons div {\n",
              "      margin-bottom: 4px;\n",
              "    }\n",
              "\n",
              "    [theme=dark] .colab-df-convert {\n",
              "      background-color: #3B4455;\n",
              "      fill: #D2E3FC;\n",
              "    }\n",
              "\n",
              "    [theme=dark] .colab-df-convert:hover {\n",
              "      background-color: #434B5C;\n",
              "      box-shadow: 0px 1px 3px 1px rgba(0, 0, 0, 0.15);\n",
              "      filter: drop-shadow(0px 1px 2px rgba(0, 0, 0, 0.3));\n",
              "      fill: #FFFFFF;\n",
              "    }\n",
              "  </style>\n",
              "\n",
              "    <script>\n",
              "      const buttonEl =\n",
              "        document.querySelector('#df-9c220858-a053-4003-ac72-15368038a521 button.colab-df-convert');\n",
              "      buttonEl.style.display =\n",
              "        google.colab.kernel.accessAllowed ? 'block' : 'none';\n",
              "\n",
              "      async function convertToInteractive(key) {\n",
              "        const element = document.querySelector('#df-9c220858-a053-4003-ac72-15368038a521');\n",
              "        const dataTable =\n",
              "          await google.colab.kernel.invokeFunction('convertToInteractive',\n",
              "                                                    [key], {});\n",
              "        if (!dataTable) return;\n",
              "\n",
              "        const docLinkHtml = 'Like what you see? Visit the ' +\n",
              "          '<a target=\"_blank\" href=https://colab.research.google.com/notebooks/data_table.ipynb>data table notebook</a>'\n",
              "          + ' to learn more about interactive tables.';\n",
              "        element.innerHTML = '';\n",
              "        dataTable['output_type'] = 'display_data';\n",
              "        await google.colab.output.renderOutput(dataTable, element);\n",
              "        const docLink = document.createElement('div');\n",
              "        docLink.innerHTML = docLinkHtml;\n",
              "        element.appendChild(docLink);\n",
              "      }\n",
              "    </script>\n",
              "  </div>\n",
              "\n",
              "\n",
              "    <div id=\"df-e26d5fd3-c188-4b81-a011-cc520eec5c15\">\n",
              "      <button class=\"colab-df-quickchart\" onclick=\"quickchart('df-e26d5fd3-c188-4b81-a011-cc520eec5c15')\"\n",
              "                title=\"Suggest charts\"\n",
              "                style=\"display:none;\">\n",
              "\n",
              "<svg xmlns=\"http://www.w3.org/2000/svg\" height=\"24px\"viewBox=\"0 0 24 24\"\n",
              "     width=\"24px\">\n",
              "    <g>\n",
              "        <path d=\"M19 3H5c-1.1 0-2 .9-2 2v14c0 1.1.9 2 2 2h14c1.1 0 2-.9 2-2V5c0-1.1-.9-2-2-2zM9 17H7v-7h2v7zm4 0h-2V7h2v10zm4 0h-2v-4h2v4z\"/>\n",
              "    </g>\n",
              "</svg>\n",
              "      </button>\n",
              "\n",
              "<style>\n",
              "  .colab-df-quickchart {\n",
              "      --bg-color: #E8F0FE;\n",
              "      --fill-color: #1967D2;\n",
              "      --hover-bg-color: #E2EBFA;\n",
              "      --hover-fill-color: #174EA6;\n",
              "      --disabled-fill-color: #AAA;\n",
              "      --disabled-bg-color: #DDD;\n",
              "  }\n",
              "\n",
              "  [theme=dark] .colab-df-quickchart {\n",
              "      --bg-color: #3B4455;\n",
              "      --fill-color: #D2E3FC;\n",
              "      --hover-bg-color: #434B5C;\n",
              "      --hover-fill-color: #FFFFFF;\n",
              "      --disabled-bg-color: #3B4455;\n",
              "      --disabled-fill-color: #666;\n",
              "  }\n",
              "\n",
              "  .colab-df-quickchart {\n",
              "    background-color: var(--bg-color);\n",
              "    border: none;\n",
              "    border-radius: 50%;\n",
              "    cursor: pointer;\n",
              "    display: none;\n",
              "    fill: var(--fill-color);\n",
              "    height: 32px;\n",
              "    padding: 0;\n",
              "    width: 32px;\n",
              "  }\n",
              "\n",
              "  .colab-df-quickchart:hover {\n",
              "    background-color: var(--hover-bg-color);\n",
              "    box-shadow: 0 1px 2px rgba(60, 64, 67, 0.3), 0 1px 3px 1px rgba(60, 64, 67, 0.15);\n",
              "    fill: var(--button-hover-fill-color);\n",
              "  }\n",
              "\n",
              "  .colab-df-quickchart-complete:disabled,\n",
              "  .colab-df-quickchart-complete:disabled:hover {\n",
              "    background-color: var(--disabled-bg-color);\n",
              "    fill: var(--disabled-fill-color);\n",
              "    box-shadow: none;\n",
              "  }\n",
              "\n",
              "  .colab-df-spinner {\n",
              "    border: 2px solid var(--fill-color);\n",
              "    border-color: transparent;\n",
              "    border-bottom-color: var(--fill-color);\n",
              "    animation:\n",
              "      spin 1s steps(1) infinite;\n",
              "  }\n",
              "\n",
              "  @keyframes spin {\n",
              "    0% {\n",
              "      border-color: transparent;\n",
              "      border-bottom-color: var(--fill-color);\n",
              "      border-left-color: var(--fill-color);\n",
              "    }\n",
              "    20% {\n",
              "      border-color: transparent;\n",
              "      border-left-color: var(--fill-color);\n",
              "      border-top-color: var(--fill-color);\n",
              "    }\n",
              "    30% {\n",
              "      border-color: transparent;\n",
              "      border-left-color: var(--fill-color);\n",
              "      border-top-color: var(--fill-color);\n",
              "      border-right-color: var(--fill-color);\n",
              "    }\n",
              "    40% {\n",
              "      border-color: transparent;\n",
              "      border-right-color: var(--fill-color);\n",
              "      border-top-color: var(--fill-color);\n",
              "    }\n",
              "    60% {\n",
              "      border-color: transparent;\n",
              "      border-right-color: var(--fill-color);\n",
              "    }\n",
              "    80% {\n",
              "      border-color: transparent;\n",
              "      border-right-color: var(--fill-color);\n",
              "      border-bottom-color: var(--fill-color);\n",
              "    }\n",
              "    90% {\n",
              "      border-color: transparent;\n",
              "      border-bottom-color: var(--fill-color);\n",
              "    }\n",
              "  }\n",
              "</style>\n",
              "\n",
              "      <script>\n",
              "        async function quickchart(key) {\n",
              "          const quickchartButtonEl =\n",
              "            document.querySelector('#' + key + ' button');\n",
              "          quickchartButtonEl.disabled = true;  // To prevent multiple clicks.\n",
              "          quickchartButtonEl.classList.add('colab-df-spinner');\n",
              "          try {\n",
              "            const charts = await google.colab.kernel.invokeFunction(\n",
              "                'suggestCharts', [key], {});\n",
              "          } catch (error) {\n",
              "            console.error('Error during call to suggestCharts:', error);\n",
              "          }\n",
              "          quickchartButtonEl.classList.remove('colab-df-spinner');\n",
              "          quickchartButtonEl.classList.add('colab-df-quickchart-complete');\n",
              "        }\n",
              "        (() => {\n",
              "          let quickchartButtonEl =\n",
              "            document.querySelector('#df-e26d5fd3-c188-4b81-a011-cc520eec5c15 button');\n",
              "          quickchartButtonEl.style.display =\n",
              "            google.colab.kernel.accessAllowed ? 'block' : 'none';\n",
              "        })();\n",
              "      </script>\n",
              "    </div>\n",
              "\n",
              "    </div>\n",
              "  </div>\n"
            ],
            "application/vnd.google.colaboratory.intrinsic+json": {
              "type": "dataframe",
              "variable_name": "data_merged"
            }
          },
          "metadata": {},
          "execution_count": 23
        }
      ]
    },
    {
      "cell_type": "markdown",
      "source": [
        "***Insight:***\n",
        "\n",
        "Data rating dan buku berhasil digabungkan berdasarkan ISBN, menghasilkan lebih dari 1 juta baris data. Setiap interaksi pengguna kini dilengkapi informasi user_id, ISBN, rating, judul, penulis, tahun terbit, dan penerbit buku. Gabungan ini menjadi dasar penting untuk membangun sistem rekomendasi yang lebih akurat dan kontekstual."
      ],
      "metadata": {
        "id": "I9syU52t8hl3"
      }
    },
    {
      "cell_type": "markdown",
      "source": [
        "**Mengelompokkan data berdasarkan judul buku dan mengurutkan dari jumlah rating terbanyak**"
      ],
      "metadata": {
        "id": "iSyCKoRi89ro"
      }
    },
    {
      "cell_type": "code",
      "source": [
        "# Mengelompokkan data berdasarkan judul buku ('Title') dan menghitung:\n",
        "# - jumlah rating (count)\n",
        "# - rata-rata rating (mean)\n",
        "title_rating = (\n",
        "    data_merged\n",
        "    .groupby(['Title'])['Rating']\n",
        "    .agg(['count', 'mean'])               # Hitung jumlah dan rata-rata rating per judul buku\n",
        "    .reset_index()                        # Reset index agar 'Title' jadi kolom biasa lagi\n",
        "    .rename(columns={'count': 'Count'})   # Ubah nama kolom 'count' menjadi 'Count' (kapital)\n",
        "    .sort_values('Count', ascending=False) # Urutkan berdasarkan jumlah rating, dari yang terbanyak\n",
        "    .head(20)                             # Ambil 20 buku teratas dengan jumlah rating terbanyak\n",
        ")\n",
        "\n",
        "# Menampilkan hasil akhir: 20 buku paling banyak dirating beserta jumlah dan rata-rata rating-nya\n",
        "title_rating"
      ],
      "metadata": {
        "colab": {
          "base_uri": "https://localhost:8080/",
          "height": 677
        },
        "id": "l7eaxaWe5s-k",
        "outputId": "62276b90-c6cc-4f30-a09e-824cccda606d"
      },
      "execution_count": 25,
      "outputs": [
        {
          "output_type": "execute_result",
          "data": {
            "text/plain": [
              "                                                    Title  Count      mean\n",
              "234951                                        Wild Animus   2502  1.019584\n",
              "196326                          The Lovely Bones: A Novel   1295  4.468726\n",
              "183573                                  The Da Vinci Code    898  4.642539\n",
              "5303                                      A Painted House    838  3.231504\n",
              "199237                         The Nanny Diaries: A Novel    828  3.530193\n",
              "27922                               Bridget Jones's Diary    815  3.527607\n",
              "206502                            The Secret Life of Bees    774  4.447028\n",
              "52983     Divine Secrets of the Ya-Ya Sisterhood: A Novel    740  3.437838\n",
              "204387                The Red Tent (Bestselling Backlist)    723  4.334716\n",
              "14392                                 Angels &amp; Demons    670  3.708955\n",
              "107962                                         Life of Pi    664  4.088855\n",
              "162651                             Snow Falling on Cedars    662  3.252266\n",
              "209298                                        The Summons    655  3.432061\n",
              "200253                                       The Notebook    650  3.560000\n",
              "210064                                      The Testament    617  3.179903\n",
              "85957                               House of Sand and Fog    588  3.030612\n",
              "233370  Where the Heart Is (Oprah's Book Club (Paperba...    585  4.105983\n",
              "201692                                  The Pelican Brief    581  2.611015\n",
              "80445   Harry Potter and the Sorcerer's Stone (Harry P...    575  4.895652\n",
              "169201                                     Summer Sisters    573  3.361257"
            ],
            "text/html": [
              "\n",
              "  <div id=\"df-5028668a-4828-4e6f-985e-30f63dcc997c\" class=\"colab-df-container\">\n",
              "    <div>\n",
              "<style scoped>\n",
              "    .dataframe tbody tr th:only-of-type {\n",
              "        vertical-align: middle;\n",
              "    }\n",
              "\n",
              "    .dataframe tbody tr th {\n",
              "        vertical-align: top;\n",
              "    }\n",
              "\n",
              "    .dataframe thead th {\n",
              "        text-align: right;\n",
              "    }\n",
              "</style>\n",
              "<table border=\"1\" class=\"dataframe\">\n",
              "  <thead>\n",
              "    <tr style=\"text-align: right;\">\n",
              "      <th></th>\n",
              "      <th>Title</th>\n",
              "      <th>Count</th>\n",
              "      <th>mean</th>\n",
              "    </tr>\n",
              "  </thead>\n",
              "  <tbody>\n",
              "    <tr>\n",
              "      <th>234951</th>\n",
              "      <td>Wild Animus</td>\n",
              "      <td>2502</td>\n",
              "      <td>1.019584</td>\n",
              "    </tr>\n",
              "    <tr>\n",
              "      <th>196326</th>\n",
              "      <td>The Lovely Bones: A Novel</td>\n",
              "      <td>1295</td>\n",
              "      <td>4.468726</td>\n",
              "    </tr>\n",
              "    <tr>\n",
              "      <th>183573</th>\n",
              "      <td>The Da Vinci Code</td>\n",
              "      <td>898</td>\n",
              "      <td>4.642539</td>\n",
              "    </tr>\n",
              "    <tr>\n",
              "      <th>5303</th>\n",
              "      <td>A Painted House</td>\n",
              "      <td>838</td>\n",
              "      <td>3.231504</td>\n",
              "    </tr>\n",
              "    <tr>\n",
              "      <th>199237</th>\n",
              "      <td>The Nanny Diaries: A Novel</td>\n",
              "      <td>828</td>\n",
              "      <td>3.530193</td>\n",
              "    </tr>\n",
              "    <tr>\n",
              "      <th>27922</th>\n",
              "      <td>Bridget Jones's Diary</td>\n",
              "      <td>815</td>\n",
              "      <td>3.527607</td>\n",
              "    </tr>\n",
              "    <tr>\n",
              "      <th>206502</th>\n",
              "      <td>The Secret Life of Bees</td>\n",
              "      <td>774</td>\n",
              "      <td>4.447028</td>\n",
              "    </tr>\n",
              "    <tr>\n",
              "      <th>52983</th>\n",
              "      <td>Divine Secrets of the Ya-Ya Sisterhood: A Novel</td>\n",
              "      <td>740</td>\n",
              "      <td>3.437838</td>\n",
              "    </tr>\n",
              "    <tr>\n",
              "      <th>204387</th>\n",
              "      <td>The Red Tent (Bestselling Backlist)</td>\n",
              "      <td>723</td>\n",
              "      <td>4.334716</td>\n",
              "    </tr>\n",
              "    <tr>\n",
              "      <th>14392</th>\n",
              "      <td>Angels &amp;amp; Demons</td>\n",
              "      <td>670</td>\n",
              "      <td>3.708955</td>\n",
              "    </tr>\n",
              "    <tr>\n",
              "      <th>107962</th>\n",
              "      <td>Life of Pi</td>\n",
              "      <td>664</td>\n",
              "      <td>4.088855</td>\n",
              "    </tr>\n",
              "    <tr>\n",
              "      <th>162651</th>\n",
              "      <td>Snow Falling on Cedars</td>\n",
              "      <td>662</td>\n",
              "      <td>3.252266</td>\n",
              "    </tr>\n",
              "    <tr>\n",
              "      <th>209298</th>\n",
              "      <td>The Summons</td>\n",
              "      <td>655</td>\n",
              "      <td>3.432061</td>\n",
              "    </tr>\n",
              "    <tr>\n",
              "      <th>200253</th>\n",
              "      <td>The Notebook</td>\n",
              "      <td>650</td>\n",
              "      <td>3.560000</td>\n",
              "    </tr>\n",
              "    <tr>\n",
              "      <th>210064</th>\n",
              "      <td>The Testament</td>\n",
              "      <td>617</td>\n",
              "      <td>3.179903</td>\n",
              "    </tr>\n",
              "    <tr>\n",
              "      <th>85957</th>\n",
              "      <td>House of Sand and Fog</td>\n",
              "      <td>588</td>\n",
              "      <td>3.030612</td>\n",
              "    </tr>\n",
              "    <tr>\n",
              "      <th>233370</th>\n",
              "      <td>Where the Heart Is (Oprah's Book Club (Paperba...</td>\n",
              "      <td>585</td>\n",
              "      <td>4.105983</td>\n",
              "    </tr>\n",
              "    <tr>\n",
              "      <th>201692</th>\n",
              "      <td>The Pelican Brief</td>\n",
              "      <td>581</td>\n",
              "      <td>2.611015</td>\n",
              "    </tr>\n",
              "    <tr>\n",
              "      <th>80445</th>\n",
              "      <td>Harry Potter and the Sorcerer's Stone (Harry P...</td>\n",
              "      <td>575</td>\n",
              "      <td>4.895652</td>\n",
              "    </tr>\n",
              "    <tr>\n",
              "      <th>169201</th>\n",
              "      <td>Summer Sisters</td>\n",
              "      <td>573</td>\n",
              "      <td>3.361257</td>\n",
              "    </tr>\n",
              "  </tbody>\n",
              "</table>\n",
              "</div>\n",
              "    <div class=\"colab-df-buttons\">\n",
              "\n",
              "  <div class=\"colab-df-container\">\n",
              "    <button class=\"colab-df-convert\" onclick=\"convertToInteractive('df-5028668a-4828-4e6f-985e-30f63dcc997c')\"\n",
              "            title=\"Convert this dataframe to an interactive table.\"\n",
              "            style=\"display:none;\">\n",
              "\n",
              "  <svg xmlns=\"http://www.w3.org/2000/svg\" height=\"24px\" viewBox=\"0 -960 960 960\">\n",
              "    <path d=\"M120-120v-720h720v720H120Zm60-500h600v-160H180v160Zm220 220h160v-160H400v160Zm0 220h160v-160H400v160ZM180-400h160v-160H180v160Zm440 0h160v-160H620v160ZM180-180h160v-160H180v160Zm440 0h160v-160H620v160Z\"/>\n",
              "  </svg>\n",
              "    </button>\n",
              "\n",
              "  <style>\n",
              "    .colab-df-container {\n",
              "      display:flex;\n",
              "      gap: 12px;\n",
              "    }\n",
              "\n",
              "    .colab-df-convert {\n",
              "      background-color: #E8F0FE;\n",
              "      border: none;\n",
              "      border-radius: 50%;\n",
              "      cursor: pointer;\n",
              "      display: none;\n",
              "      fill: #1967D2;\n",
              "      height: 32px;\n",
              "      padding: 0 0 0 0;\n",
              "      width: 32px;\n",
              "    }\n",
              "\n",
              "    .colab-df-convert:hover {\n",
              "      background-color: #E2EBFA;\n",
              "      box-shadow: 0px 1px 2px rgba(60, 64, 67, 0.3), 0px 1px 3px 1px rgba(60, 64, 67, 0.15);\n",
              "      fill: #174EA6;\n",
              "    }\n",
              "\n",
              "    .colab-df-buttons div {\n",
              "      margin-bottom: 4px;\n",
              "    }\n",
              "\n",
              "    [theme=dark] .colab-df-convert {\n",
              "      background-color: #3B4455;\n",
              "      fill: #D2E3FC;\n",
              "    }\n",
              "\n",
              "    [theme=dark] .colab-df-convert:hover {\n",
              "      background-color: #434B5C;\n",
              "      box-shadow: 0px 1px 3px 1px rgba(0, 0, 0, 0.15);\n",
              "      filter: drop-shadow(0px 1px 2px rgba(0, 0, 0, 0.3));\n",
              "      fill: #FFFFFF;\n",
              "    }\n",
              "  </style>\n",
              "\n",
              "    <script>\n",
              "      const buttonEl =\n",
              "        document.querySelector('#df-5028668a-4828-4e6f-985e-30f63dcc997c button.colab-df-convert');\n",
              "      buttonEl.style.display =\n",
              "        google.colab.kernel.accessAllowed ? 'block' : 'none';\n",
              "\n",
              "      async function convertToInteractive(key) {\n",
              "        const element = document.querySelector('#df-5028668a-4828-4e6f-985e-30f63dcc997c');\n",
              "        const dataTable =\n",
              "          await google.colab.kernel.invokeFunction('convertToInteractive',\n",
              "                                                    [key], {});\n",
              "        if (!dataTable) return;\n",
              "\n",
              "        const docLinkHtml = 'Like what you see? Visit the ' +\n",
              "          '<a target=\"_blank\" href=https://colab.research.google.com/notebooks/data_table.ipynb>data table notebook</a>'\n",
              "          + ' to learn more about interactive tables.';\n",
              "        element.innerHTML = '';\n",
              "        dataTable['output_type'] = 'display_data';\n",
              "        await google.colab.output.renderOutput(dataTable, element);\n",
              "        const docLink = document.createElement('div');\n",
              "        docLink.innerHTML = docLinkHtml;\n",
              "        element.appendChild(docLink);\n",
              "      }\n",
              "    </script>\n",
              "  </div>\n",
              "\n",
              "\n",
              "    <div id=\"df-286f6f8e-97c6-486b-bf25-28015dbf7028\">\n",
              "      <button class=\"colab-df-quickchart\" onclick=\"quickchart('df-286f6f8e-97c6-486b-bf25-28015dbf7028')\"\n",
              "                title=\"Suggest charts\"\n",
              "                style=\"display:none;\">\n",
              "\n",
              "<svg xmlns=\"http://www.w3.org/2000/svg\" height=\"24px\"viewBox=\"0 0 24 24\"\n",
              "     width=\"24px\">\n",
              "    <g>\n",
              "        <path d=\"M19 3H5c-1.1 0-2 .9-2 2v14c0 1.1.9 2 2 2h14c1.1 0 2-.9 2-2V5c0-1.1-.9-2-2-2zM9 17H7v-7h2v7zm4 0h-2V7h2v10zm4 0h-2v-4h2v4z\"/>\n",
              "    </g>\n",
              "</svg>\n",
              "      </button>\n",
              "\n",
              "<style>\n",
              "  .colab-df-quickchart {\n",
              "      --bg-color: #E8F0FE;\n",
              "      --fill-color: #1967D2;\n",
              "      --hover-bg-color: #E2EBFA;\n",
              "      --hover-fill-color: #174EA6;\n",
              "      --disabled-fill-color: #AAA;\n",
              "      --disabled-bg-color: #DDD;\n",
              "  }\n",
              "\n",
              "  [theme=dark] .colab-df-quickchart {\n",
              "      --bg-color: #3B4455;\n",
              "      --fill-color: #D2E3FC;\n",
              "      --hover-bg-color: #434B5C;\n",
              "      --hover-fill-color: #FFFFFF;\n",
              "      --disabled-bg-color: #3B4455;\n",
              "      --disabled-fill-color: #666;\n",
              "  }\n",
              "\n",
              "  .colab-df-quickchart {\n",
              "    background-color: var(--bg-color);\n",
              "    border: none;\n",
              "    border-radius: 50%;\n",
              "    cursor: pointer;\n",
              "    display: none;\n",
              "    fill: var(--fill-color);\n",
              "    height: 32px;\n",
              "    padding: 0;\n",
              "    width: 32px;\n",
              "  }\n",
              "\n",
              "  .colab-df-quickchart:hover {\n",
              "    background-color: var(--hover-bg-color);\n",
              "    box-shadow: 0 1px 2px rgba(60, 64, 67, 0.3), 0 1px 3px 1px rgba(60, 64, 67, 0.15);\n",
              "    fill: var(--button-hover-fill-color);\n",
              "  }\n",
              "\n",
              "  .colab-df-quickchart-complete:disabled,\n",
              "  .colab-df-quickchart-complete:disabled:hover {\n",
              "    background-color: var(--disabled-bg-color);\n",
              "    fill: var(--disabled-fill-color);\n",
              "    box-shadow: none;\n",
              "  }\n",
              "\n",
              "  .colab-df-spinner {\n",
              "    border: 2px solid var(--fill-color);\n",
              "    border-color: transparent;\n",
              "    border-bottom-color: var(--fill-color);\n",
              "    animation:\n",
              "      spin 1s steps(1) infinite;\n",
              "  }\n",
              "\n",
              "  @keyframes spin {\n",
              "    0% {\n",
              "      border-color: transparent;\n",
              "      border-bottom-color: var(--fill-color);\n",
              "      border-left-color: var(--fill-color);\n",
              "    }\n",
              "    20% {\n",
              "      border-color: transparent;\n",
              "      border-left-color: var(--fill-color);\n",
              "      border-top-color: var(--fill-color);\n",
              "    }\n",
              "    30% {\n",
              "      border-color: transparent;\n",
              "      border-left-color: var(--fill-color);\n",
              "      border-top-color: var(--fill-color);\n",
              "      border-right-color: var(--fill-color);\n",
              "    }\n",
              "    40% {\n",
              "      border-color: transparent;\n",
              "      border-right-color: var(--fill-color);\n",
              "      border-top-color: var(--fill-color);\n",
              "    }\n",
              "    60% {\n",
              "      border-color: transparent;\n",
              "      border-right-color: var(--fill-color);\n",
              "    }\n",
              "    80% {\n",
              "      border-color: transparent;\n",
              "      border-right-color: var(--fill-color);\n",
              "      border-bottom-color: var(--fill-color);\n",
              "    }\n",
              "    90% {\n",
              "      border-color: transparent;\n",
              "      border-bottom-color: var(--fill-color);\n",
              "    }\n",
              "  }\n",
              "</style>\n",
              "\n",
              "      <script>\n",
              "        async function quickchart(key) {\n",
              "          const quickchartButtonEl =\n",
              "            document.querySelector('#' + key + ' button');\n",
              "          quickchartButtonEl.disabled = true;  // To prevent multiple clicks.\n",
              "          quickchartButtonEl.classList.add('colab-df-spinner');\n",
              "          try {\n",
              "            const charts = await google.colab.kernel.invokeFunction(\n",
              "                'suggestCharts', [key], {});\n",
              "          } catch (error) {\n",
              "            console.error('Error during call to suggestCharts:', error);\n",
              "          }\n",
              "          quickchartButtonEl.classList.remove('colab-df-spinner');\n",
              "          quickchartButtonEl.classList.add('colab-df-quickchart-complete');\n",
              "        }\n",
              "        (() => {\n",
              "          let quickchartButtonEl =\n",
              "            document.querySelector('#df-286f6f8e-97c6-486b-bf25-28015dbf7028 button');\n",
              "          quickchartButtonEl.style.display =\n",
              "            google.colab.kernel.accessAllowed ? 'block' : 'none';\n",
              "        })();\n",
              "      </script>\n",
              "    </div>\n",
              "\n",
              "  <div id=\"id_b67da705-9dae-46bf-860b-10b77ae34073\">\n",
              "    <style>\n",
              "      .colab-df-generate {\n",
              "        background-color: #E8F0FE;\n",
              "        border: none;\n",
              "        border-radius: 50%;\n",
              "        cursor: pointer;\n",
              "        display: none;\n",
              "        fill: #1967D2;\n",
              "        height: 32px;\n",
              "        padding: 0 0 0 0;\n",
              "        width: 32px;\n",
              "      }\n",
              "\n",
              "      .colab-df-generate:hover {\n",
              "        background-color: #E2EBFA;\n",
              "        box-shadow: 0px 1px 2px rgba(60, 64, 67, 0.3), 0px 1px 3px 1px rgba(60, 64, 67, 0.15);\n",
              "        fill: #174EA6;\n",
              "      }\n",
              "\n",
              "      [theme=dark] .colab-df-generate {\n",
              "        background-color: #3B4455;\n",
              "        fill: #D2E3FC;\n",
              "      }\n",
              "\n",
              "      [theme=dark] .colab-df-generate:hover {\n",
              "        background-color: #434B5C;\n",
              "        box-shadow: 0px 1px 3px 1px rgba(0, 0, 0, 0.15);\n",
              "        filter: drop-shadow(0px 1px 2px rgba(0, 0, 0, 0.3));\n",
              "        fill: #FFFFFF;\n",
              "      }\n",
              "    </style>\n",
              "    <button class=\"colab-df-generate\" onclick=\"generateWithVariable('title_rating')\"\n",
              "            title=\"Generate code using this dataframe.\"\n",
              "            style=\"display:none;\">\n",
              "\n",
              "  <svg xmlns=\"http://www.w3.org/2000/svg\" height=\"24px\"viewBox=\"0 0 24 24\"\n",
              "       width=\"24px\">\n",
              "    <path d=\"M7,19H8.4L18.45,9,17,7.55,7,17.6ZM5,21V16.75L18.45,3.32a2,2,0,0,1,2.83,0l1.4,1.43a1.91,1.91,0,0,1,.58,1.4,1.91,1.91,0,0,1-.58,1.4L9.25,21ZM18.45,9,17,7.55Zm-12,3A5.31,5.31,0,0,0,4.9,8.1,5.31,5.31,0,0,0,1,6.5,5.31,5.31,0,0,0,4.9,4.9,5.31,5.31,0,0,0,6.5,1,5.31,5.31,0,0,0,8.1,4.9,5.31,5.31,0,0,0,12,6.5,5.46,5.46,0,0,0,6.5,12Z\"/>\n",
              "  </svg>\n",
              "    </button>\n",
              "    <script>\n",
              "      (() => {\n",
              "      const buttonEl =\n",
              "        document.querySelector('#id_b67da705-9dae-46bf-860b-10b77ae34073 button.colab-df-generate');\n",
              "      buttonEl.style.display =\n",
              "        google.colab.kernel.accessAllowed ? 'block' : 'none';\n",
              "\n",
              "      buttonEl.onclick = () => {\n",
              "        google.colab.notebook.generateWithVariable('title_rating');\n",
              "      }\n",
              "      })();\n",
              "    </script>\n",
              "  </div>\n",
              "\n",
              "    </div>\n",
              "  </div>\n"
            ],
            "application/vnd.google.colaboratory.intrinsic+json": {
              "type": "dataframe",
              "variable_name": "title_rating",
              "summary": "{\n  \"name\": \"title_rating\",\n  \"rows\": 20,\n  \"fields\": [\n    {\n      \"column\": \"Title\",\n      \"properties\": {\n        \"dtype\": \"string\",\n        \"num_unique_values\": 20,\n        \"samples\": [\n          \"Wild Animus\",\n          \"The Pelican Brief\",\n          \"House of Sand and Fog\"\n        ],\n        \"semantic_type\": \"\",\n        \"description\": \"\"\n      }\n    },\n    {\n      \"column\": \"Count\",\n      \"properties\": {\n        \"dtype\": \"number\",\n        \"std\": 431,\n        \"min\": 573,\n        \"max\": 2502,\n        \"num_unique_values\": 20,\n        \"samples\": [\n          2502,\n          581,\n          588\n        ],\n        \"semantic_type\": \"\",\n        \"description\": \"\"\n      }\n    },\n    {\n      \"column\": \"mean\",\n      \"properties\": {\n        \"dtype\": \"number\",\n        \"std\": 0.8522653452103914,\n        \"min\": 1.0195843325339728,\n        \"max\": 4.895652173913043,\n        \"num_unique_values\": 20,\n        \"samples\": [\n          1.0195843325339728,\n          2.6110154905335627,\n          3.0306122448979593\n        ],\n        \"semantic_type\": \"\",\n        \"description\": \"\"\n      }\n    }\n  ]\n}"
            }
          },
          "metadata": {},
          "execution_count": 25
        }
      ]
    },
    {
      "cell_type": "markdown",
      "source": [
        "***Insight:***\n",
        "\n",
        "Dari hasil pengelompokan data berdasarkan judul buku, ditemukan 20 buku yang paling banyak mendapatkan rating dari pengguna. Buku-buku ini memiliki tingkat popularitas tinggi karena sering dinilai oleh banyak pengguna. Selain itu, informasi rata-rata rating pada masing-masing buku juga membantu mengukur seberapa baik buku tersebut diterima. Data ini sangat berguna untuk mengidentifikasi buku-buku populer dan berkualitas, yang dapat dijadikan prioritas dalam sistem rekomendasi."
      ],
      "metadata": {
        "id": "AEFUTaQV83pP"
      }
    },
    {
      "cell_type": "markdown",
      "source": [
        "# **Data Preparation**"
      ],
      "metadata": {
        "id": "5cxFBHLQ3zJw"
      }
    },
    {
      "cell_type": "markdown",
      "source": [
        "Dalam proyek ini, tahap data preparation dilakukan untuk memastikan bahwa data yang digunakan dalam model rekomendasi berada dalam kondisi optimal. Tujuannya adalah merapikan dan menyesuaikan struktur data mentah agar dapat langsung digunakan oleh model collaborative filtering.\n",
        "\n",
        "Proses pembersihan data dilakukan melalui tiga tahap awal:\n",
        "- Mengecek dan Menangani Duplikat <br>\n",
        "Langkah pertama adalah mengidentifikasi dan menghapus data ganda yang berpotensi mengganggu hasil analisis dan akurasi model.\n",
        "- Mengecek dan Menangani Missing Values <br>\n",
        "Setelah data duplikat dibersihkan, proses dilanjutkan dengan mendeteksi nilai-nilai kosong atau hilang, lalu mengambil tindakan yang sesuai, seperti penghapusan atau imputasi, untuk menjaga integritas data.\n",
        "- Melakukan Sampling Dataset<br>\n",
        "Mengingat ukuran data yang besar, dilakukan sampling untuk mengambil sebagian data yang representatif agar proses pelatihan model lebih efisien dan cepat.\n",
        "\n",
        "Setelah tahapan pembersihan awal, dilanjutkan ke proses preprocessing untuk pendekatan collaborative filtering, yaitu:\n",
        "- Menyalin Data <br>\n",
        "Membuat salinan dataset yang akan diproses khusus untuk kebutuhan model, tanpa memengaruhi data asli.\n",
        "- Melakukan Encoding <br>\n",
        "Mengubah nilai-nilai seperti User_id dan ISBN menjadi format numerik agar dapat dibaca dan diproses oleh algoritma collaborative filtering.\n",
        "- Pembagian Data <br>\n",
        "Membagi dataset yang sudah diproses menjadi data training dan data testing dengan perbandingan 80:20. Data training digunakan untuk melatih model, sedangkan data testing dipakai untuk mengevaluasi performa model pada data yang belum pernah dilihat sebelumnya."
      ],
      "metadata": {
        "id": "a7A9Yt8i-f6m"
      }
    },
    {
      "cell_type": "markdown",
      "source": [
        "## **Mengecek apakah ada data duplikat dari dataset gabungan**"
      ],
      "metadata": {
        "id": "AmEZxW8xt11w"
      }
    },
    {
      "cell_type": "markdown",
      "source": [
        "Tahap ini menghapus data yang sama persis lebih dari satu kali. Duplikasi bisa membuat model belajar dari informasi berulang, sehingga menurunkan akurasi. Dengan menghilangkan duplikat, data jadi lebih bersih dan hasil analisis lebih akurat."
      ],
      "metadata": {
        "id": "66DnnGHYAuFZ"
      }
    },
    {
      "cell_type": "code",
      "source": [
        "# Mengecek jumlah baris duplikat di DataFrame 'data_merged'\n",
        "data_merged.duplicated().sum()"
      ],
      "metadata": {
        "colab": {
          "base_uri": "https://localhost:8080/"
        },
        "id": "H8v2zMZQ5cOm",
        "outputId": "9eced33a-4016-4a97-b17c-3d892d462c13"
      },
      "execution_count": 26,
      "outputs": [
        {
          "output_type": "execute_result",
          "data": {
            "text/plain": [
              "np.int64(0)"
            ]
          },
          "metadata": {},
          "execution_count": 26
        }
      ]
    },
    {
      "cell_type": "markdown",
      "source": [
        "***Insight:***\n",
        "\n",
        "Hasil pengecekan pada DataFrame `data_merged` menunjukkan bahwa tidak terdapat baris duplikat dalam data. Hal ini menandakan bahwa setiap interaksi pengguna terhadap buku bersifat unik, sehingga tidak diperlukan proses penghapusan duplikasi. Ini menjadi indikator positif karena kualitas data sudah cukup baik untuk langsung digunakan dalam tahap analisis atau pembangunan model rekomendasi."
      ],
      "metadata": {
        "id": "xvPvrdgjvjAl"
      }
    },
    {
      "cell_type": "markdown",
      "source": [
        "## **Mengecek dan Menangani Missing Values**"
      ],
      "metadata": {
        "id": "MrcWUcIvVnTy"
      }
    },
    {
      "cell_type": "markdown",
      "source": [
        "Tahap ini bertujuan memastikan data yang digunakan bebas dari nilai kosong atau hilang yang bisa menimbulkan kesalahan atau bias. Dengan menangani missing values, dataset menjadi lebih lengkap dan hasil analisis maupun model prediksi jadi lebih tepat dan dapat diandalkan."
      ],
      "metadata": {
        "id": "Y__mSu1bAweU"
      }
    },
    {
      "cell_type": "code",
      "source": [
        "# Mengecek missing values\n",
        "data_merged.isna().sum()"
      ],
      "metadata": {
        "colab": {
          "base_uri": "https://localhost:8080/",
          "height": 304
        },
        "id": "ITS5Q8K_V3JW",
        "outputId": "02b2a2f6-348b-4a4c-87c0-629170751c25"
      },
      "execution_count": 29,
      "outputs": [
        {
          "output_type": "execute_result",
          "data": {
            "text/plain": [
              "User_id      0\n",
              "ISBN         0\n",
              "Rating       0\n",
              "Title        0\n",
              "Author       2\n",
              "Year         0\n",
              "Publisher    2\n",
              "dtype: int64"
            ],
            "text/html": [
              "<div>\n",
              "<style scoped>\n",
              "    .dataframe tbody tr th:only-of-type {\n",
              "        vertical-align: middle;\n",
              "    }\n",
              "\n",
              "    .dataframe tbody tr th {\n",
              "        vertical-align: top;\n",
              "    }\n",
              "\n",
              "    .dataframe thead th {\n",
              "        text-align: right;\n",
              "    }\n",
              "</style>\n",
              "<table border=\"1\" class=\"dataframe\">\n",
              "  <thead>\n",
              "    <tr style=\"text-align: right;\">\n",
              "      <th></th>\n",
              "      <th>0</th>\n",
              "    </tr>\n",
              "  </thead>\n",
              "  <tbody>\n",
              "    <tr>\n",
              "      <th>User_id</th>\n",
              "      <td>0</td>\n",
              "    </tr>\n",
              "    <tr>\n",
              "      <th>ISBN</th>\n",
              "      <td>0</td>\n",
              "    </tr>\n",
              "    <tr>\n",
              "      <th>Rating</th>\n",
              "      <td>0</td>\n",
              "    </tr>\n",
              "    <tr>\n",
              "      <th>Title</th>\n",
              "      <td>0</td>\n",
              "    </tr>\n",
              "    <tr>\n",
              "      <th>Author</th>\n",
              "      <td>2</td>\n",
              "    </tr>\n",
              "    <tr>\n",
              "      <th>Year</th>\n",
              "      <td>0</td>\n",
              "    </tr>\n",
              "    <tr>\n",
              "      <th>Publisher</th>\n",
              "      <td>2</td>\n",
              "    </tr>\n",
              "  </tbody>\n",
              "</table>\n",
              "</div><br><label><b>dtype:</b> int64</label>"
            ]
          },
          "metadata": {},
          "execution_count": 29
        }
      ]
    },
    {
      "cell_type": "code",
      "source": [
        "# Menghapus baris yang memiliki missing values pada kolom 'Author' dan 'Publisher'\n",
        "data_merged.dropna(subset=['Author', 'Publisher'], inplace=True)"
      ],
      "metadata": {
        "id": "5igc0W7qbROV"
      },
      "execution_count": 30,
      "outputs": []
    },
    {
      "cell_type": "code",
      "source": [
        "# Mengecek kembali untuk memastikan tidak ada missing values yang tersisa\n",
        "data_merged.isna().sum()"
      ],
      "metadata": {
        "colab": {
          "base_uri": "https://localhost:8080/",
          "height": 304
        },
        "id": "Lb4nSQ9pbfre",
        "outputId": "69598ff6-a98f-4e2b-da37-6a12c03ab196"
      },
      "execution_count": 31,
      "outputs": [
        {
          "output_type": "execute_result",
          "data": {
            "text/plain": [
              "User_id      0\n",
              "ISBN         0\n",
              "Rating       0\n",
              "Title        0\n",
              "Author       0\n",
              "Year         0\n",
              "Publisher    0\n",
              "dtype: int64"
            ],
            "text/html": [
              "<div>\n",
              "<style scoped>\n",
              "    .dataframe tbody tr th:only-of-type {\n",
              "        vertical-align: middle;\n",
              "    }\n",
              "\n",
              "    .dataframe tbody tr th {\n",
              "        vertical-align: top;\n",
              "    }\n",
              "\n",
              "    .dataframe thead th {\n",
              "        text-align: right;\n",
              "    }\n",
              "</style>\n",
              "<table border=\"1\" class=\"dataframe\">\n",
              "  <thead>\n",
              "    <tr style=\"text-align: right;\">\n",
              "      <th></th>\n",
              "      <th>0</th>\n",
              "    </tr>\n",
              "  </thead>\n",
              "  <tbody>\n",
              "    <tr>\n",
              "      <th>User_id</th>\n",
              "      <td>0</td>\n",
              "    </tr>\n",
              "    <tr>\n",
              "      <th>ISBN</th>\n",
              "      <td>0</td>\n",
              "    </tr>\n",
              "    <tr>\n",
              "      <th>Rating</th>\n",
              "      <td>0</td>\n",
              "    </tr>\n",
              "    <tr>\n",
              "      <th>Title</th>\n",
              "      <td>0</td>\n",
              "    </tr>\n",
              "    <tr>\n",
              "      <th>Author</th>\n",
              "      <td>0</td>\n",
              "    </tr>\n",
              "    <tr>\n",
              "      <th>Year</th>\n",
              "      <td>0</td>\n",
              "    </tr>\n",
              "    <tr>\n",
              "      <th>Publisher</th>\n",
              "      <td>0</td>\n",
              "    </tr>\n",
              "  </tbody>\n",
              "</table>\n",
              "</div><br><label><b>dtype:</b> int64</label>"
            ]
          },
          "metadata": {},
          "execution_count": 31
        }
      ]
    },
    {
      "cell_type": "markdown",
      "source": [
        "***Insight:***\n",
        "\n",
        "Dari hasil pemeriksaan, ditemukan adanya missing values sebanyak 2 entri pada kolom Author dan Publisher. Untuk menjaga konsistensi dan kualitas data, baris-baris tersebut dihapus. Setelah proses pembersihan dilakukan, pengecekan ulang memastikan bahwa seluruh kolom kini bebas dari nilai yang hilang, sehingga data siap digunakan untuk proses analisis dan pemodelan lebih lanjut."
      ],
      "metadata": {
        "id": "4wF6jW1H_1qJ"
      }
    },
    {
      "cell_type": "markdown",
      "source": [
        "## **Melakukan Sampling Dataset**"
      ],
      "metadata": {
        "id": "apGtdKSA_918"
      }
    },
    {
      "cell_type": "markdown",
      "source": [
        "Tahap ini mengambil sampel acak sebanyak `500.000 baris` dari dataset agar proses eksplorasi, pelatihan, dan evaluasi bisa berjalan lebih cepat dan efisien. Pengaturan `random_state=42` memastikan hasil sampling sama setiap kali dijalankan, sehingga eksperimen menjadi konsisten."
      ],
      "metadata": {
        "id": "8gpFdeJyA6oo"
      }
    },
    {
      "cell_type": "code",
      "source": [
        "data_small = data_merged.sample(500000, random_state=42).copy()"
      ],
      "metadata": {
        "id": "j5gCLdRNf7Nc"
      },
      "execution_count": 32,
      "outputs": []
    },
    {
      "cell_type": "markdown",
      "source": [
        "Dataframe `data_small` berhasil dibuat dengan mengambil 500.000 sampel dari data asli. Dengan ukuran yang lebih kecil ini, proses eksplorasi data dan pemodelan dapat dilakukan lebih cepat dan efisien. Meskipun jumlah data dikurangi, kualitas analisis tetap terjaga karena sampel yang diambil mewakili keseluruhan dataset secara acak dan konsisten.\n",
        "\n",
        "\n",
        "\n",
        "\n",
        "\n",
        "\n",
        "\n"
      ],
      "metadata": {
        "id": "utlVZeBXBEcH"
      }
    },
    {
      "cell_type": "markdown",
      "source": [
        "## **Menyalin Data dan Melakukan Encoding**"
      ],
      "metadata": {
        "id": "FjR9i2xUBihm"
      }
    },
    {
      "cell_type": "markdown",
      "source": [
        "Pada tahap ini dilakukan penyalinan data untuk memastikan proses pemodelan tidak mengubah data asli. Selanjutnya, dilakukan encoding terhadap kolom seperti User_id dan ISBN menjadi format numerik agar dapat dikenali dan diproses dengan baik oleh algoritma collaborative filtering."
      ],
      "metadata": {
        "id": "ZNHs8BL2CvPv"
      }
    },
    {
      "cell_type": "code",
      "source": [
        "# Salin data untuk collaborative filtering\n",
        "cf_df = data_small.copy()\n",
        "\n",
        "# Encode user dan ISBN\n",
        "user_ids = cf_df['User_id'].unique().tolist()\n",
        "user_to_user_encoded = {x: i for i, x in enumerate(user_ids)}\n",
        "user_encoded_to_user = {i: x for i, x in enumerate(user_ids)}\n",
        "\n",
        "book_ids = cf_df['ISBN'].unique().tolist()\n",
        "book_to_book_encoded = {x: i for i, x in enumerate(book_ids)}\n",
        "book_encoded_to_book = {i: x for i, x in enumerate(book_ids)}\n",
        "\n",
        "cf_df['user'] = cf_df['User_id'].map(user_to_user_encoded)\n",
        "cf_df['book'] = cf_df['ISBN'].map(book_to_book_encoded)\n",
        "\n",
        "# Variabel tambahan\n",
        "num_users = len(user_to_user_encoded)\n",
        "num_books = len(book_encoded_to_book)\n",
        "min_rating = cf_df['Rating'].min()\n",
        "max_rating = cf_df['Rating'].max()\n",
        "\n",
        "print(f'Users: {num_users}, Books: {num_books}, Rating range: {min_rating}–{max_rating}')"
      ],
      "metadata": {
        "colab": {
          "base_uri": "https://localhost:8080/"
        },
        "id": "HgcWXXJUZUf0",
        "outputId": "5e71b236-1de6-4e1b-b28d-fedea22b905b"
      },
      "execution_count": 33,
      "outputs": [
        {
          "output_type": "stream",
          "name": "stdout",
          "text": [
            "Users: 61584, Books: 177748, Rating range: 0–10\n"
          ]
        }
      ]
    },
    {
      "cell_type": "markdown",
      "source": [
        "***Insight:***\n",
        "\n",
        "Dari hasil encoding data, diketahui terdapat `61.584` pengguna unik dan `177.748` buku unik dalam dataset. Ini menunjukkan skala data yang cukup besar dan bervariasi, yang menjadi dasar yang baik untuk membangun sistem rekomendasi berbasis collaborative filtering. Rentang rating yang ditemukan adalah dari `0 hingga 10`, yang memberi fleksibilitas model dalam mempelajari preferensi pengguna secara lebih detail. Informasi ini juga penting untuk menentukan strategi normalisasi atau penyesuaian skala rating selama proses pelatihan model."
      ],
      "metadata": {
        "id": "vR2bM_44DOmC"
      }
    },
    {
      "cell_type": "markdown",
      "source": [
        "## **Pembagian Data**"
      ],
      "metadata": {
        "id": "yFiZwQudDV2N"
      }
    },
    {
      "cell_type": "markdown",
      "source": [
        "Pada tahap pembagian data, dataset yang telah diproses dibagi menjadi dua bagian, yaitu data training dan data testing dengan rasio 80:20. Data training berfungsi sebagai bahan pembelajaran bagi model untuk mengenali pola dan hubungan antara pengguna dan buku berdasarkan rating yang diberikan. Sementara itu, data testing digunakan untuk menguji seberapa baik model dapat melakukan prediksi terhadap data yang belum pernah dilihat sebelumnya. Pembagian ini penting untuk menilai kemampuan generalisasi model secara objektif."
      ],
      "metadata": {
        "id": "1rLOHyH0Di6E"
      }
    },
    {
      "cell_type": "code",
      "source": [
        "x = cf_df[['user', 'book']].values\n",
        "y = cf_df['Rating'].apply(lambda x: (x - min_rating) / (max_rating - min_rating)).values\n",
        "\n",
        "x_train, x_val, y_train, y_val = train_test_split(x, y, test_size=0.2, random_state=42)"
      ],
      "metadata": {
        "id": "_CiVGydhdbtb"
      },
      "execution_count": 34,
      "outputs": []
    },
    {
      "cell_type": "markdown",
      "source": [
        "***Insight:***\n",
        "\n",
        "Pembagian data menjadi 80% training dan 20% testing memungkinkan proses pelatihan model berjalan dengan cukup data untuk memahami pola rekomendasi, sekaligus memberikan ruang evaluasi yang cukup untuk mengukur performa model. Dengan pendekatan ini, kita dapat memastikan bahwa model tidak hanya hafal data training, tetapi juga mampu memberikan prediksi yang akurat pada data baru, yang merupakan inti dari sistem rekomendasi yang efektif."
      ],
      "metadata": {
        "id": "pKzrEzg-D3e8"
      }
    },
    {
      "cell_type": "markdown",
      "source": [
        "# **Model Development**"
      ],
      "metadata": {
        "id": "pXwt7P8n75G3"
      }
    },
    {
      "cell_type": "markdown",
      "source": [
        "Pada tahap ini, fokus utama adalah mengembangkan sistem rekomendasi buku dengan menggunakan pendekatan `Collaborative Filtering`. Pendekatan ini bekerja dengan cara menganalisis pola interaksi antara pengguna dan buku — khususnya dari data rating yang diberikan — untuk memahami kesamaan preferensi antar pengguna. Dengan memahami pola tersebut, sistem dapat menyarankan buku-buku yang belum pernah dibaca oleh seorang pengguna, namun dinilai tinggi oleh pengguna lain yang memiliki kesukaan serupa, sehingga menghasilkan rekomendasi yang bersifat lebih personal dan relevan."
      ],
      "metadata": {
        "id": "4YsumfQDEUd3"
      }
    },
    {
      "cell_type": "markdown",
      "source": [
        "## **Collaborative Filtering**"
      ],
      "metadata": {
        "id": "-IzKibVQZQXc"
      }
    },
    {
      "cell_type": "markdown",
      "source": [
        "### **Proses Training**"
      ],
      "metadata": {
        "id": "U9aewt45EGBV"
      }
    },
    {
      "cell_type": "code",
      "source": [
        "class RecommenderNet(tf.keras.Model):\n",
        "    def __init__(self, num_users, num_books, embedding_size, **kwargs):\n",
        "        super(RecommenderNet, self).__init__(**kwargs)\n",
        "        self.user_embedding = layers.Embedding(\n",
        "            num_users, embedding_size,\n",
        "            embeddings_initializer='he_normal',\n",
        "            embeddings_regularizer=keras.regularizers.l2(1e-6)\n",
        "        )\n",
        "        self.user_bias = layers.Embedding(num_users, 1)\n",
        "\n",
        "        self.book_embedding = layers.Embedding(\n",
        "            num_books, embedding_size,\n",
        "            embeddings_initializer='he_normal',\n",
        "            embeddings_regularizer=keras.regularizers.l2(1e-6)\n",
        "        )\n",
        "        self.book_bias = layers.Embedding(num_books, 1)\n",
        "\n",
        "    def call(self, inputs):\n",
        "        user_vector = self.user_embedding(inputs[:, 0])\n",
        "        user_bias = self.user_bias(inputs[:, 0])\n",
        "        book_vector = self.book_embedding(inputs[:, 1])\n",
        "        book_bias = self.book_bias(inputs[:, 1])\n",
        "\n",
        "        dot_user_book = tf.tensordot(user_vector, book_vector, 2)\n",
        "        x = dot_user_book + user_bias + book_bias\n",
        "        return tf.nn.sigmoid(x)"
      ],
      "metadata": {
        "id": "3VJZUXoNdgoU"
      },
      "execution_count": 35,
      "outputs": []
    },
    {
      "cell_type": "code",
      "source": [
        "model = RecommenderNet(num_users, num_books, embedding_size=50)\n",
        "model.compile(\n",
        "    loss=tf.keras.losses.BinaryCrossentropy(),\n",
        "    optimizer=keras.optimizers.Adam(learning_rate=0.001),\n",
        "    metrics=[tf.keras.metrics.RootMeanSquaredError()]\n",
        ")\n",
        "\n",
        "history = model.fit(\n",
        "    x_train, y_train,\n",
        "    batch_size=256,\n",
        "    epochs=8,\n",
        "    validation_data=(x_val, y_val)\n",
        ")"
      ],
      "metadata": {
        "colab": {
          "base_uri": "https://localhost:8080/"
        },
        "id": "aQYLeF2vdhZw",
        "outputId": "3e53254d-67a3-47b8-d754-d94dec26ae80"
      },
      "execution_count": 38,
      "outputs": [
        {
          "output_type": "stream",
          "name": "stdout",
          "text": [
            "Epoch 1/8\n",
            "\u001b[1m1563/1563\u001b[0m \u001b[32m━━━━━━━━━━━━━━━━━━━━\u001b[0m\u001b[37m\u001b[0m \u001b[1m16s\u001b[0m 8ms/step - loss: 0.6394 - root_mean_squared_error: 0.4110 - val_loss: 0.5684 - val_root_mean_squared_error: 0.3677\n",
            "Epoch 2/8\n",
            "\u001b[1m1563/1563\u001b[0m \u001b[32m━━━━━━━━━━━━━━━━━━━━\u001b[0m\u001b[37m\u001b[0m \u001b[1m17s\u001b[0m 6ms/step - loss: 0.5669 - root_mean_squared_error: 0.3668 - val_loss: 0.5933 - val_root_mean_squared_error: 0.3792\n",
            "Epoch 3/8\n",
            "\u001b[1m1563/1563\u001b[0m \u001b[32m━━━━━━━━━━━━━━━━━━━━\u001b[0m\u001b[37m\u001b[0m \u001b[1m9s\u001b[0m 6ms/step - loss: 0.5826 - root_mean_squared_error: 0.3721 - val_loss: 0.5903 - val_root_mean_squared_error: 0.3749\n",
            "Epoch 4/8\n",
            "\u001b[1m1563/1563\u001b[0m \u001b[32m━━━━━━━━━━━━━━━━━━━━\u001b[0m\u001b[37m\u001b[0m \u001b[1m9s\u001b[0m 6ms/step - loss: 0.6399 - root_mean_squared_error: 0.3928 - val_loss: 0.6019 - val_root_mean_squared_error: 0.3788\n",
            "Epoch 5/8\n",
            "\u001b[1m1563/1563\u001b[0m \u001b[32m━━━━━━━━━━━━━━━━━━━━\u001b[0m\u001b[37m\u001b[0m \u001b[1m10s\u001b[0m 6ms/step - loss: 0.8371 - root_mean_squared_error: 0.4675 - val_loss: 0.6050 - val_root_mean_squared_error: 0.3703\n",
            "Epoch 6/8\n",
            "\u001b[1m1563/1563\u001b[0m \u001b[32m━━━━━━━━━━━━━━━━━━━━\u001b[0m\u001b[37m\u001b[0m \u001b[1m10s\u001b[0m 6ms/step - loss: 1.1891 - root_mean_squared_error: 0.4443 - val_loss: 0.7310 - val_root_mean_squared_error: 0.4391\n",
            "Epoch 7/8\n",
            "\u001b[1m1563/1563\u001b[0m \u001b[32m━━━━━━━━━━━━━━━━━━━━\u001b[0m\u001b[37m\u001b[0m \u001b[1m10s\u001b[0m 6ms/step - loss: 3.7681 - root_mean_squared_error: 0.7148 - val_loss: 0.8480 - val_root_mean_squared_error: 0.4225\n",
            "Epoch 8/8\n",
            "\u001b[1m1563/1563\u001b[0m \u001b[32m━━━━━━━━━━━━━━━━━━━━\u001b[0m\u001b[37m\u001b[0m \u001b[1m10s\u001b[0m 6ms/step - loss: 1.9341 - root_mean_squared_error: 0.4583 - val_loss: 0.6195 - val_root_mean_squared_error: 0.3812\n"
          ]
        }
      ]
    },
    {
      "cell_type": "markdown",
      "source": [
        "***Insight:***\n",
        "\n",
        "Hasil pelatihan selama 8 epoch menunjukkan bahwa model mencapai performa validasi terbaik pada epoch pertama dengan RMSE validasi sebesar 0.3677. Setelah itu, performa mulai menurun secara bertahap, yang mengindikasikan adanya overfitting. Hal ini terlihat jelas pada epoch 6 dan 7, di mana nilai loss dan RMSE meningkat tajam, menunjukkan bahwa model tidak lagi belajar dengan optimal dari data. Di akhir pelatihan (epoch 8), performa validasi sedikit membaik, namun tetap belum melebihi performa awal."
      ],
      "metadata": {
        "id": "6kvpZUWfGjwa"
      }
    },
    {
      "cell_type": "markdown",
      "source": [
        "# **Evaluasi Model**"
      ],
      "metadata": {
        "id": "_4q-DkX2ifi_"
      }
    },
    {
      "cell_type": "markdown",
      "source": [
        "Pada tahap ini, proses evaluasi dilakukan untuk menilai sejauh mana model Collaborative Filtering mampu memberikan rekomendasi buku yang sesuai dengan preferensi pengguna. Evaluasi ini menjadi langkah penting untuk mengetahui akurasi dan efektivitas model dalam memprediksi rating atau ketertarikan pengguna terhadap buku-buku yang belum pernah mereka baca."
      ],
      "metadata": {
        "id": "J-f8Sp41Jc_i"
      }
    },
    {
      "cell_type": "markdown",
      "source": [
        "# **Metrik Visualisasi**"
      ],
      "metadata": {
        "id": "uTaqViAVH76Z"
      }
    },
    {
      "cell_type": "code",
      "source": [
        "plt.plot(history.history['root_mean_squared_error'])\n",
        "plt.plot(history.history['val_root_mean_squared_error'])\n",
        "plt.title('Model Performance')\n",
        "plt.ylabel('Root Mean Squared Error')\n",
        "plt.xlabel('Epoch')\n",
        "plt.legend(['Train', 'Validation'], loc='upper right')\n",
        "plt.grid(True)\n",
        "plt.show()"
      ],
      "metadata": {
        "colab": {
          "base_uri": "https://localhost:8080/",
          "height": 472
        },
        "id": "i1RzyNSqiBZf",
        "outputId": "4cdb993c-ca1b-4623-dd5f-6dc9560f8576"
      },
      "execution_count": 39,
      "outputs": [
        {
          "output_type": "display_data",
          "data": {
            "text/plain": [
              "<Figure size 640x480 with 1 Axes>"
            ],
            "image/png": "[encoded data removed]"
          },
          "metadata": {}
        }
      ]
    },
    {
      "cell_type": "markdown",
      "source": [
        "***Insight:***\n",
        "\n",
        "Berdasarkan visualisasi metrik Model Performance, terlihat bahwa model mengalami overfitting mulai dari epoch ke-5, ditandai dengan penurunan RMSE train namun peningkatan RMSE validation. Hal ini menunjukkan bahwa model mulai terlalu spesifik mempelajari pola data latih dan kehilangan kemampuan generalisasi pada data baru. Epoch ke-4 menjadi titik optimal di mana performa model masih stabil dan seimbang antara data latih dan validasi."
      ],
      "metadata": {
        "id": "j-1nD9AnI1Vd"
      }
    },
    {
      "cell_type": "markdown",
      "source": [
        "## **Mendapatkan Rekomendasi Buku**"
      ],
      "metadata": {
        "id": "DPtCDW7VJkm7"
      }
    },
    {
      "cell_type": "code",
      "source": [
        "def recommend_books_for_user(user_id, model, cf_df, user_to_user_encoded, user_encoded_to_user,\n",
        "                             book_to_book_encoded, book_encoded_to_book, top_k=10):\n",
        "\n",
        "    if user_id not in user_to_user_encoded:\n",
        "        print(f\"User {user_id} tidak ditemukan di data training.\")\n",
        "        return []\n",
        "\n",
        "    user_encoded = user_to_user_encoded[user_id]\n",
        "\n",
        "    # Buku yang sudah dibaca user\n",
        "    books_read = cf_df[cf_df['User_id'] == user_id]['ISBN'].unique()\n",
        "    books_not_read = [isbn for isbn in book_to_book_encoded.keys() if isbn not in books_read]\n",
        "    books_not_read_encoded = [book_to_book_encoded[isbn] for isbn in books_not_read]\n",
        "\n",
        "    user_array = np.array([user_encoded] * len(books_not_read_encoded))\n",
        "    book_array = np.array(books_not_read_encoded)\n",
        "    input_array = np.vstack((user_array, book_array)).T\n",
        "\n",
        "    # Prediksi rating\n",
        "    pred_ratings = model.predict(input_array, verbose=0).flatten()\n",
        "\n",
        "    top_indices = pred_ratings.argsort()[-top_k:][::-1]\n",
        "    top_book_encoded = [books_not_read_encoded[i] for i in top_indices]\n",
        "    top_book_isbn = [book_encoded_to_book[i] for i in top_book_encoded]\n",
        "\n",
        "    print(f\"\\nRekomendasi {top_k} buku untuk user {user_id}:\\n\")\n",
        "\n",
        "    for isbn in top_book_isbn:\n",
        "        title_row = cf_df[cf_df['ISBN'] == isbn]['Title']\n",
        "        title = title_row.values[0] if not title_row.empty else \"Judul tidak ditemukan\"\n",
        "        print(f\"- {title}\")\n",
        "\n",
        "    return top_book_isbn"
      ],
      "metadata": {
        "id": "9XSaMLeIjIJ8"
      },
      "execution_count": 40,
      "outputs": []
    },
    {
      "cell_type": "code",
      "source": [
        "user_sample = cf_df['User_id'].sample(1).iloc[0]\n",
        "\n",
        "recommend_books_for_user(\n",
        "    user_sample,\n",
        "    model,\n",
        "    cf_df,\n",
        "    user_to_user_encoded,\n",
        "    user_encoded_to_user,\n",
        "    book_to_book_encoded,\n",
        "    book_encoded_to_book,\n",
        "    top_k=10\n",
        ")"
      ],
      "metadata": {
        "colab": {
          "base_uri": "https://localhost:8080/"
        },
        "id": "QFp-HWT0jPvu",
        "outputId": "da6a7010-d48c-4fca-f035-99e34180a2bd"
      },
      "execution_count": 41,
      "outputs": [
        {
          "output_type": "stream",
          "name": "stdout",
          "text": [
            "\n",
            "Rekomendasi 10 buku untuk user 52293:\n",
            "\n",
            "- Free\n",
            "- Harry Potter and the Chamber of Secrets (Book 2)\n",
            "- Harry Potter and the Goblet of Fire (Book 4)\n",
            "- The Great Gatsby\n",
            "- Harry Potter and the Sorcerer's Stone (Book 1)\n",
            "- The Secret Life of Bees\n",
            "- The Lovely Bones: A Novel\n",
            "- Harry Potter and the Prisoner of Azkaban (Book 3)\n",
            "- Harry Potter and the Sorcerer's Stone (Harry Potter (Paperback))\n",
            "- Anne Frank: The Diary of a Young Girl\n"
          ]
        },
        {
          "output_type": "execute_result",
          "data": {
            "text/plain": [
              "['1844262553',\n",
              " '0439064864',\n",
              " '0439139597',\n",
              " '0684801523',\n",
              " '0590353403',\n",
              " '0670894605',\n",
              " '0316666343',\n",
              " '0439136350',\n",
              " '059035342X',\n",
              " '0553296981']"
            ]
          },
          "metadata": {},
          "execution_count": 41
        }
      ]
    },
    {
      "cell_type": "markdown",
      "source": [
        "***Insight:***\n",
        "\n",
        "Model berhasil memberikan rekomendasi buku yang tampaknya sangat relevan dengan minat pengguna. Hal ini terlihat dari dominasi seri Harry Potter, yang muncul sebanyak lima judul berbeda, menunjukkan bahwa pengguna kemungkinan memiliki preferensi kuat terhadap genre fantasi atau fiksi populer. Selain itu, buku-buku lain yang direkomendasikan seperti The Great Gatsby, The Secret Life of Bees, dan Anne Frank: The Diary of a Young Girl menunjukkan kecenderungan terhadap bacaan klasik dan novel dengan nilai historis atau emosional yang kuat. Rekomendasi ini mengindikasikan bahwa model Collaborative Filtering mampu menangkap pola preferensi pengguna melalui kesamaan rating dengan pengguna lain yang memiliki ketertarikan serupa. Secara keseluruhan, hasil rekomendasi sudah cukup personal dan relevan dengan karakteristik pengguna."
      ],
      "metadata": {
        "id": "6Ih1gv0JKIWB"
      }
    }
  ]
}